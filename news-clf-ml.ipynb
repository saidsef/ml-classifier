{
 "cells": [
  {
   "cell_type": "code",
   "execution_count": 1,
   "metadata": {},
   "outputs": [],
   "source": [
    "import pickle\n",
    "import numpy as np\n",
    "import pandas as pd\n",
    "import numpy as np\n",
    "import matplotlib.pyplot as plt\n",
    "from sklearn.feature_selection import chi2\n",
    "from requests import get\n",
    "from sklearn.model_selection import train_test_split\n",
    "from sklearn.feature_extraction.text import CountVectorizer\n",
    "from sklearn.feature_extraction.text import TfidfTransformer\n",
    "from sklearn.naive_bayes import MultinomialNB\n",
    "from sklearn.linear_model import LinearRegression\n",
    "from sklearn.preprocessing import PolynomialFeatures, FunctionTransformer, StandardScaler\n",
    "from sklearn.linear_model import LogisticRegression\n",
    "from sklearn.ensemble import RandomForestClassifier\n",
    "from sklearn.svm import LinearSVC\n",
    "from sklearn.model_selection import cross_val_score\n",
    "from sklearn.pipeline import make_pipeline\n",
    "from sklearn.feature_extraction.text import TfidfVectorizer"
   ]
  },
  {
   "cell_type": "code",
   "execution_count": 2,
   "metadata": {},
   "outputs": [],
   "source": [
    "news = get('http://localhost:9200/slashnews/scraped/_search?sort=date:desc&size=5000').json()"
   ]
  },
  {
   "cell_type": "code",
   "execution_count": 3,
   "metadata": {},
   "outputs": [],
   "source": [
    "df = pd.io.json.json_normalize(news['hits']['hits'])"
   ]
  },
  {
   "cell_type": "code",
   "execution_count": 4,
   "metadata": {},
   "outputs": [
    {
     "data": {
      "text/html": [
       "<div>\n",
       "<style scoped>\n",
       "    .dataframe tbody tr th:only-of-type {\n",
       "        vertical-align: middle;\n",
       "    }\n",
       "\n",
       "    .dataframe tbody tr th {\n",
       "        vertical-align: top;\n",
       "    }\n",
       "\n",
       "    .dataframe thead th {\n",
       "        text-align: right;\n",
       "    }\n",
       "</style>\n",
       "<table border=\"1\" class=\"dataframe\">\n",
       "  <thead>\n",
       "    <tr style=\"text-align: right;\">\n",
       "      <th></th>\n",
       "      <th>0</th>\n",
       "    </tr>\n",
       "  </thead>\n",
       "  <tbody>\n",
       "    <tr>\n",
       "      <th>_id</th>\n",
       "      <td>c745f225-011c-5b49-bc91-87633a2e5ea7</td>\n",
       "    </tr>\n",
       "    <tr>\n",
       "      <th>_index</th>\n",
       "      <td>slashnews</td>\n",
       "    </tr>\n",
       "    <tr>\n",
       "      <th>_score</th>\n",
       "      <td>None</td>\n",
       "    </tr>\n",
       "    <tr>\n",
       "      <th>_source.body</th>\n",
       "      <td>By the time Donald J. Trump threw in the towel...</td>\n",
       "    </tr>\n",
       "    <tr>\n",
       "      <th>_source.categories</th>\n",
       "      <td>News</td>\n",
       "    </tr>\n",
       "    <tr>\n",
       "      <th>_source.date</th>\n",
       "      <td>2018-06-29T15:54:29.000Z</td>\n",
       "    </tr>\n",
       "    <tr>\n",
       "      <th>_source.language</th>\n",
       "      <td>English</td>\n",
       "    </tr>\n",
       "    <tr>\n",
       "      <th>_source.link</th>\n",
       "      <td>https://mondediplo.com/openpage/a-children-s-g...</td>\n",
       "    </tr>\n",
       "    <tr>\n",
       "      <th>_source.source</th>\n",
       "      <td>MondeDiplo</td>\n",
       "    </tr>\n",
       "    <tr>\n",
       "      <th>_source.subject</th>\n",
       "      <td>A children's Gitmo on the border</td>\n",
       "    </tr>\n",
       "    <tr>\n",
       "      <th>_type</th>\n",
       "      <td>scraped</td>\n",
       "    </tr>\n",
       "    <tr>\n",
       "      <th>sort</th>\n",
       "      <td>[1530287669000]</td>\n",
       "    </tr>\n",
       "  </tbody>\n",
       "</table>\n",
       "</div>"
      ],
      "text/plain": [
       "                                                                    0\n",
       "_id                              c745f225-011c-5b49-bc91-87633a2e5ea7\n",
       "_index                                                      slashnews\n",
       "_score                                                           None\n",
       "_source.body        By the time Donald J. Trump threw in the towel...\n",
       "_source.categories                                               News\n",
       "_source.date                                 2018-06-29T15:54:29.000Z\n",
       "_source.language                                              English\n",
       "_source.link        https://mondediplo.com/openpage/a-children-s-g...\n",
       "_source.source                                             MondeDiplo\n",
       "_source.subject                      A children's Gitmo on the border\n",
       "_type                                                         scraped\n",
       "sort                                                  [1530287669000]"
      ]
     },
     "execution_count": 4,
     "metadata": {},
     "output_type": "execute_result"
    }
   ],
   "source": [
    "df.head(1).T"
   ]
  },
  {
   "cell_type": "markdown",
   "metadata": {},
   "source": [
    "## Common issues that we generally face during the data preparation phase:\n",
    " - Format and structure normalization\n",
    " - Detect and fix missing values\n",
    " - Duplicates removal\n",
    " - Units normalization\n",
    " - Constraints validations\n",
    " - Anomaly detection and removal\n",
    " - Study of features importance/relevance\n",
    " - Dimentional reduction, feature selection & extraction"
   ]
  },
  {
   "cell_type": "code",
   "execution_count": 5,
   "metadata": {},
   "outputs": [],
   "source": [
    "df = df[['_source.body', '_source.subject', '_source.language', '_source.categories']]"
   ]
  },
  {
   "cell_type": "code",
   "execution_count": 6,
   "metadata": {},
   "outputs": [
    {
     "data": {
      "text/html": [
       "<div>\n",
       "<style scoped>\n",
       "    .dataframe tbody tr th:only-of-type {\n",
       "        vertical-align: middle;\n",
       "    }\n",
       "\n",
       "    .dataframe tbody tr th {\n",
       "        vertical-align: top;\n",
       "    }\n",
       "\n",
       "    .dataframe thead th {\n",
       "        text-align: right;\n",
       "    }\n",
       "</style>\n",
       "<table border=\"1\" class=\"dataframe\">\n",
       "  <thead>\n",
       "    <tr style=\"text-align: right;\">\n",
       "      <th></th>\n",
       "      <th>0</th>\n",
       "    </tr>\n",
       "  </thead>\n",
       "  <tbody>\n",
       "    <tr>\n",
       "      <th>_source.body</th>\n",
       "      <td>By the time Donald J. Trump threw in the towel...</td>\n",
       "    </tr>\n",
       "    <tr>\n",
       "      <th>_source.subject</th>\n",
       "      <td>A children's Gitmo on the border</td>\n",
       "    </tr>\n",
       "    <tr>\n",
       "      <th>_source.language</th>\n",
       "      <td>English</td>\n",
       "    </tr>\n",
       "    <tr>\n",
       "      <th>_source.categories</th>\n",
       "      <td>News</td>\n",
       "    </tr>\n",
       "  </tbody>\n",
       "</table>\n",
       "</div>"
      ],
      "text/plain": [
       "                                                                    0\n",
       "_source.body        By the time Donald J. Trump threw in the towel...\n",
       "_source.subject                      A children's Gitmo on the border\n",
       "_source.language                                              English\n",
       "_source.categories                                               News"
      ]
     },
     "execution_count": 6,
     "metadata": {},
     "output_type": "execute_result"
    }
   ],
   "source": [
    "df.head(1).T"
   ]
  },
  {
   "cell_type": "code",
   "execution_count": 7,
   "metadata": {},
   "outputs": [],
   "source": [
    "df.columns = ['body', 'subject', 'language', 'categories']\n",
    "df = df[pd.notnull(df['body'])]"
   ]
  },
  {
   "cell_type": "code",
   "execution_count": 8,
   "metadata": {},
   "outputs": [
    {
     "data": {
      "text/plain": [
       "body          4992\n",
       "subject       4992\n",
       "language      4992\n",
       "categories    4992\n",
       "dtype: int64"
      ]
     },
     "execution_count": 8,
     "metadata": {},
     "output_type": "execute_result"
    }
   ],
   "source": [
    "#df.count()\n",
    "df.drop_duplicates().count()"
   ]
  },
  {
   "cell_type": "code",
   "execution_count": 9,
   "metadata": {},
   "outputs": [],
   "source": [
    "def lst2str(x):\n",
    "    if isinstance(x,(list, tuple)) or (',' in x):\n",
    "        return ','.join(x)\n",
    "    return x"
   ]
  },
  {
   "cell_type": "code",
   "execution_count": 10,
   "metadata": {},
   "outputs": [],
   "source": [
    "# df['categories'] = df['categories'].apply(lst2str)"
   ]
  },
  {
   "cell_type": "code",
   "execution_count": 11,
   "metadata": {},
   "outputs": [
    {
     "data": {
      "text/html": [
       "<div>\n",
       "<style scoped>\n",
       "    .dataframe tbody tr th:only-of-type {\n",
       "        vertical-align: middle;\n",
       "    }\n",
       "\n",
       "    .dataframe tbody tr th {\n",
       "        vertical-align: top;\n",
       "    }\n",
       "\n",
       "    .dataframe thead th {\n",
       "        text-align: right;\n",
       "    }\n",
       "</style>\n",
       "<table border=\"1\" class=\"dataframe\">\n",
       "  <thead>\n",
       "    <tr style=\"text-align: right;\">\n",
       "      <th></th>\n",
       "      <th>0</th>\n",
       "    </tr>\n",
       "  </thead>\n",
       "  <tbody>\n",
       "    <tr>\n",
       "      <th>body</th>\n",
       "      <td>By the time Donald J. Trump threw in the towel...</td>\n",
       "    </tr>\n",
       "    <tr>\n",
       "      <th>subject</th>\n",
       "      <td>A children's Gitmo on the border</td>\n",
       "    </tr>\n",
       "    <tr>\n",
       "      <th>language</th>\n",
       "      <td>English</td>\n",
       "    </tr>\n",
       "    <tr>\n",
       "      <th>categories</th>\n",
       "      <td>News</td>\n",
       "    </tr>\n",
       "  </tbody>\n",
       "</table>\n",
       "</div>"
      ],
      "text/plain": [
       "                                                            0\n",
       "body        By the time Donald J. Trump threw in the towel...\n",
       "subject                      A children's Gitmo on the border\n",
       "language                                              English\n",
       "categories                                               News"
      ]
     },
     "execution_count": 11,
     "metadata": {},
     "output_type": "execute_result"
    }
   ],
   "source": [
    "df.drop_duplicates(inplace=True)\n",
    "df.head(1).T"
   ]
  },
  {
   "cell_type": "code",
   "execution_count": 12,
   "metadata": {},
   "outputs": [],
   "source": [
    "df = df[df.categories != 'News']\n",
    "df = df[df.categories != 'Turkey']\n",
    "df = df[df.categories != 'BUSINESS']\n",
    "df = df[df.categories != 'Uncategorized']"
   ]
  },
  {
   "cell_type": "code",
   "execution_count": 13,
   "metadata": {},
   "outputs": [
    {
     "data": {
      "text/html": [
       "<div>\n",
       "<style scoped>\n",
       "    .dataframe tbody tr th:only-of-type {\n",
       "        vertical-align: middle;\n",
       "    }\n",
       "\n",
       "    .dataframe tbody tr th {\n",
       "        vertical-align: top;\n",
       "    }\n",
       "\n",
       "    .dataframe thead tr th {\n",
       "        text-align: left;\n",
       "    }\n",
       "\n",
       "    .dataframe thead tr:last-of-type th {\n",
       "        text-align: right;\n",
       "    }\n",
       "</style>\n",
       "<table border=\"1\" class=\"dataframe\">\n",
       "  <thead>\n",
       "    <tr>\n",
       "      <th></th>\n",
       "      <th>body</th>\n",
       "      <th>subject</th>\n",
       "      <th>language</th>\n",
       "    </tr>\n",
       "    <tr>\n",
       "      <th></th>\n",
       "      <th>count</th>\n",
       "      <th>count</th>\n",
       "      <th>count</th>\n",
       "    </tr>\n",
       "    <tr>\n",
       "      <th>categories</th>\n",
       "      <th></th>\n",
       "      <th></th>\n",
       "      <th></th>\n",
       "    </tr>\n",
       "  </thead>\n",
       "  <tbody>\n",
       "    <tr>\n",
       "      <th>Accessories ,Games ,News</th>\n",
       "      <td>1</td>\n",
       "      <td>1</td>\n",
       "      <td>1</td>\n",
       "    </tr>\n",
       "    <tr>\n",
       "      <th>Arts &amp; Life</th>\n",
       "      <td>79</td>\n",
       "      <td>79</td>\n",
       "      <td>79</td>\n",
       "    </tr>\n",
       "    <tr>\n",
       "      <th>Business</th>\n",
       "      <td>6</td>\n",
       "      <td>6</td>\n",
       "      <td>6</td>\n",
       "    </tr>\n",
       "    <tr>\n",
       "      <th>Business ,Featured ,News</th>\n",
       "      <td>3</td>\n",
       "      <td>3</td>\n",
       "      <td>3</td>\n",
       "    </tr>\n",
       "    <tr>\n",
       "      <th>Business ,Featured ,Opinion and Analysis</th>\n",
       "      <td>2</td>\n",
       "      <td>2</td>\n",
       "      <td>2</td>\n",
       "    </tr>\n",
       "    <tr>\n",
       "      <th>Economy</th>\n",
       "      <td>153</td>\n",
       "      <td>153</td>\n",
       "      <td>153</td>\n",
       "    </tr>\n",
       "    <tr>\n",
       "      <th>Feature Articles ,Long War Journal ,Afghanistan</th>\n",
       "      <td>4</td>\n",
       "      <td>4</td>\n",
       "      <td>4</td>\n",
       "    </tr>\n",
       "    <tr>\n",
       "      <th>Featured ,News ,Zimbabwe</th>\n",
       "      <td>5</td>\n",
       "      <td>5</td>\n",
       "      <td>5</td>\n",
       "    </tr>\n",
       "    <tr>\n",
       "      <th>Investments ,News ,Startups</th>\n",
       "      <td>9</td>\n",
       "      <td>9</td>\n",
       "      <td>9</td>\n",
       "    </tr>\n",
       "    <tr>\n",
       "      <th>News Story</th>\n",
       "      <td>19</td>\n",
       "      <td>19</td>\n",
       "      <td>19</td>\n",
       "    </tr>\n",
       "    <tr>\n",
       "      <th>Opinion</th>\n",
       "      <td>11</td>\n",
       "      <td>11</td>\n",
       "      <td>11</td>\n",
       "    </tr>\n",
       "    <tr>\n",
       "      <th>Photo</th>\n",
       "      <td>39</td>\n",
       "      <td>39</td>\n",
       "      <td>39</td>\n",
       "    </tr>\n",
       "    <tr>\n",
       "      <th>Sports</th>\n",
       "      <td>45</td>\n",
       "      <td>45</td>\n",
       "      <td>45</td>\n",
       "    </tr>\n",
       "    <tr>\n",
       "      <th>Tech</th>\n",
       "      <td>97</td>\n",
       "      <td>97</td>\n",
       "      <td>97</td>\n",
       "    </tr>\n",
       "    <tr>\n",
       "      <th>World</th>\n",
       "      <td>158</td>\n",
       "      <td>158</td>\n",
       "      <td>158</td>\n",
       "    </tr>\n",
       "    <tr>\n",
       "      <th>frontpage</th>\n",
       "      <td>65</td>\n",
       "      <td>65</td>\n",
       "      <td>65</td>\n",
       "    </tr>\n",
       "  </tbody>\n",
       "</table>\n",
       "</div>"
      ],
      "text/plain": [
       "                                                 body subject language\n",
       "                                                count   count    count\n",
       "categories                                                            \n",
       "Accessories ,Games ,News                            1       1        1\n",
       "Arts & Life                                        79      79       79\n",
       "Business                                            6       6        6\n",
       "Business ,Featured ,News                            3       3        3\n",
       "Business ,Featured ,Opinion and Analysis            2       2        2\n",
       "Economy                                           153     153      153\n",
       "Feature Articles ,Long War Journal ,Afghanistan     4       4        4\n",
       "Featured ,News ,Zimbabwe                            5       5        5\n",
       "Investments ,News ,Startups                         9       9        9\n",
       "News Story                                         19      19       19\n",
       "Opinion                                            11      11       11\n",
       "Photo                                              39      39       39\n",
       "Sports                                             45      45       45\n",
       "Tech                                               97      97       97\n",
       "World                                             158     158      158\n",
       "frontpage                                          65      65       65"
      ]
     },
     "execution_count": 13,
     "metadata": {},
     "output_type": "execute_result"
    }
   ],
   "source": [
    "# df.groupby('categories')['categories'].count().value_counts(ascending=False)\n",
    "# df.groupby('categories')['categories'].count().sort_values(ascending=False).drop_duplicates().head(15)\n",
    "df.groupby(['categories']).agg({'count'}).drop_duplicates()"
   ]
  },
  {
   "cell_type": "code",
   "execution_count": 16,
   "metadata": {},
   "outputs": [
    {
     "data": {
      "image/png": "[encoded data removed]",
      "text/plain": [
       "<Figure size 1152x720 with 1 Axes>"
      ]
     },
     "metadata": {},
     "output_type": "display_data"
    }
   ],
   "source": [
    "df.groupby('categories').body.count().sort_values(ascending=False).head(55).plot.barh(ylim=0, figsize=(16,10), width=1, grid=True)\n",
    "plt.show()"
   ]
  },
  {
   "cell_type": "code",
   "execution_count": 17,
   "metadata": {},
   "outputs": [],
   "source": [
    "df['cat_id'] = df['categories'].factorize()[0]"
   ]
  },
  {
   "cell_type": "code",
   "execution_count": 18,
   "metadata": {},
   "outputs": [
    {
     "data": {
      "text/html": [
       "<div>\n",
       "<style scoped>\n",
       "    .dataframe tbody tr th:only-of-type {\n",
       "        vertical-align: middle;\n",
       "    }\n",
       "\n",
       "    .dataframe tbody tr th {\n",
       "        vertical-align: top;\n",
       "    }\n",
       "\n",
       "    .dataframe thead th {\n",
       "        text-align: right;\n",
       "    }\n",
       "</style>\n",
       "<table border=\"1\" class=\"dataframe\">\n",
       "  <thead>\n",
       "    <tr style=\"text-align: right;\">\n",
       "      <th></th>\n",
       "      <th>body</th>\n",
       "      <th>subject</th>\n",
       "      <th>language</th>\n",
       "      <th>categories</th>\n",
       "      <th>cat_id</th>\n",
       "    </tr>\n",
       "  </thead>\n",
       "  <tbody>\n",
       "    <tr>\n",
       "      <th>2</th>\n",
       "      <td>Four most important stories on Russia this wee...</td>\n",
       "      <td>Russia calls the Putin-Trump summit the event ...</td>\n",
       "      <td>English</td>\n",
       "      <td>Weekly</td>\n",
       "      <td>0</td>\n",
       "    </tr>\n",
       "    <tr>\n",
       "      <th>14</th>\n",
       "      <td>Eritrea’s high level delegation composed of Mr...</td>\n",
       "      <td>Senior Eritrean delegation winds visit to Ethi...</td>\n",
       "      <td>English</td>\n",
       "      <td>frontpage</td>\n",
       "      <td>1</td>\n",
       "    </tr>\n",
       "    <tr>\n",
       "      <th>15</th>\n",
       "      <td>Newborn caretta carettas which hatched in the ...</td>\n",
       "      <td>Baby sea turtles crawl to sea in Turkey’s Muğla</td>\n",
       "      <td>English</td>\n",
       "      <td>Arts &amp; Life</td>\n",
       "      <td>2</td>\n",
       "    </tr>\n",
       "    <tr>\n",
       "      <th>18</th>\n",
       "      <td>An exhibition, which brings together Alev Ebüz...</td>\n",
       "      <td>Alev Ebüzziya’s ceramics at Baksı Museum</td>\n",
       "      <td>English</td>\n",
       "      <td>Arts &amp; Life</td>\n",
       "      <td>2</td>\n",
       "    </tr>\n",
       "    <tr>\n",
       "      <th>19</th>\n",
       "      <td>A ball-shaped artificial intelligence robot ni...</td>\n",
       "      <td>'Flying brain' blasts off on cargo ship toward...</td>\n",
       "      <td>English</td>\n",
       "      <td>Arts &amp; Life</td>\n",
       "      <td>2</td>\n",
       "    </tr>\n",
       "  </tbody>\n",
       "</table>\n",
       "</div>"
      ],
      "text/plain": [
       "                                                 body  \\\n",
       "2   Four most important stories on Russia this wee...   \n",
       "14  Eritrea’s high level delegation composed of Mr...   \n",
       "15  Newborn caretta carettas which hatched in the ...   \n",
       "18  An exhibition, which brings together Alev Ebüz...   \n",
       "19  A ball-shaped artificial intelligence robot ni...   \n",
       "\n",
       "                                              subject language   categories  \\\n",
       "2   Russia calls the Putin-Trump summit the event ...  English       Weekly   \n",
       "14  Senior Eritrean delegation winds visit to Ethi...  English    frontpage   \n",
       "15    Baby sea turtles crawl to sea in Turkey’s Muğla  English  Arts & Life   \n",
       "18           Alev Ebüzziya’s ceramics at Baksı Museum  English  Arts & Life   \n",
       "19  'Flying brain' blasts off on cargo ship toward...  English  Arts & Life   \n",
       "\n",
       "    cat_id  \n",
       "2        0  \n",
       "14       1  \n",
       "15       2  \n",
       "18       2  \n",
       "19       2  "
      ]
     },
     "execution_count": 18,
     "metadata": {},
     "output_type": "execute_result"
    }
   ],
   "source": [
    "df.head(5)"
   ]
  },
  {
   "cell_type": "code",
   "execution_count": 19,
   "metadata": {},
   "outputs": [],
   "source": [
    "cat_id_df = df[['categories', 'cat_id']].drop_duplicates().sort_values('cat_id')\n",
    "cat_to_id = dict(cat_id_df.values)\n",
    "id_to_cat = dict(cat_id_df[['cat_id', 'categories']].values)"
   ]
  },
  {
   "cell_type": "code",
   "execution_count": 20,
   "metadata": {},
   "outputs": [
    {
     "data": {
      "text/plain": [
       "(888, 5)"
      ]
     },
     "execution_count": 20,
     "metadata": {},
     "output_type": "execute_result"
    }
   ],
   "source": [
    "df.shape"
   ]
  },
  {
   "cell_type": "code",
   "execution_count": 22,
   "metadata": {},
   "outputs": [
    {
     "name": "stdout",
     "output_type": "stream",
     "text": [
      "(888, 888, 888)\n"
     ]
    }
   ],
   "source": [
    "tfidf = TfidfVectorizer(sublinear_tf=True, min_df=5, norm='l2', encoding='latin-1', ngram_range=(1, 2), stop_words='english')\n",
    "features = tfidf.fit_transform(df.body).toarray()\n",
    "labels = df.cat_id\n",
    "print(len(features), len(labels), len(df.index))"
   ]
  },
  {
   "cell_type": "code",
   "execution_count": 23,
   "metadata": {},
   "outputs": [
    {
     "name": "stdout",
     "output_type": "stream",
     "text": [
      "[u'Long War Journal ,Danab ,Shabaab' u'World' u'Arts & Life' u'World'\n",
      " u'Economy' u'World' u'Tech' u'Arts & Life' u'Arts & Life'\n",
      " u'News ,Smartphones ,Adreno' u'World' u'Economy' u'Economy' u'Economy'\n",
      " u'World' u'Sports' u'Tech' u'Economy' u'World' u'Tech'\n",
      " u'Ecosystem ,Startups ,Beirut' u'Photo' u'Sports' u'Tech'\n",
      " u'Long War Journal ,Afghanistan ,Taliban' u'Photo' u'frontpage' u'World'\n",
      " u'Tech' u'Economy' u'Arts & Life' u'Tech' u'World' u'Economy' u'Tech'\n",
      " u'Economy' u'Entertainment ,Featured ,South Africa' u'Tech' u'World'\n",
      " u'World' u'Economy' u'Economy' u'Headline ,Politics ,Thailand' u'World'\n",
      " u'Arts & Life' u'Economy' u'Tech' u'World'\n",
      " u'News ,Smartphones ,Coral Blue' u'Weekly' u'World' u'World' u'World'\n",
      " u'Tech' u'Computes ,Galleries ,Computex' u'frontpage' u'News Story'\n",
      " u'Economy' u'World' u'frontpage' u'frontpage' u'World' u'World' u'Tech'\n",
      " u'Economy' u'Business ,Featured ,News' u'Photo' u'Economy' u'Economy'\n",
      " u'eSports ,News ,BenQ' u'frontpage' u'Tech' u'World' u'Arts & Life'\n",
      " u'Arts & Life' u'Photo' u'frontpage' u'Economy' u'Tech' u'Sports'\n",
      " u'Economy' u'World' u'Economy' u'World' u'Computes ,Galleries ,Computex'\n",
      " u'frontpage' u'Economy' u'Investments ,News ,Startups' u'World' u'Tech'\n",
      " u'World' u'Arts & Life' u'Press Release' u'Sports'\n",
      " u'Featured ,News ,Zimbabwe' u'Tech' u'Economy' u'Economy' u'Sports'\n",
      " u'Headline ,Indonesia ,Society' u'Tech' u'World' u'World' u'World'\n",
      " u'Economy' u'World' u'frontpage' u'Arts & Life' u'Arts & Life'\n",
      " u'frontpage' u'Economy' u'World' u'Photo' u'Economy' u'World'\n",
      " u'frontpage' u'News ,Smartphones ,Android 8.1 Oreo' u'World' u'World'\n",
      " u'Tech' u'Economy' u'Economy' u'Economy' u'Arts & Life' u'frontpage'\n",
      " u'Economy' u'World' u'Tech' u'World' u'Sports' u'News Story' u'World'\n",
      " u'Economy' u'frontpage' u'Headline ,India ,Politics' u'Weekly' u'World'\n",
      " u'World' u'Economy' u'World' u'frontpage' u'Economy' u'Economy' u'Tech'\n",
      " u'World' u'Economy' u'Tech' u'World' u'Economy' u'frontpage' u'frontpage'\n",
      " u'frontpage' u'World' u'World' u'World' u'Photo' u'World' u'Arts & Life'\n",
      " u'World' u'World' u'Economy' u'Photo' u'Arts & Life' u'Tech' u'Tech'\n",
      " u'Tech' u'Sports' u'Economy' u'World' u'News ,Smartphones ,Android One'\n",
      " u'Economy' u'frontpage' u'Sports' u'World' u'Economy' u'frontpage'\n",
      " u'Economy' u'Photo'] \n",
      "1.0\n"
     ]
    }
   ],
   "source": [
    "# xtrain, xtest, ytrain, ytest, itrain, itest = train_test_split(features, labels, df.index, test_size=0.33, random_state=0)\n",
    "\n",
    "xtrain, xtest, ytrain, ytest = train_test_split(df['body'], df['categories'], test_size=0.2, random_state=42)\n",
    "\n",
    "engines = [('LSVC', LinearSVC())]\n",
    "CV = 5\n",
    "cv_df = pd.DataFrame(index=range(CV * len(engines)))\n",
    "for name, engine in engines:\n",
    "    clf = make_pipeline(tfidf, engine)\n",
    "    clf.fit(xtrain, ytrain)\n",
    "    prediction = clf.predict(xtest)\n",
    "    score = clf.score(xtest, prediction)\n",
    "    \n",
    "import pickle\n",
    "with open('./pkl/lsvc.pickle', 'wb') as f:\n",
    "    pickle.dump(clf, f)\n",
    "    \n",
    "print(\"{} \\n{}\".format(prediction, score))"
   ]
  },
  {
   "cell_type": "code",
   "execution_count": 24,
   "metadata": {},
   "outputs": [],
   "source": [
    "s = '''\n",
    "\n",
    "‘Guys, you’ve got to hear this,” I said. I was sitting in front of my computer one day in July 2012, with one eye on a screen of share prices and the other on a live stream of the House of Commons Treasury select committee hearings. As the Barclays share price took a graceful swan dive, I pulled my headphones out of the socket and turned up the volume so everyone could hear. My colleagues left their terminals and came around to watch BBC Parliament with me.\n",
    "\n",
    "It didn’t take long to realise what was happening. “Bob’s getting murdered,” someone said.\n",
    "\n",
    "Bob Diamond, the swashbuckling chief executive of Barclays, had been called before the committee to explain exactly what his bank had been playing at in regards to the Libor rate-fixing scandal. The day before his appearance, he had made things very much worse by seeming to accuse the deputy governor of the Bank of England of ordering him to fiddle an important benchmark, then walking back the accusation as soon as it was challenged. He was trying to turn on his legendary charm in front of a committee of angry MPs, and it wasn’t working. On our trading floor, in Mayfair, calls were coming in from all over the City. Investors needed to know what was happening and whether the damage was reparable.\n",
    "\n",
    "A couple of weeks later, the damage was done. The money was gone, Diamond was out of a job and the market, as it always does, had moved on. We were left asking ourselves: How did we get it so wrong?\n",
    "\n",
    "'''"
   ]
  },
  {
   "cell_type": "code",
   "execution_count": 25,
   "metadata": {},
   "outputs": [
    {
     "name": "stdout",
     "output_type": "stream",
     "text": [
      "(u'Economy', 1.0)\n"
     ]
    }
   ],
   "source": [
    "say = clf.predict([s])\n",
    "score = clf.score([s], say)\n",
    "print(say[0], score)"
   ]
  },
  {
   "cell_type": "code",
   "execution_count": null,
   "metadata": {},
   "outputs": [],
   "source": []
  }
 ],
 "metadata": {
  "kernelspec": {
   "display_name": "Python 2",
   "language": "python",
   "name": "python2"
  },
  "language_info": {
   "codemirror_mode": {
    "name": "ipython",
    "version": 2
   },
   "file_extension": ".py",
   "mimetype": "text/x-python",
   "name": "python",
   "nbconvert_exporter": "python",
   "pygments_lexer": "ipython2",
   "version": "2.7.6"
  }
 },
 "nbformat": 4,
 "nbformat_minor": 2
}
