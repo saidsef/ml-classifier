{
 "cells": [
  {
   "cell_type": "code",
   "execution_count": 1,
   "metadata": {
    "execution": {
     "iopub.execute_input": "2024-01-08T20:51:46.956075Z",
     "iopub.status.busy": "2024-01-08T20:51:46.955501Z",
     "iopub.status.idle": "2024-01-08T20:51:47.701627Z",
     "shell.execute_reply": "2024-01-08T20:51:47.701225Z"
    }
   },
   "outputs": [],
   "source": [
    "%load_ext autoreload\n",
    "%autoreload 2\n",
    "\n",
    "import re\n",
    "import glob\n",
    "import lzma\n",
    "import pickle\n",
    "import pandas as pd\n",
    "import numpy as np\n",
    "import requests as r\n",
    "import seaborn as sns\n",
    "import warnings\n",
    "import matplotlib as mpl\n",
    "import matplotlib.pyplot as plt\n",
    "from json import load, dump, loads, dumps\n",
    "from joblib import hash\n",
    "from collections import Counter\n",
    "from sklearn.metrics import accuracy_score\n",
    "from sklearn.pipeline import make_pipeline\n",
    "from sklearn.neighbors import NearestCentroid, RadiusNeighborsClassifier\n",
    "from sklearn.ensemble import RandomForestClassifier, GradientBoostingClassifier\n",
    "from sklearn.model_selection import train_test_split\n",
    "from sklearn.feature_extraction.text import CountVectorizer, TfidfVectorizer\n",
    "from sklearn.linear_model import RidgeClassifier, PassiveAggressiveClassifier, LogisticRegression\n",
    "from sklearn.tree import DecisionTreeClassifier\n",
    "\n",
    "warnings.simplefilter('ignore')\n",
    "mpl.style.use('ggplot')"
   ]
  },
  {
   "cell_type": "markdown",
   "metadata": {},
   "source": [
    "## Source Data\n",
    "\n",
    "IF source data is missing run Elasticsearch query to extract data and then save it in JSON format to `data` directory"
   ]
  },
  {
   "cell_type": "code",
   "execution_count": 9,
   "metadata": {
    "execution": {
     "iopub.execute_input": "2024-01-08T20:51:47.703313Z",
     "iopub.status.busy": "2024-01-08T20:51:47.703106Z",
     "iopub.status.idle": "2024-01-08T20:51:59.426194Z",
     "shell.execute_reply": "2024-01-08T20:51:59.425808Z"
    }
   },
   "outputs": [],
   "source": [
    "# news_json = r.get('http://elasticsearch.storage:9200/indice/docs/_search?sort=date:desc&size=6000').json()\n",
    "# with lzma.open('./data/news.json.gz', 'wt') as fh:\n",
    "#   fh.write(dumps(news_json['hits']['hits']))"
   ]
  },
  {
   "cell_type": "code",
   "execution_count": 10,
   "metadata": {
    "execution": {
     "iopub.execute_input": "2024-01-08T20:51:59.427837Z",
     "iopub.status.busy": "2024-01-08T20:51:59.427730Z",
     "iopub.status.idle": "2024-01-08T20:51:59.595340Z",
     "shell.execute_reply": "2024-01-08T20:51:59.594956Z"
    }
   },
   "outputs": [],
   "source": [
    "b = loads(lzma.open('./data/news.json.gz', 'rt').read())\n",
    "df = pd.json_normalize(b)"
   ]
  },
  {
   "cell_type": "markdown",
   "metadata": {},
   "source": [
    "## Common issues that we generally face during the data preparation phase:\n",
    " - Format and structure normalization\n",
    " - Detect and fix missing values\n",
    " - Duplicates removal\n",
    " - Units normalization\n",
    " - Constraints validations\n",
    " - Anomaly detection and removal\n",
    " - Study of features importance/relevance\n",
    " - Dimentional reduction, feature selection & extraction"
   ]
  },
  {
   "cell_type": "code",
   "execution_count": 11,
   "metadata": {
    "execution": {
     "iopub.execute_input": "2024-01-08T20:51:59.596906Z",
     "iopub.status.busy": "2024-01-08T20:51:59.596804Z",
     "iopub.status.idle": "2024-01-08T20:51:59.612028Z",
     "shell.execute_reply": "2024-01-08T20:51:59.611639Z"
    }
   },
   "outputs": [],
   "source": [
    "df = df[['_source.body', '_source.date', '_source.subject', '_source.language', '_source.categories']]\n",
    "df.columns = ['body', 'pubdate', 'subject', 'language', 'categories']"
   ]
  },
  {
   "cell_type": "code",
   "execution_count": 12,
   "metadata": {
    "execution": {
     "iopub.execute_input": "2024-01-08T20:51:59.613465Z",
     "iopub.status.busy": "2024-01-08T20:51:59.613369Z",
     "iopub.status.idle": "2024-01-08T20:51:59.671469Z",
     "shell.execute_reply": "2024-01-08T20:51:59.671103Z"
    }
   },
   "outputs": [
    {
     "data": {
      "text/html": [
       "<style type=\"text/css\">\n",
       "</style>\n",
       "<table id=\"T_7202d\">\n",
       "  <thead>\n",
       "    <tr>\n",
       "      <th class=\"blank level0\" >&nbsp;</th>\n",
       "      <th id=\"T_7202d_level0_col0\" class=\"col_heading level0 col0\" >0</th>\n",
       "    </tr>\n",
       "  </thead>\n",
       "  <tbody>\n",
       "    <tr>\n",
       "      <th id=\"T_7202d_level0_row0\" class=\"row_heading level0 row0\" >body</th>\n",
       "      <td id=\"T_7202d_row0_col0\" class=\"data row0 col0\" >Islam Times - The President described the development of relations between Tehran and Dushanbe in the last 2 years as favorable, stated that the development of parliamentary cooperation is important and the basis of political and economic cooperation, he also emphasized the strengthening and promotion of cultural relations between the two countries.</td>\n",
       "    </tr>\n",
       "    <tr>\n",
       "      <th id=\"T_7202d_level0_row1\" class=\"row_heading level0 row1\" >pubdate</th>\n",
       "      <td id=\"T_7202d_row1_col0\" class=\"data row1 col0\" >2024-01-08T19:10:23.000Z</td>\n",
       "    </tr>\n",
       "    <tr>\n",
       "      <th id=\"T_7202d_level0_row2\" class=\"row_heading level0 row2\" >subject</th>\n",
       "      <td id=\"T_7202d_row2_col0\" class=\"data row2 col0\" >Raisi: ISIS, Like Zionists in Gaza, Seeks to Kill Innocent Women and Children</td>\n",
       "    </tr>\n",
       "    <tr>\n",
       "      <th id=\"T_7202d_level0_row3\" class=\"row_heading level0 row3\" >language</th>\n",
       "      <td id=\"T_7202d_row3_col0\" class=\"data row3 col0\" >English</td>\n",
       "    </tr>\n",
       "    <tr>\n",
       "      <th id=\"T_7202d_level0_row4\" class=\"row_heading level0 row4\" >categories</th>\n",
       "      <td id=\"T_7202d_row4_col0\" class=\"data row4 col0\" >Iran</td>\n",
       "    </tr>\n",
       "  </tbody>\n",
       "</table>\n"
      ],
      "text/plain": [
       "<pandas.io.formats.style.Styler at 0xffff35d527d0>"
      ]
     },
     "execution_count": 12,
     "metadata": {},
     "output_type": "execute_result"
    }
   ],
   "source": [
    "df.drop_duplicates(inplace=True)\n",
    "df.head(1).T.style"
   ]
  },
  {
   "cell_type": "code",
   "execution_count": 13,
   "metadata": {
    "execution": {
     "iopub.execute_input": "2024-01-08T20:51:59.698171Z",
     "iopub.status.busy": "2024-01-08T20:51:59.697972Z",
     "iopub.status.idle": "2024-01-08T20:51:59.714092Z",
     "shell.execute_reply": "2024-01-08T20:51:59.713699Z"
    }
   },
   "outputs": [],
   "source": [
    "df = df.loc[(df['categories'] != 'News') & \n",
    "            (df['categories'] != 'articles 2015') & \n",
    "            (df['categories'] != 'frontpage') &\n",
    "            (df['categories'] != 'English') &\n",
    "            (df['categories'] != 'Comment') &\n",
    "            (df['categories'] != 'Uncategorized') &\n",
    "            (df['language'] == 'English')]"
   ]
  },
  {
   "cell_type": "code",
   "execution_count": 14,
   "metadata": {
    "execution": {
     "iopub.execute_input": "2024-01-08T20:51:59.715520Z",
     "iopub.status.busy": "2024-01-08T20:51:59.715423Z",
     "iopub.status.idle": "2024-01-08T20:51:59.734634Z",
     "shell.execute_reply": "2024-01-08T20:51:59.734274Z"
    }
   },
   "outputs": [],
   "source": [
    "df['categories'] = df['categories'].str.replace(r'[^a-zA-Z_, ]+', '').replace(', ', '')\n",
    "df['categories'] = df['categories'].str.replace(r'^, ', '')\n",
    "df = df[~df.eq('').all(1)]"
   ]
  },
  {
   "cell_type": "code",
   "execution_count": 15,
   "metadata": {
    "execution": {
     "iopub.execute_input": "2024-01-08T20:51:59.736017Z",
     "iopub.status.busy": "2024-01-08T20:51:59.735918Z",
     "iopub.status.idle": "2024-01-08T20:51:59.760191Z",
     "shell.execute_reply": "2024-01-08T20:51:59.759845Z"
    }
   },
   "outputs": [
    {
     "data": {
      "text/html": [
       "<div>\n",
       "<style scoped>\n",
       "    .dataframe tbody tr th:only-of-type {\n",
       "        vertical-align: middle;\n",
       "    }\n",
       "\n",
       "    .dataframe tbody tr th {\n",
       "        vertical-align: top;\n",
       "    }\n",
       "\n",
       "    .dataframe thead tr th {\n",
       "        text-align: left;\n",
       "    }\n",
       "\n",
       "    .dataframe thead tr:last-of-type th {\n",
       "        text-align: right;\n",
       "    }\n",
       "</style>\n",
       "<table border=\"1\" class=\"dataframe\">\n",
       "  <thead>\n",
       "    <tr>\n",
       "      <th></th>\n",
       "      <th>body</th>\n",
       "      <th>pubdate</th>\n",
       "      <th>subject</th>\n",
       "      <th>language</th>\n",
       "    </tr>\n",
       "    <tr>\n",
       "      <th></th>\n",
       "      <th>count</th>\n",
       "      <th>count</th>\n",
       "      <th>count</th>\n",
       "      <th>count</th>\n",
       "    </tr>\n",
       "    <tr>\n",
       "      <th>categories</th>\n",
       "      <th></th>\n",
       "      <th></th>\n",
       "      <th></th>\n",
       "      <th></th>\n",
       "    </tr>\n",
       "  </thead>\n",
       "  <tbody>\n",
       "    <tr>\n",
       "      <th>#ACFM, Audio, 90s</th>\n",
       "      <td>1</td>\n",
       "      <td>1</td>\n",
       "      <td>1</td>\n",
       "      <td>1</td>\n",
       "    </tr>\n",
       "    <tr>\n",
       "      <th>#Culture, featured, Featured Culture</th>\n",
       "      <td>2</td>\n",
       "      <td>2</td>\n",
       "      <td>2</td>\n",
       "      <td>2</td>\n",
       "    </tr>\n",
       "    <tr>\n",
       "      <th>2021, Honest Ad</th>\n",
       "      <td>6</td>\n",
       "      <td>6</td>\n",
       "      <td>6</td>\n",
       "      <td>6</td>\n",
       "    </tr>\n",
       "    <tr>\n",
       "      <th>2021, Teacher</th>\n",
       "      <td>4</td>\n",
       "      <td>4</td>\n",
       "      <td>4</td>\n",
       "      <td>4</td>\n",
       "    </tr>\n",
       "    <tr>\n",
       "      <th>2022</th>\n",
       "      <td>3</td>\n",
       "      <td>3</td>\n",
       "      <td>3</td>\n",
       "      <td>3</td>\n",
       "    </tr>\n",
       "    <tr>\n",
       "      <th>Afghanistan, Article, Asia &amp; Americas</th>\n",
       "      <td>7</td>\n",
       "      <td>7</td>\n",
       "      <td>7</td>\n",
       "      <td>7</td>\n",
       "    </tr>\n",
       "    <tr>\n",
       "      <th>Afghanistan, Asia &amp; Americas, Europe &amp; Russia</th>\n",
       "      <td>13</td>\n",
       "      <td>13</td>\n",
       "      <td>13</td>\n",
       "      <td>13</td>\n",
       "    </tr>\n",
       "    <tr>\n",
       "      <th>Africa, Algeria, Asia &amp; Americas</th>\n",
       "      <td>8</td>\n",
       "      <td>8</td>\n",
       "      <td>8</td>\n",
       "      <td>8</td>\n",
       "    </tr>\n",
       "    <tr>\n",
       "      <th>Africa, Algeria, Europe &amp; Russia</th>\n",
       "      <td>32</td>\n",
       "      <td>32</td>\n",
       "      <td>32</td>\n",
       "      <td>32</td>\n",
       "    </tr>\n",
       "    <tr>\n",
       "      <th>Africa, Algeria, International Organisations</th>\n",
       "      <td>9</td>\n",
       "      <td>9</td>\n",
       "      <td>9</td>\n",
       "      <td>9</td>\n",
       "    </tr>\n",
       "    <tr>\n",
       "      <th>Africa, Algeria, News</th>\n",
       "      <td>14</td>\n",
       "      <td>14</td>\n",
       "      <td>14</td>\n",
       "      <td>14</td>\n",
       "    </tr>\n",
       "    <tr>\n",
       "      <th>Africa, Article, Asia &amp; Americas</th>\n",
       "      <td>25</td>\n",
       "      <td>25</td>\n",
       "      <td>25</td>\n",
       "      <td>25</td>\n",
       "    </tr>\n",
       "    <tr>\n",
       "      <th>Africa, Article, Egypt</th>\n",
       "      <td>18</td>\n",
       "      <td>18</td>\n",
       "      <td>18</td>\n",
       "      <td>18</td>\n",
       "    </tr>\n",
       "    <tr>\n",
       "      <th>Africa, Article, Opinion</th>\n",
       "      <td>5</td>\n",
       "      <td>5</td>\n",
       "      <td>5</td>\n",
       "      <td>5</td>\n",
       "    </tr>\n",
       "    <tr>\n",
       "      <th>Africa, Asia &amp; Americas, Egypt</th>\n",
       "      <td>27</td>\n",
       "      <td>27</td>\n",
       "      <td>27</td>\n",
       "      <td>27</td>\n",
       "    </tr>\n",
       "    <tr>\n",
       "      <th>Africa, Asia &amp; Americas, Europe &amp; Russia</th>\n",
       "      <td>12</td>\n",
       "      <td>12</td>\n",
       "      <td>12</td>\n",
       "      <td>12</td>\n",
       "    </tr>\n",
       "    <tr>\n",
       "      <th>Africa, Asia &amp; Americas, News</th>\n",
       "      <td>11</td>\n",
       "      <td>11</td>\n",
       "      <td>11</td>\n",
       "      <td>11</td>\n",
       "    </tr>\n",
       "    <tr>\n",
       "      <th>Africa, Egypt, Europe &amp; Russia</th>\n",
       "      <td>45</td>\n",
       "      <td>45</td>\n",
       "      <td>45</td>\n",
       "      <td>45</td>\n",
       "    </tr>\n",
       "    <tr>\n",
       "      <th>Africa, Egypt, Israel</th>\n",
       "      <td>20</td>\n",
       "      <td>20</td>\n",
       "      <td>20</td>\n",
       "      <td>20</td>\n",
       "    </tr>\n",
       "    <tr>\n",
       "      <th>Africa, Egypt, News</th>\n",
       "      <td>75</td>\n",
       "      <td>75</td>\n",
       "      <td>75</td>\n",
       "      <td>75</td>\n",
       "    </tr>\n",
       "    <tr>\n",
       "      <th>Africa, Europe &amp; Russia, France</th>\n",
       "      <td>10</td>\n",
       "      <td>10</td>\n",
       "      <td>10</td>\n",
       "      <td>10</td>\n",
       "    </tr>\n",
       "    <tr>\n",
       "      <th>Africa, Europe &amp; Russia, News</th>\n",
       "      <td>22</td>\n",
       "      <td>22</td>\n",
       "      <td>22</td>\n",
       "      <td>22</td>\n",
       "    </tr>\n",
       "    <tr>\n",
       "      <th>Africa, Israel, Middle East</th>\n",
       "      <td>23</td>\n",
       "      <td>23</td>\n",
       "      <td>23</td>\n",
       "      <td>23</td>\n",
       "    </tr>\n",
       "    <tr>\n",
       "      <th>Africa, Libya, News</th>\n",
       "      <td>21</td>\n",
       "      <td>21</td>\n",
       "      <td>21</td>\n",
       "      <td>21</td>\n",
       "    </tr>\n",
       "    <tr>\n",
       "      <th>Africa, News, Tunisia</th>\n",
       "      <td>73</td>\n",
       "      <td>73</td>\n",
       "      <td>73</td>\n",
       "      <td>73</td>\n",
       "    </tr>\n",
       "    <tr>\n",
       "      <th>Article, Asia &amp; Americas, Israel</th>\n",
       "      <td>15</td>\n",
       "      <td>15</td>\n",
       "      <td>15</td>\n",
       "      <td>15</td>\n",
       "    </tr>\n",
       "    <tr>\n",
       "      <th>Article, Israel, Middle East</th>\n",
       "      <td>43</td>\n",
       "      <td>43</td>\n",
       "      <td>43</td>\n",
       "      <td>43</td>\n",
       "    </tr>\n",
       "    <tr>\n",
       "      <th>Asia &amp; Americas, Iran, Middle East</th>\n",
       "      <td>26</td>\n",
       "      <td>26</td>\n",
       "      <td>26</td>\n",
       "      <td>26</td>\n",
       "    </tr>\n",
       "    <tr>\n",
       "      <th>Asia &amp; Americas, Israel, Middle East</th>\n",
       "      <td>77</td>\n",
       "      <td>77</td>\n",
       "      <td>77</td>\n",
       "      <td>77</td>\n",
       "    </tr>\n",
       "    <tr>\n",
       "      <th>Asia &amp; Americas, Middle East, News</th>\n",
       "      <td>36</td>\n",
       "      <td>36</td>\n",
       "      <td>36</td>\n",
       "      <td>36</td>\n",
       "    </tr>\n",
       "    <tr>\n",
       "      <th>Europe</th>\n",
       "      <td>17</td>\n",
       "      <td>17</td>\n",
       "      <td>17</td>\n",
       "      <td>17</td>\n",
       "    </tr>\n",
       "    <tr>\n",
       "      <th>Europe &amp; Russia, Israel, Middle East</th>\n",
       "      <td>53</td>\n",
       "      <td>53</td>\n",
       "      <td>53</td>\n",
       "      <td>53</td>\n",
       "    </tr>\n",
       "    <tr>\n",
       "      <th>Europe &amp; Russia, Middle East, News</th>\n",
       "      <td>94</td>\n",
       "      <td>94</td>\n",
       "      <td>94</td>\n",
       "      <td>94</td>\n",
       "    </tr>\n",
       "    <tr>\n",
       "      <th>Europe &amp; Russia, News, Turkey</th>\n",
       "      <td>65</td>\n",
       "      <td>65</td>\n",
       "      <td>65</td>\n",
       "      <td>65</td>\n",
       "    </tr>\n",
       "    <tr>\n",
       "      <th>International Organisations, Middle East, News</th>\n",
       "      <td>19</td>\n",
       "      <td>19</td>\n",
       "      <td>19</td>\n",
       "      <td>19</td>\n",
       "    </tr>\n",
       "    <tr>\n",
       "      <th>Iran</th>\n",
       "      <td>31</td>\n",
       "      <td>31</td>\n",
       "      <td>31</td>\n",
       "      <td>31</td>\n",
       "    </tr>\n",
       "    <tr>\n",
       "      <th>Iran, Middle East, News</th>\n",
       "      <td>57</td>\n",
       "      <td>57</td>\n",
       "      <td>57</td>\n",
       "      <td>57</td>\n",
       "    </tr>\n",
       "    <tr>\n",
       "      <th>Israel, Middle East, News</th>\n",
       "      <td>503</td>\n",
       "      <td>503</td>\n",
       "      <td>503</td>\n",
       "      <td>503</td>\n",
       "    </tr>\n",
       "    <tr>\n",
       "      <th>Lebanon, Middle East, News</th>\n",
       "      <td>44</td>\n",
       "      <td>44</td>\n",
       "      <td>44</td>\n",
       "      <td>44</td>\n",
       "    </tr>\n",
       "    <tr>\n",
       "      <th>Local</th>\n",
       "      <td>149</td>\n",
       "      <td>149</td>\n",
       "      <td>149</td>\n",
       "      <td>149</td>\n",
       "    </tr>\n",
       "    <tr>\n",
       "      <th>Middle East, News, Palestine</th>\n",
       "      <td>24</td>\n",
       "      <td>24</td>\n",
       "      <td>24</td>\n",
       "      <td>24</td>\n",
       "    </tr>\n",
       "    <tr>\n",
       "      <th>Middle East, News, Saudi Arabia</th>\n",
       "      <td>37</td>\n",
       "      <td>37</td>\n",
       "      <td>37</td>\n",
       "      <td>37</td>\n",
       "    </tr>\n",
       "    <tr>\n",
       "      <th>Palestine</th>\n",
       "      <td>46</td>\n",
       "      <td>46</td>\n",
       "      <td>46</td>\n",
       "      <td>46</td>\n",
       "    </tr>\n",
       "    <tr>\n",
       "      <th>US</th>\n",
       "      <td>47</td>\n",
       "      <td>47</td>\n",
       "      <td>47</td>\n",
       "      <td>47</td>\n",
       "    </tr>\n",
       "  </tbody>\n",
       "</table>\n",
       "</div>"
      ],
      "text/plain": [
       "                                                body pubdate subject language\n",
       "                                               count   count   count    count\n",
       "categories                                                                   \n",
       "#ACFM, Audio, 90s                                  1       1       1        1\n",
       "#Culture, featured, Featured Culture               2       2       2        2\n",
       "2021, Honest Ad                                    6       6       6        6\n",
       "2021, Teacher                                      4       4       4        4\n",
       "2022                                               3       3       3        3\n",
       "Afghanistan, Article, Asia & Americas              7       7       7        7\n",
       "Afghanistan, Asia & Americas, Europe & Russia     13      13      13       13\n",
       "Africa, Algeria, Asia & Americas                   8       8       8        8\n",
       "Africa, Algeria, Europe & Russia                  32      32      32       32\n",
       "Africa, Algeria, International Organisations       9       9       9        9\n",
       "Africa, Algeria, News                             14      14      14       14\n",
       "Africa, Article, Asia & Americas                  25      25      25       25\n",
       "Africa, Article, Egypt                            18      18      18       18\n",
       "Africa, Article, Opinion                           5       5       5        5\n",
       "Africa, Asia & Americas, Egypt                    27      27      27       27\n",
       "Africa, Asia & Americas, Europe & Russia          12      12      12       12\n",
       "Africa, Asia & Americas, News                     11      11      11       11\n",
       "Africa, Egypt, Europe & Russia                    45      45      45       45\n",
       "Africa, Egypt, Israel                             20      20      20       20\n",
       "Africa, Egypt, News                               75      75      75       75\n",
       "Africa, Europe & Russia, France                   10      10      10       10\n",
       "Africa, Europe & Russia, News                     22      22      22       22\n",
       "Africa, Israel, Middle East                       23      23      23       23\n",
       "Africa, Libya, News                               21      21      21       21\n",
       "Africa, News, Tunisia                             73      73      73       73\n",
       "Article, Asia & Americas, Israel                  15      15      15       15\n",
       "Article, Israel, Middle East                      43      43      43       43\n",
       "Asia & Americas, Iran, Middle East                26      26      26       26\n",
       "Asia & Americas, Israel, Middle East              77      77      77       77\n",
       "Asia & Americas, Middle East, News                36      36      36       36\n",
       "Europe                                            17      17      17       17\n",
       "Europe & Russia, Israel, Middle East              53      53      53       53\n",
       "Europe & Russia, Middle East, News                94      94      94       94\n",
       "Europe & Russia, News, Turkey                     65      65      65       65\n",
       "International Organisations, Middle East, News    19      19      19       19\n",
       "Iran                                              31      31      31       31\n",
       "Iran, Middle East, News                           57      57      57       57\n",
       "Israel, Middle East, News                        503     503     503      503\n",
       "Lebanon, Middle East, News                        44      44      44       44\n",
       "Local                                            149     149     149      149\n",
       "Middle East, News, Palestine                      24      24      24       24\n",
       "Middle East, News, Saudi Arabia                   37      37      37       37\n",
       "Palestine                                         46      46      46       46\n",
       "US                                                47      47      47       47"
      ]
     },
     "execution_count": 15,
     "metadata": {},
     "output_type": "execute_result"
    }
   ],
   "source": [
    "df.groupby(['categories']).agg({'count'}).drop_duplicates()"
   ]
  },
  {
   "cell_type": "code",
   "execution_count": 16,
   "metadata": {
    "execution": {
     "iopub.execute_input": "2024-01-08T20:51:59.761692Z",
     "iopub.status.busy": "2024-01-08T20:51:59.761390Z",
     "iopub.status.idle": "2024-01-08T20:51:59.804429Z",
     "shell.execute_reply": "2024-01-08T20:51:59.804026Z"
    }
   },
   "outputs": [],
   "source": [
    "df['cat_id']       = df['categories'].factorize()[0]\n",
    "df['lang_id']      = df['language'].factorize()[0]\n",
    "df['char_count']   = df['body'].apply(len)\n",
    "df['word_count']   = df['body'].apply(lambda x: len(x.split()))\n",
    "df['word_density'] = df['char_count'] / (df['word_count']+1)\n"
   ]
  },
  {
   "cell_type": "code",
   "execution_count": null,
   "metadata": {},
   "outputs": [],
   "source": [
    "df.isnall().sum()"
   ]
  },
  {
   "cell_type": "code",
   "execution_count": 24,
   "metadata": {},
   "outputs": [],
   "source": [
    "df = df.dropna()"
   ]
  },
  {
   "cell_type": "code",
   "execution_count": 25,
   "metadata": {
    "execution": {
     "iopub.execute_input": "2024-01-08T20:51:59.805822Z",
     "iopub.status.busy": "2024-01-08T20:51:59.805730Z",
     "iopub.status.idle": "2024-01-08T20:51:59.817463Z",
     "shell.execute_reply": "2024-01-08T20:51:59.817147Z"
    }
   },
   "outputs": [
    {
     "data": {
      "text/plain": [
       "(5402, 10)"
      ]
     },
     "execution_count": 25,
     "metadata": {},
     "output_type": "execute_result"
    }
   ],
   "source": [
    "df.shape"
   ]
  },
  {
   "cell_type": "code",
   "execution_count": 26,
   "metadata": {
    "execution": {
     "iopub.execute_input": "2024-01-08T20:51:59.818615Z",
     "iopub.status.busy": "2024-01-08T20:51:59.818525Z",
     "iopub.status.idle": "2024-01-08T20:51:59.828013Z",
     "shell.execute_reply": "2024-01-08T20:51:59.827694Z"
    }
   },
   "outputs": [],
   "source": [
    "# sns.set()\n",
    "# sns.pairplot(df, height=3.5, kind=\"reg\", palette=\"husl\", diag_kind=\"auto\")"
   ]
  },
  {
   "cell_type": "code",
   "execution_count": 27,
   "metadata": {
    "execution": {
     "iopub.execute_input": "2024-01-08T20:51:59.829206Z",
     "iopub.status.busy": "2024-01-08T20:51:59.829118Z",
     "iopub.status.idle": "2024-01-08T20:51:59.839962Z",
     "shell.execute_reply": "2024-01-08T20:51:59.839597Z"
    }
   },
   "outputs": [],
   "source": [
    "xtrain, xtest, ytrain, ytest = train_test_split(df['body'], df['categories'], test_size=0.3, random_state=20)"
   ]
  },
  {
   "cell_type": "code",
   "execution_count": 28,
   "metadata": {
    "execution": {
     "iopub.execute_input": "2024-01-08T20:51:59.841308Z",
     "iopub.status.busy": "2024-01-08T20:51:59.841210Z",
     "iopub.status.idle": "2024-01-08T20:51:59.851748Z",
     "shell.execute_reply": "2024-01-08T20:51:59.851403Z"
    }
   },
   "outputs": [],
   "source": [
    "\n",
    "tfidf = TfidfVectorizer(use_idf=False, sublinear_tf=True, min_df=5, norm='l2', encoding='latin-1', analyzer='char', lowercase=False, ngram_range=(1, 2), stop_words='english')"
   ]
  },
  {
   "cell_type": "code",
   "execution_count": 29,
   "metadata": {},
   "outputs": [],
   "source": [
    "features = tfidf.fit_transform(df.body).toarray()\n",
    "labels = df.cat_id"
   ]
  },
  {
   "cell_type": "code",
   "execution_count": 30,
   "metadata": {
    "execution": {
     "iopub.execute_input": "2024-01-08T20:52:01.340326Z",
     "iopub.status.busy": "2024-01-08T20:52:01.340228Z",
     "iopub.status.idle": "2024-01-08T20:52:01.351618Z",
     "shell.execute_reply": "2024-01-08T20:52:01.351271Z"
    }
   },
   "outputs": [],
   "source": [
    "engines = [('PassiveAggressiveClassifier', PassiveAggressiveClassifier(fit_intercept=True)),\n",
    "           ('NearestCentroid', NearestCentroid()),\n",
    "           ('RandomForestClassifier', RandomForestClassifier(min_samples_leaf=0.01)),\n",
    "           ('RidgeClassifierCV', RidgeClassifier(fit_intercept=True)),\n",
    "           ('RadiusNeighborsClassifier', RadiusNeighborsClassifier()),\n",
    "           ('DecisionTreeClassifier', DecisionTreeClassifier(min_samples_leaf=0.01))]"
   ]
  },
  {
   "cell_type": "code",
   "execution_count": 31,
   "metadata": {
    "execution": {
     "iopub.execute_input": "2024-01-08T20:52:01.352874Z",
     "iopub.status.busy": "2024-01-08T20:52:01.352774Z",
     "iopub.status.idle": "2024-01-08T20:52:07.227138Z",
     "shell.execute_reply": "2024-01-08T20:52:07.226802Z"
    }
   },
   "outputs": [],
   "source": [
    "for name, engine in engines:\n",
    "  try:\n",
    "    clf        = make_pipeline(tfidf, engine).fit(xtrain, ytrain)\n",
    "    prediction = clf.predict(xtest)\n",
    "    score      = clf.score(xtest, prediction)\n",
    "    with lzma.open('./data/{}.pickle.xz'.format(name.lower()), 'wb') as f:\n",
    "      pickle.dump(clf, f, protocol=5)\n",
    "  except Exception as e:\n",
    "    print(\"Epic fail on {}, error: {}\".format(engine, e))"
   ]
  },
  {
   "cell_type": "code",
   "execution_count": 32,
   "metadata": {
    "execution": {
     "iopub.execute_input": "2024-01-08T20:52:07.228454Z",
     "iopub.status.busy": "2024-01-08T20:52:07.228352Z",
     "iopub.status.idle": "2024-01-08T20:52:07.239937Z",
     "shell.execute_reply": "2024-01-08T20:52:07.239574Z"
    }
   },
   "outputs": [],
   "source": [
    "s = '''\n",
    "\n",
    "‘Guys, you’ve got to hear this,” I said. I was sitting in front of my computer one day in July 2012, with one eye on a screen of share prices and the other on a live stream of the House of Commons Treasury select committee hearings. As the Barclays share price took a graceful swan dive, I pulled my headphones out of the socket and turned up the volume so everyone could hear. My colleagues left their terminals and came around to watch BBC Parliament with me.\n",
    "\n",
    "It didn’t take long to realise what was happening. “Bob’s getting murdered,” someone said.\n",
    "\n",
    "Bob Diamond, the swashbuckling chief executive of Barclays, had been called before the committee to explain exactly what his bank had been playing at in regards to the Libor rate-fixing scandal. The day before his appearance, he had made things very much worse by seeming to accuse the deputy governor of the Bank of England of ordering him to fiddle an important benchmark, then walking back the accusation as soon as it was challenged. He was trying to turn on his legendary charm in front of a committee of angry MPs, and it wasn’t working. On our trading floor, in Mayfair, calls were coming in from all over the City. Investors needed to know what was happening and whether the damage was reparable.\n",
    "\n",
    "A couple of weeks later, the damage was done. The money was gone, Diamond was out of a job and the market, as it always does, had moved on. We were left asking ourselves: How did we get it so wrong?\n",
    "\n",
    "'''"
   ]
  },
  {
   "cell_type": "code",
   "execution_count": 33,
   "metadata": {
    "execution": {
     "iopub.execute_input": "2024-01-08T20:52:07.241114Z",
     "iopub.status.busy": "2024-01-08T20:52:07.241025Z",
     "iopub.status.idle": "2024-01-08T20:52:07.252021Z",
     "shell.execute_reply": "2024-01-08T20:52:07.251663Z"
    }
   },
   "outputs": [
    {
     "name": "stdout",
     "output_type": "stream",
     "text": [
      "./data/ridgeclassifiercv.pickle.xz Opinion 1.0\n",
      "./data/nearestcentroid.pickle.xz Opinion 1.0\n",
      "./data/decisiontreeclassifier.pickle.xz Tech 1.0\n",
      "./data/radiusneighborsclassifier.pickle.xz Israel, Middle East, News 1.0\n",
      "./data/passiveaggressiveclassifier.pickle.xz Opinion 1.0\n",
      "./data/randomforestclassifier.pickle.xz Opinion 1.0\n",
      "{\n",
      "    \"Opinion\":4,\n",
      "    \"Tech\":1,\n",
      "    \"Israel, Middle East, News\":1\n",
      "}\n"
     ]
    }
   ],
   "source": [
    "result = []\n",
    "for file in glob.glob('./data/*.pickle.xz'):\n",
    "  clf   = pickle.load(lzma.open('{}'.format(file), 'rb'))\n",
    "  ypred = clf.predict([s])\n",
    "  score = clf.score([s], ypred)\n",
    "  print(file, ypred[0], score)\n",
    "  result.append(ypred[0])\n",
    "\n",
    "print(pd.io.json.dumps(Counter(result), indent=4))"
   ]
  },
  {
   "cell_type": "code",
   "execution_count": null,
   "metadata": {},
   "outputs": [],
   "source": []
  }
 ],
 "metadata": {
  "kernelspec": {
   "display_name": "Python 3.9.13 64-bit",
   "language": "python",
   "name": "python3"
  },
  "language_info": {
   "codemirror_mode": {
    "name": "ipython",
    "version": 3
   },
   "file_extension": ".py",
   "mimetype": "text/x-python",
   "name": "python",
   "nbconvert_exporter": "python",
   "pygments_lexer": "ipython3",
   "version": "3.11.6"
  },
  "vscode": {
   "interpreter": {
    "hash": "aee8b7b246df8f9039afb4144a1f6fd8d2ca17a180786b69acc140d282b71a49"
   }
  }
 },
 "nbformat": 4,
 "nbformat_minor": 4
}
