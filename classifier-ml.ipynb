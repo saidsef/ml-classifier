{
 "cells": [
  {
   "cell_type": "code",
   "execution_count": 1,
   "metadata": {
    "execution": {
     "iopub.execute_input": "2024-04-17T20:45:01.456862Z",
     "iopub.status.busy": "2024-04-17T20:45:01.456419Z",
     "iopub.status.idle": "2024-04-17T20:45:02.224219Z",
     "shell.execute_reply": "2024-04-17T20:45:02.223823Z"
    }
   },
   "outputs": [],
   "source": [
    "%load_ext autoreload\n",
    "%autoreload 2\n",
    "\n",
    "import re\n",
    "import glob\n",
    "import lzma\n",
    "import pickle\n",
    "import pandas as pd\n",
    "import numpy as np\n",
    "import requests as r\n",
    "import seaborn as sns\n",
    "import warnings\n",
    "import matplotlib as mpl\n",
    "import matplotlib.pyplot as plt\n",
    "from json import load, dump, loads, dumps\n",
    "from joblib import hash\n",
    "from collections import Counter\n",
    "from sklearn.metrics import accuracy_score\n",
    "from sklearn.pipeline import make_pipeline\n",
    "from sklearn.neighbors import NearestCentroid, RadiusNeighborsClassifier\n",
    "from sklearn.ensemble import RandomForestClassifier, GradientBoostingClassifier\n",
    "from sklearn.model_selection import train_test_split\n",
    "from sklearn.feature_extraction.text import CountVectorizer, TfidfVectorizer\n",
    "from sklearn.linear_model import RidgeClassifier, PassiveAggressiveClassifier, LogisticRegression\n",
    "from sklearn.tree import DecisionTreeClassifier\n",
    "\n",
    "warnings.simplefilter('ignore')\n",
    "mpl.style.use('ggplot')"
   ]
  },
  {
   "cell_type": "markdown",
   "metadata": {},
   "source": [
    "## Source Data\n",
    "\n",
    "IF source data is missing run Elasticsearch query to extract data and then save it in JSON format to `data` directory"
   ]
  },
  {
   "cell_type": "code",
   "execution_count": 2,
   "metadata": {
    "execution": {
     "iopub.execute_input": "2024-04-17T20:45:02.226047Z",
     "iopub.status.busy": "2024-04-17T20:45:02.225831Z",
     "iopub.status.idle": "2024-04-17T20:45:18.524432Z",
     "shell.execute_reply": "2024-04-17T20:45:18.523973Z"
    }
   },
   "outputs": [],
   "source": [
    "# news_json = r.get('http://elasticsearch.storage:9200/indice/docs/_search?sort=date:desc&size=6000').json()\n",
    "# with lzma.open('./data/news.json.xz', 'wt', encoding='utf-8') as fh:\n",
    "#   fh.write(dumps(news_json['hits']['hits']))"
   ]
  },
  {
   "cell_type": "code",
   "execution_count": 3,
   "metadata": {
    "execution": {
     "iopub.execute_input": "2024-04-17T20:45:18.525902Z",
     "iopub.status.busy": "2024-04-17T20:45:18.525801Z",
     "iopub.status.idle": "2024-04-17T20:45:18.686235Z",
     "shell.execute_reply": "2024-04-17T20:45:18.685869Z"
    }
   },
   "outputs": [],
   "source": [
    "b = loads(lzma.open('./data/news.json.xz', 'rt', encoding='utf-8').read())\n",
    "df = pd.json_normalize(b)"
   ]
  },
  {
   "cell_type": "markdown",
   "metadata": {},
   "source": [
    "## Common issues that we generally face during the data preparation phase:\n",
    " - Format and structure normalization\n",
    " - Detect and fix missing values\n",
    " - Duplicates removal\n",
    " - Units normalization\n",
    " - Constraints validations\n",
    " - Anomaly detection and removal\n",
    " - Study of features importance/relevance\n",
    " - Dimentional reduction, feature selection & extraction"
   ]
  },
  {
   "cell_type": "code",
   "execution_count": 4,
   "metadata": {
    "execution": {
     "iopub.execute_input": "2024-04-17T20:45:18.687749Z",
     "iopub.status.busy": "2024-04-17T20:45:18.687647Z",
     "iopub.status.idle": "2024-04-17T20:45:18.700340Z",
     "shell.execute_reply": "2024-04-17T20:45:18.699978Z"
    }
   },
   "outputs": [],
   "source": [
    "df = df[['_source.body', '_source.date', '_source.subject', '_source.language', '_source.categories']]\n",
    "df.columns = ['body', 'pubdate', 'subject', 'language', 'categories']"
   ]
  },
  {
   "cell_type": "code",
   "execution_count": 5,
   "metadata": {
    "execution": {
     "iopub.execute_input": "2024-04-17T20:45:18.701712Z",
     "iopub.status.busy": "2024-04-17T20:45:18.701621Z",
     "iopub.status.idle": "2024-04-17T20:45:18.760891Z",
     "shell.execute_reply": "2024-04-17T20:45:18.760592Z"
    }
   },
   "outputs": [
    {
     "data": {
      "text/html": [
       "<style type=\"text/css\">\n",
       "</style>\n",
       "<table id=\"T_f9229\">\n",
       "  <thead>\n",
       "    <tr>\n",
       "      <th class=\"blank level0\" >&nbsp;</th>\n",
       "      <th id=\"T_f9229_level0_col0\" class=\"col_heading level0 col0\" >0</th>\n",
       "    </tr>\n",
       "  </thead>\n",
       "  <tbody>\n",
       "    <tr>\n",
       "      <th id=\"T_f9229_level0_row0\" class=\"row_heading level0 row0\" >body</th>\n",
       "      <td id=\"T_f9229_row0_col0\" class=\"data row0 col0\" >The UN, on Wednesday, emphasised the need for significant changes in operating conditions across the Gaza Strip, Occupied West Bank and East Jerusalem for a $2.8 billion appeal to meet the needs of 3.3 million residents, Anadolu Agency reports. &#8220;Humanitarian organisations must have safe and sustained access to all people in need across the Gaza Strip and the West Bank,&#8221; spokesperson, Stephane Dujarric, said at a news conference. The Office for the Coordination of Humanitarian Affairs (OCHA) released a statement announcing a $2.8 billion appeal earlier Wednesday for donations to meet the needs of 3.3 million people. Dujarric emphasised the need for &#8220;more entry and supply routes by land into Gaza, including from the north, as well as increased utilisation [&#8230;]</td>\n",
       "    </tr>\n",
       "    <tr>\n",
       "      <th id=\"T_f9229_level0_row1\" class=\"row_heading level0 row1\" >pubdate</th>\n",
       "      <td id=\"T_f9229_row1_col0\" class=\"data row1 col0\" >2024-04-17T19:17:01.000Z</td>\n",
       "    </tr>\n",
       "    <tr>\n",
       "      <th id=\"T_f9229_level0_row2\" class=\"row_heading level0 row2\" >subject</th>\n",
       "      <td id=\"T_f9229_row2_col0\" class=\"data row2 col0\" >UN calls for 'major changes in operating conditions' across Gaza, West Bank</td>\n",
       "    </tr>\n",
       "    <tr>\n",
       "      <th id=\"T_f9229_level0_row3\" class=\"row_heading level0 row3\" >language</th>\n",
       "      <td id=\"T_f9229_row3_col0\" class=\"data row3 col0\" >English</td>\n",
       "    </tr>\n",
       "    <tr>\n",
       "      <th id=\"T_f9229_level0_row4\" class=\"row_heading level0 row4\" >categories</th>\n",
       "      <td id=\"T_f9229_row4_col0\" class=\"data row4 col0\" >International Organisations, Israel, Middle East</td>\n",
       "    </tr>\n",
       "  </tbody>\n",
       "</table>\n"
      ],
      "text/plain": [
       "<pandas.io.formats.style.Styler at 0xffff45b4db10>"
      ]
     },
     "execution_count": 5,
     "metadata": {},
     "output_type": "execute_result"
    }
   ],
   "source": [
    "df.drop_duplicates(inplace=True)\n",
    "df.head(1).T.style"
   ]
  },
  {
   "cell_type": "code",
   "execution_count": 6,
   "metadata": {
    "execution": {
     "iopub.execute_input": "2024-04-17T20:45:18.779827Z",
     "iopub.status.busy": "2024-04-17T20:45:18.779658Z",
     "iopub.status.idle": "2024-04-17T20:45:18.795164Z",
     "shell.execute_reply": "2024-04-17T20:45:18.794824Z"
    }
   },
   "outputs": [],
   "source": [
    "df = df.loc[(df['categories'] != 'News') & \n",
    "            (df['categories'] != 'articles 2015') & \n",
    "            (df['categories'] != 'frontpage') &\n",
    "            (df['categories'] != 'English') &\n",
    "            (df['categories'] != 'Comment') &\n",
    "            (df['categories'] != 'Uncategorized') &\n",
    "            (df['language'] == 'English')]"
   ]
  },
  {
   "cell_type": "code",
   "execution_count": 7,
   "metadata": {
    "execution": {
     "iopub.execute_input": "2024-04-17T20:45:18.796477Z",
     "iopub.status.busy": "2024-04-17T20:45:18.796389Z",
     "iopub.status.idle": "2024-04-17T20:45:18.814222Z",
     "shell.execute_reply": "2024-04-17T20:45:18.813853Z"
    }
   },
   "outputs": [],
   "source": [
    "df['categories'] = df['categories'].str.replace(r'[^a-zA-Z_, ]+', '').replace(', ', '')\n",
    "df['categories'] = df['categories'].str.replace(r'^, ', '')\n",
    "df = df[~df.eq('').all(1)]"
   ]
  },
  {
   "cell_type": "code",
   "execution_count": 8,
   "metadata": {
    "execution": {
     "iopub.execute_input": "2024-04-17T20:45:18.815574Z",
     "iopub.status.busy": "2024-04-17T20:45:18.815462Z",
     "iopub.status.idle": "2024-04-17T20:45:18.839160Z",
     "shell.execute_reply": "2024-04-17T20:45:18.838830Z"
    }
   },
   "outputs": [
    {
     "data": {
      "text/html": [
       "<div>\n",
       "<style scoped>\n",
       "    .dataframe tbody tr th:only-of-type {\n",
       "        vertical-align: middle;\n",
       "    }\n",
       "\n",
       "    .dataframe tbody tr th {\n",
       "        vertical-align: top;\n",
       "    }\n",
       "\n",
       "    .dataframe thead tr th {\n",
       "        text-align: left;\n",
       "    }\n",
       "\n",
       "    .dataframe thead tr:last-of-type th {\n",
       "        text-align: right;\n",
       "    }\n",
       "</style>\n",
       "<table border=\"1\" class=\"dataframe\">\n",
       "  <thead>\n",
       "    <tr>\n",
       "      <th></th>\n",
       "      <th>body</th>\n",
       "      <th>pubdate</th>\n",
       "      <th>subject</th>\n",
       "      <th>language</th>\n",
       "    </tr>\n",
       "    <tr>\n",
       "      <th></th>\n",
       "      <th>count</th>\n",
       "      <th>count</th>\n",
       "      <th>count</th>\n",
       "      <th>count</th>\n",
       "    </tr>\n",
       "    <tr>\n",
       "      <th>categories</th>\n",
       "      <th></th>\n",
       "      <th></th>\n",
       "      <th></th>\n",
       "      <th></th>\n",
       "    </tr>\n",
       "  </thead>\n",
       "  <tbody>\n",
       "    <tr>\n",
       "      <th>#Culture, #Life, Books</th>\n",
       "      <td>1</td>\n",
       "      <td>1</td>\n",
       "      <td>1</td>\n",
       "      <td>1</td>\n",
       "    </tr>\n",
       "    <tr>\n",
       "      <th>#Culture, featured, Featured Culture</th>\n",
       "      <td>2</td>\n",
       "      <td>2</td>\n",
       "      <td>2</td>\n",
       "      <td>2</td>\n",
       "    </tr>\n",
       "    <tr>\n",
       "      <th>#Islam, featured, Featured Islam</th>\n",
       "      <td>4</td>\n",
       "      <td>4</td>\n",
       "      <td>4</td>\n",
       "      <td>4</td>\n",
       "    </tr>\n",
       "    <tr>\n",
       "      <th>#Life, Development, featured</th>\n",
       "      <td>3</td>\n",
       "      <td>3</td>\n",
       "      <td>3</td>\n",
       "      <td>3</td>\n",
       "    </tr>\n",
       "    <tr>\n",
       "      <th>Afghanistan, Africa, Asia &amp; Americas</th>\n",
       "      <td>6</td>\n",
       "      <td>6</td>\n",
       "      <td>6</td>\n",
       "      <td>6</td>\n",
       "    </tr>\n",
       "    <tr>\n",
       "      <th>Afghanistan, Asia &amp; Americas, Europe &amp; Russia</th>\n",
       "      <td>13</td>\n",
       "      <td>13</td>\n",
       "      <td>13</td>\n",
       "      <td>13</td>\n",
       "    </tr>\n",
       "    <tr>\n",
       "      <th>Africa, Algeria, Arab League</th>\n",
       "      <td>5</td>\n",
       "      <td>5</td>\n",
       "      <td>5</td>\n",
       "      <td>5</td>\n",
       "    </tr>\n",
       "    <tr>\n",
       "      <th>Africa, Algeria, Article</th>\n",
       "      <td>7</td>\n",
       "      <td>7</td>\n",
       "      <td>7</td>\n",
       "      <td>7</td>\n",
       "    </tr>\n",
       "    <tr>\n",
       "      <th>Africa, Algeria, Asia &amp; Americas</th>\n",
       "      <td>9</td>\n",
       "      <td>9</td>\n",
       "      <td>9</td>\n",
       "      <td>9</td>\n",
       "    </tr>\n",
       "    <tr>\n",
       "      <th>Africa, Algeria, Europe &amp; Russia</th>\n",
       "      <td>30</td>\n",
       "      <td>30</td>\n",
       "      <td>30</td>\n",
       "      <td>30</td>\n",
       "    </tr>\n",
       "    <tr>\n",
       "      <th>Africa, Article, Asia &amp; Americas</th>\n",
       "      <td>26</td>\n",
       "      <td>26</td>\n",
       "      <td>26</td>\n",
       "      <td>26</td>\n",
       "    </tr>\n",
       "    <tr>\n",
       "      <th>Africa, Article, Egypt</th>\n",
       "      <td>27</td>\n",
       "      <td>27</td>\n",
       "      <td>27</td>\n",
       "      <td>27</td>\n",
       "    </tr>\n",
       "    <tr>\n",
       "      <th>Africa, Article, Europe &amp; Russia</th>\n",
       "      <td>8</td>\n",
       "      <td>8</td>\n",
       "      <td>8</td>\n",
       "      <td>8</td>\n",
       "    </tr>\n",
       "    <tr>\n",
       "      <th>Africa, Asia &amp; Americas, Egypt</th>\n",
       "      <td>36</td>\n",
       "      <td>36</td>\n",
       "      <td>36</td>\n",
       "      <td>36</td>\n",
       "    </tr>\n",
       "    <tr>\n",
       "      <th>Africa, Asia &amp; Americas, Europe &amp; Russia</th>\n",
       "      <td>11</td>\n",
       "      <td>11</td>\n",
       "      <td>11</td>\n",
       "      <td>11</td>\n",
       "    </tr>\n",
       "    <tr>\n",
       "      <th>Africa, EU, Europe &amp; Russia</th>\n",
       "      <td>12</td>\n",
       "      <td>12</td>\n",
       "      <td>12</td>\n",
       "      <td>12</td>\n",
       "    </tr>\n",
       "    <tr>\n",
       "      <th>Africa, Egypt, Europe &amp; Russia</th>\n",
       "      <td>49</td>\n",
       "      <td>49</td>\n",
       "      <td>49</td>\n",
       "      <td>49</td>\n",
       "    </tr>\n",
       "    <tr>\n",
       "      <th>Africa, Egypt, Israel</th>\n",
       "      <td>41</td>\n",
       "      <td>41</td>\n",
       "      <td>41</td>\n",
       "      <td>41</td>\n",
       "    </tr>\n",
       "    <tr>\n",
       "      <th>Africa, Egypt, Middle East</th>\n",
       "      <td>20</td>\n",
       "      <td>20</td>\n",
       "      <td>20</td>\n",
       "      <td>20</td>\n",
       "    </tr>\n",
       "    <tr>\n",
       "      <th>Africa, Egypt, News</th>\n",
       "      <td>71</td>\n",
       "      <td>71</td>\n",
       "      <td>71</td>\n",
       "      <td>71</td>\n",
       "    </tr>\n",
       "    <tr>\n",
       "      <th>Africa, Europe &amp; Russia, News</th>\n",
       "      <td>22</td>\n",
       "      <td>22</td>\n",
       "      <td>22</td>\n",
       "      <td>22</td>\n",
       "    </tr>\n",
       "    <tr>\n",
       "      <th>Africa, International Organisations, News</th>\n",
       "      <td>15</td>\n",
       "      <td>15</td>\n",
       "      <td>15</td>\n",
       "      <td>15</td>\n",
       "    </tr>\n",
       "    <tr>\n",
       "      <th>Africa, Israel, Middle East</th>\n",
       "      <td>24</td>\n",
       "      <td>24</td>\n",
       "      <td>24</td>\n",
       "      <td>24</td>\n",
       "    </tr>\n",
       "    <tr>\n",
       "      <th>Africa, Libya, News</th>\n",
       "      <td>19</td>\n",
       "      <td>19</td>\n",
       "      <td>19</td>\n",
       "      <td>19</td>\n",
       "    </tr>\n",
       "    <tr>\n",
       "      <th>Africa, Middle East, News</th>\n",
       "      <td>10</td>\n",
       "      <td>10</td>\n",
       "      <td>10</td>\n",
       "      <td>10</td>\n",
       "    </tr>\n",
       "    <tr>\n",
       "      <th>Africa, News, Sudan</th>\n",
       "      <td>28</td>\n",
       "      <td>28</td>\n",
       "      <td>28</td>\n",
       "      <td>28</td>\n",
       "    </tr>\n",
       "    <tr>\n",
       "      <th>Africa, News, Tunisia</th>\n",
       "      <td>68</td>\n",
       "      <td>68</td>\n",
       "      <td>68</td>\n",
       "      <td>68</td>\n",
       "    </tr>\n",
       "    <tr>\n",
       "      <th>Analysis, Breaking, Exclusive</th>\n",
       "      <td>17</td>\n",
       "      <td>17</td>\n",
       "      <td>17</td>\n",
       "      <td>17</td>\n",
       "    </tr>\n",
       "    <tr>\n",
       "      <th>Article, Israel, Middle East</th>\n",
       "      <td>58</td>\n",
       "      <td>58</td>\n",
       "      <td>58</td>\n",
       "      <td>58</td>\n",
       "    </tr>\n",
       "    <tr>\n",
       "      <th>Arts &amp; Life</th>\n",
       "      <td>21</td>\n",
       "      <td>21</td>\n",
       "      <td>21</td>\n",
       "      <td>21</td>\n",
       "    </tr>\n",
       "    <tr>\n",
       "      <th>Asia &amp; Americas, China, Europe &amp; Russia</th>\n",
       "      <td>14</td>\n",
       "      <td>14</td>\n",
       "      <td>14</td>\n",
       "      <td>14</td>\n",
       "    </tr>\n",
       "    <tr>\n",
       "      <th>Asia &amp; Americas, Israel, Middle East</th>\n",
       "      <td>150</td>\n",
       "      <td>150</td>\n",
       "      <td>150</td>\n",
       "      <td>150</td>\n",
       "    </tr>\n",
       "    <tr>\n",
       "      <th>Asia &amp; Americas, Middle East, News</th>\n",
       "      <td>34</td>\n",
       "      <td>34</td>\n",
       "      <td>34</td>\n",
       "      <td>34</td>\n",
       "    </tr>\n",
       "    <tr>\n",
       "      <th>China, Defence &amp; Foreign Policy, Politics &amp; Protest</th>\n",
       "      <td>18</td>\n",
       "      <td>18</td>\n",
       "      <td>18</td>\n",
       "      <td>18</td>\n",
       "    </tr>\n",
       "    <tr>\n",
       "      <th>EU, Europe &amp; Russia, International Organisations</th>\n",
       "      <td>16</td>\n",
       "      <td>16</td>\n",
       "      <td>16</td>\n",
       "      <td>16</td>\n",
       "    </tr>\n",
       "    <tr>\n",
       "      <th>Europe &amp; Russia, Israel, Middle East</th>\n",
       "      <td>93</td>\n",
       "      <td>93</td>\n",
       "      <td>93</td>\n",
       "      <td>93</td>\n",
       "    </tr>\n",
       "    <tr>\n",
       "      <th>Europe &amp; Russia, Middle East, News</th>\n",
       "      <td>94</td>\n",
       "      <td>94</td>\n",
       "      <td>94</td>\n",
       "      <td>94</td>\n",
       "    </tr>\n",
       "    <tr>\n",
       "      <th>Europe &amp; Russia, News, Turkey</th>\n",
       "      <td>75</td>\n",
       "      <td>75</td>\n",
       "      <td>75</td>\n",
       "      <td>75</td>\n",
       "    </tr>\n",
       "    <tr>\n",
       "      <th>Hong Kong, Law &amp; Crime, Politics &amp; Protest</th>\n",
       "      <td>63</td>\n",
       "      <td>63</td>\n",
       "      <td>63</td>\n",
       "      <td>63</td>\n",
       "    </tr>\n",
       "    <tr>\n",
       "      <th>Iran, Middle East, News</th>\n",
       "      <td>55</td>\n",
       "      <td>55</td>\n",
       "      <td>55</td>\n",
       "      <td>55</td>\n",
       "    </tr>\n",
       "    <tr>\n",
       "      <th>Israel, Lebanon, Middle East</th>\n",
       "      <td>38</td>\n",
       "      <td>38</td>\n",
       "      <td>38</td>\n",
       "      <td>38</td>\n",
       "    </tr>\n",
       "    <tr>\n",
       "      <th>Israel, Middle East, News</th>\n",
       "      <td>566</td>\n",
       "      <td>566</td>\n",
       "      <td>566</td>\n",
       "      <td>566</td>\n",
       "    </tr>\n",
       "    <tr>\n",
       "      <th>Israel, Middle East, Palestine</th>\n",
       "      <td>53</td>\n",
       "      <td>53</td>\n",
       "      <td>53</td>\n",
       "      <td>53</td>\n",
       "    </tr>\n",
       "    <tr>\n",
       "      <th>Local</th>\n",
       "      <td>126</td>\n",
       "      <td>126</td>\n",
       "      <td>126</td>\n",
       "      <td>126</td>\n",
       "    </tr>\n",
       "    <tr>\n",
       "      <th>Middle East, News, Palestine</th>\n",
       "      <td>23</td>\n",
       "      <td>23</td>\n",
       "      <td>23</td>\n",
       "      <td>23</td>\n",
       "    </tr>\n",
       "    <tr>\n",
       "      <th>Middle East, News, Saudi Arabia</th>\n",
       "      <td>42</td>\n",
       "      <td>42</td>\n",
       "      <td>42</td>\n",
       "      <td>42</td>\n",
       "    </tr>\n",
       "    <tr>\n",
       "      <th>Middle East, News, Syria</th>\n",
       "      <td>25</td>\n",
       "      <td>25</td>\n",
       "      <td>25</td>\n",
       "      <td>25</td>\n",
       "    </tr>\n",
       "    <tr>\n",
       "      <th>Opinion</th>\n",
       "      <td>56</td>\n",
       "      <td>56</td>\n",
       "      <td>56</td>\n",
       "      <td>56</td>\n",
       "    </tr>\n",
       "    <tr>\n",
       "      <th>Palestine</th>\n",
       "      <td>33</td>\n",
       "      <td>33</td>\n",
       "      <td>33</td>\n",
       "      <td>33</td>\n",
       "    </tr>\n",
       "    <tr>\n",
       "      <th>World</th>\n",
       "      <td>88</td>\n",
       "      <td>88</td>\n",
       "      <td>88</td>\n",
       "      <td>88</td>\n",
       "    </tr>\n",
       "  </tbody>\n",
       "</table>\n",
       "</div>"
      ],
      "text/plain": [
       "                                                    body pubdate subject  \\\n",
       "                                                   count   count   count   \n",
       "categories                                                                 \n",
       "#Culture, #Life, Books                                 1       1       1   \n",
       "#Culture, featured, Featured Culture                   2       2       2   \n",
       "#Islam, featured, Featured Islam                       4       4       4   \n",
       "#Life, Development, featured                           3       3       3   \n",
       "Afghanistan, Africa, Asia & Americas                   6       6       6   \n",
       "Afghanistan, Asia & Americas, Europe & Russia         13      13      13   \n",
       "Africa, Algeria, Arab League                           5       5       5   \n",
       "Africa, Algeria, Article                               7       7       7   \n",
       "Africa, Algeria, Asia & Americas                       9       9       9   \n",
       "Africa, Algeria, Europe & Russia                      30      30      30   \n",
       "Africa, Article, Asia & Americas                      26      26      26   \n",
       "Africa, Article, Egypt                                27      27      27   \n",
       "Africa, Article, Europe & Russia                       8       8       8   \n",
       "Africa, Asia & Americas, Egypt                        36      36      36   \n",
       "Africa, Asia & Americas, Europe & Russia              11      11      11   \n",
       "Africa, EU, Europe & Russia                           12      12      12   \n",
       "Africa, Egypt, Europe & Russia                        49      49      49   \n",
       "Africa, Egypt, Israel                                 41      41      41   \n",
       "Africa, Egypt, Middle East                            20      20      20   \n",
       "Africa, Egypt, News                                   71      71      71   \n",
       "Africa, Europe & Russia, News                         22      22      22   \n",
       "Africa, International Organisations, News             15      15      15   \n",
       "Africa, Israel, Middle East                           24      24      24   \n",
       "Africa, Libya, News                                   19      19      19   \n",
       "Africa, Middle East, News                             10      10      10   \n",
       "Africa, News, Sudan                                   28      28      28   \n",
       "Africa, News, Tunisia                                 68      68      68   \n",
       "Analysis, Breaking, Exclusive                         17      17      17   \n",
       "Article, Israel, Middle East                          58      58      58   \n",
       "Arts & Life                                           21      21      21   \n",
       "Asia & Americas, China, Europe & Russia               14      14      14   \n",
       "Asia & Americas, Israel, Middle East                 150     150     150   \n",
       "Asia & Americas, Middle East, News                    34      34      34   \n",
       "China, Defence & Foreign Policy, Politics & Pro...    18      18      18   \n",
       "EU, Europe & Russia, International Organisations      16      16      16   \n",
       "Europe & Russia, Israel, Middle East                  93      93      93   \n",
       "Europe & Russia, Middle East, News                    94      94      94   \n",
       "Europe & Russia, News, Turkey                         75      75      75   \n",
       "Hong Kong, Law & Crime, Politics & Protest            63      63      63   \n",
       "Iran, Middle East, News                               55      55      55   \n",
       "Israel, Lebanon, Middle East                          38      38      38   \n",
       "Israel, Middle East, News                            566     566     566   \n",
       "Israel, Middle East, Palestine                        53      53      53   \n",
       "Local                                                126     126     126   \n",
       "Middle East, News, Palestine                          23      23      23   \n",
       "Middle East, News, Saudi Arabia                       42      42      42   \n",
       "Middle East, News, Syria                              25      25      25   \n",
       "Opinion                                               56      56      56   \n",
       "Palestine                                             33      33      33   \n",
       "World                                                 88      88      88   \n",
       "\n",
       "                                                   language  \n",
       "                                                      count  \n",
       "categories                                                   \n",
       "#Culture, #Life, Books                                    1  \n",
       "#Culture, featured, Featured Culture                      2  \n",
       "#Islam, featured, Featured Islam                          4  \n",
       "#Life, Development, featured                              3  \n",
       "Afghanistan, Africa, Asia & Americas                      6  \n",
       "Afghanistan, Asia & Americas, Europe & Russia            13  \n",
       "Africa, Algeria, Arab League                              5  \n",
       "Africa, Algeria, Article                                  7  \n",
       "Africa, Algeria, Asia & Americas                          9  \n",
       "Africa, Algeria, Europe & Russia                         30  \n",
       "Africa, Article, Asia & Americas                         26  \n",
       "Africa, Article, Egypt                                   27  \n",
       "Africa, Article, Europe & Russia                          8  \n",
       "Africa, Asia & Americas, Egypt                           36  \n",
       "Africa, Asia & Americas, Europe & Russia                 11  \n",
       "Africa, EU, Europe & Russia                              12  \n",
       "Africa, Egypt, Europe & Russia                           49  \n",
       "Africa, Egypt, Israel                                    41  \n",
       "Africa, Egypt, Middle East                               20  \n",
       "Africa, Egypt, News                                      71  \n",
       "Africa, Europe & Russia, News                            22  \n",
       "Africa, International Organisations, News                15  \n",
       "Africa, Israel, Middle East                              24  \n",
       "Africa, Libya, News                                      19  \n",
       "Africa, Middle East, News                                10  \n",
       "Africa, News, Sudan                                      28  \n",
       "Africa, News, Tunisia                                    68  \n",
       "Analysis, Breaking, Exclusive                            17  \n",
       "Article, Israel, Middle East                             58  \n",
       "Arts & Life                                              21  \n",
       "Asia & Americas, China, Europe & Russia                  14  \n",
       "Asia & Americas, Israel, Middle East                    150  \n",
       "Asia & Americas, Middle East, News                       34  \n",
       "China, Defence & Foreign Policy, Politics & Pro...       18  \n",
       "EU, Europe & Russia, International Organisations         16  \n",
       "Europe & Russia, Israel, Middle East                     93  \n",
       "Europe & Russia, Middle East, News                       94  \n",
       "Europe & Russia, News, Turkey                            75  \n",
       "Hong Kong, Law & Crime, Politics & Protest               63  \n",
       "Iran, Middle East, News                                  55  \n",
       "Israel, Lebanon, Middle East                             38  \n",
       "Israel, Middle East, News                               566  \n",
       "Israel, Middle East, Palestine                           53  \n",
       "Local                                                   126  \n",
       "Middle East, News, Palestine                             23  \n",
       "Middle East, News, Saudi Arabia                          42  \n",
       "Middle East, News, Syria                                 25  \n",
       "Opinion                                                  56  \n",
       "Palestine                                                33  \n",
       "World                                                    88  "
      ]
     },
     "execution_count": 8,
     "metadata": {},
     "output_type": "execute_result"
    }
   ],
   "source": [
    "df.groupby(['categories']).agg({'count'}).drop_duplicates()"
   ]
  },
  {
   "cell_type": "code",
   "execution_count": 9,
   "metadata": {
    "execution": {
     "iopub.execute_input": "2024-04-17T20:45:18.840641Z",
     "iopub.status.busy": "2024-04-17T20:45:18.840339Z",
     "iopub.status.idle": "2024-04-17T20:45:18.883206Z",
     "shell.execute_reply": "2024-04-17T20:45:18.882857Z"
    }
   },
   "outputs": [],
   "source": [
    "df['cat_id']       = df['categories'].factorize()[0]\n",
    "df['lang_id']      = df['language'].factorize()[0]\n",
    "df['char_count']   = df['body'].apply(len)\n",
    "df['word_count']   = df['body'].apply(lambda x: len(x.split()))\n",
    "df['word_density'] = df['char_count'] / (df['word_count']+1)\n"
   ]
  },
  {
   "cell_type": "code",
   "execution_count": 10,
   "metadata": {
    "execution": {
     "iopub.execute_input": "2024-04-17T20:45:18.884543Z",
     "iopub.status.busy": "2024-04-17T20:45:18.884450Z",
     "iopub.status.idle": "2024-04-17T20:45:18.897076Z",
     "shell.execute_reply": "2024-04-17T20:45:18.896737Z"
    }
   },
   "outputs": [],
   "source": [
    "df = df.dropna()"
   ]
  },
  {
   "cell_type": "code",
   "execution_count": 11,
   "metadata": {
    "execution": {
     "iopub.execute_input": "2024-04-17T20:45:18.898359Z",
     "iopub.status.busy": "2024-04-17T20:45:18.898270Z",
     "iopub.status.idle": "2024-04-17T20:45:18.909134Z",
     "shell.execute_reply": "2024-04-17T20:45:18.908828Z"
    }
   },
   "outputs": [
    {
     "data": {
      "text/plain": [
       "(5674, 10)"
      ]
     },
     "execution_count": 11,
     "metadata": {},
     "output_type": "execute_result"
    }
   ],
   "source": [
    "df.shape"
   ]
  },
  {
   "cell_type": "code",
   "execution_count": 12,
   "metadata": {
    "execution": {
     "iopub.execute_input": "2024-04-17T20:45:18.910232Z",
     "iopub.status.busy": "2024-04-17T20:45:18.910143Z",
     "iopub.status.idle": "2024-04-17T20:45:18.919194Z",
     "shell.execute_reply": "2024-04-17T20:45:18.918883Z"
    }
   },
   "outputs": [],
   "source": [
    "# sns.set()\n",
    "# sns.pairplot(df, height=3.5, kind=\"reg\", palette=\"husl\", diag_kind=\"auto\")"
   ]
  },
  {
   "cell_type": "code",
   "execution_count": 13,
   "metadata": {
    "execution": {
     "iopub.execute_input": "2024-04-17T20:45:18.920309Z",
     "iopub.status.busy": "2024-04-17T20:45:18.920222Z",
     "iopub.status.idle": "2024-04-17T20:45:18.930062Z",
     "shell.execute_reply": "2024-04-17T20:45:18.929751Z"
    }
   },
   "outputs": [],
   "source": [
    "xtrain, xtest, ytrain, ytest = train_test_split(df['body'], df['categories'], test_size=0.3, random_state=20)"
   ]
  },
  {
   "cell_type": "code",
   "execution_count": 14,
   "metadata": {
    "execution": {
     "iopub.execute_input": "2024-04-17T20:45:18.931191Z",
     "iopub.status.busy": "2024-04-17T20:45:18.931107Z",
     "iopub.status.idle": "2024-04-17T20:45:18.941252Z",
     "shell.execute_reply": "2024-04-17T20:45:18.940936Z"
    }
   },
   "outputs": [],
   "source": [
    "\n",
    "tfidf = TfidfVectorizer(use_idf=False, sublinear_tf=True, min_df=5, norm='l2', encoding='latin-1', analyzer='char', lowercase=False, ngram_range=(1, 2), stop_words='english')"
   ]
  },
  {
   "cell_type": "code",
   "execution_count": 15,
   "metadata": {
    "execution": {
     "iopub.execute_input": "2024-04-17T20:45:18.942363Z",
     "iopub.status.busy": "2024-04-17T20:45:18.942277Z",
     "iopub.status.idle": "2024-04-17T20:45:20.438138Z",
     "shell.execute_reply": "2024-04-17T20:45:20.437752Z"
    }
   },
   "outputs": [],
   "source": [
    "features = tfidf.fit_transform(df.body).toarray()\n",
    "labels = df.cat_id"
   ]
  },
  {
   "cell_type": "code",
   "execution_count": 16,
   "metadata": {
    "execution": {
     "iopub.execute_input": "2024-04-17T20:45:20.439579Z",
     "iopub.status.busy": "2024-04-17T20:45:20.439475Z",
     "iopub.status.idle": "2024-04-17T20:45:20.450028Z",
     "shell.execute_reply": "2024-04-17T20:45:20.449701Z"
    }
   },
   "outputs": [],
   "source": [
    "engines = [('PassiveAggressiveClassifier', PassiveAggressiveClassifier(fit_intercept=True)),\n",
    "           ('NearestCentroid', NearestCentroid()),\n",
    "           ('RandomForestClassifier', RandomForestClassifier(min_samples_leaf=0.01)),\n",
    "           ('RidgeClassifierCV', RidgeClassifier(fit_intercept=True)),\n",
    "           ('RadiusNeighborsClassifier', RadiusNeighborsClassifier()),\n",
    "           ('DecisionTreeClassifier', DecisionTreeClassifier(min_samples_leaf=0.01))]"
   ]
  },
  {
   "cell_type": "code",
   "execution_count": 17,
   "metadata": {
    "execution": {
     "iopub.execute_input": "2024-04-17T20:45:20.451208Z",
     "iopub.status.busy": "2024-04-17T20:45:20.451122Z",
     "iopub.status.idle": "2024-04-17T20:48:03.567939Z",
     "shell.execute_reply": "2024-04-17T20:48:03.567583Z"
    }
   },
   "outputs": [],
   "source": [
    "for name, engine in engines:\n",
    "  try:\n",
    "    clf        = make_pipeline(tfidf, engine).fit(xtrain, ytrain)\n",
    "    prediction = clf.predict(xtest)\n",
    "    score      = clf.score(xtest, prediction)\n",
    "    with lzma.open('./data/{}.pickle.xz'.format(name.lower()), 'wb') as f:\n",
    "      pickle.dump(clf, f, protocol=5)\n",
    "  except Exception as e:\n",
    "    print(\"Epic fail on {}, error: {}\".format(engine, e))"
   ]
  },
  {
   "cell_type": "code",
   "execution_count": 18,
   "metadata": {
    "execution": {
     "iopub.execute_input": "2024-04-17T20:48:03.569671Z",
     "iopub.status.busy": "2024-04-17T20:48:03.569389Z",
     "iopub.status.idle": "2024-04-17T20:48:03.581000Z",
     "shell.execute_reply": "2024-04-17T20:48:03.580622Z"
    }
   },
   "outputs": [],
   "source": [
    "s = '''\n",
    "\n",
    "‘Guys, you’ve got to hear this,” I said. I was sitting in front of my computer one day in July 2012, with one eye on a screen of share prices and the other on a live stream of the House of Commons Treasury select committee hearings. As the Barclays share price took a graceful swan dive, I pulled my headphones out of the socket and turned up the volume so everyone could hear. My colleagues left their terminals and came around to watch BBC Parliament with me.\n",
    "\n",
    "It didn’t take long to realise what was happening. “Bob’s getting murdered,” someone said.\n",
    "\n",
    "Bob Diamond, the swashbuckling chief executive of Barclays, had been called before the committee to explain exactly what his bank had been playing at in regards to the Libor rate-fixing scandal. The day before his appearance, he had made things very much worse by seeming to accuse the deputy governor of the Bank of England of ordering him to fiddle an important benchmark, then walking back the accusation as soon as it was challenged. He was trying to turn on his legendary charm in front of a committee of angry MPs, and it wasn’t working. On our trading floor, in Mayfair, calls were coming in from all over the City. Investors needed to know what was happening and whether the damage was reparable.\n",
    "\n",
    "A couple of weeks later, the damage was done. The money was gone, Diamond was out of a job and the market, as it always does, had moved on. We were left asking ourselves: How did we get it so wrong?\n",
    "\n",
    "'''"
   ]
  },
  {
   "cell_type": "code",
   "execution_count": 19,
   "metadata": {
    "execution": {
     "iopub.execute_input": "2024-04-17T20:48:03.582311Z",
     "iopub.status.busy": "2024-04-17T20:48:03.582213Z",
     "iopub.status.idle": "2024-04-17T20:48:06.122953Z",
     "shell.execute_reply": "2024-04-17T20:48:06.122586Z"
    }
   },
   "outputs": [
    {
     "name": "stdout",
     "output_type": "stream",
     "text": [
      "./data/ridgeclassifiercv.pickle.xz Opinion 1.0\n",
      "./data/nearestcentroid.pickle.xz Opinion 1.0\n",
      "./data/decisiontreeclassifier.pickle.xz #Islam, Featured Islam, Inspiration and Spirituality 1.0\n",
      "./data/radiusneighborsclassifier.pickle.xz Israel, Middle East, News 1.0\n",
      "./data/passiveaggressiveclassifier.pickle.xz News, anti-Zionism, Jewish anti-Zionism 1.0\n",
      "./data/randomforestclassifier.pickle.xz Opinion 1.0\n",
      "{\n",
      "    \"Opinion\":3,\n",
      "    \"#Islam, Featured Islam, Inspiration and Spirituality\":1,\n",
      "    \"Israel, Middle East, News\":1,\n",
      "    \"News, anti-Zionism, Jewish anti-Zionism\":1\n",
      "}\n"
     ]
    }
   ],
   "source": [
    "result = []\n",
    "for file in glob.glob('./data/*.pickle.xz'):\n",
    "  clf   = pickle.load(lzma.open('{}'.format(file), 'rb'))\n",
    "  ypred = clf.predict([s])\n",
    "  score = clf.score([s], ypred)\n",
    "  print(file, ypred[0], score)\n",
    "  result.append(ypred[0])\n",
    "\n",
    "print(pd.io.json.dumps(Counter(result), indent=4))"
   ]
  },
  {
   "cell_type": "code",
   "execution_count": null,
   "metadata": {},
   "outputs": [],
   "source": []
  }
 ],
 "metadata": {
  "kernelspec": {
   "display_name": "Python 3.9.13 64-bit",
   "language": "python",
   "name": "python3"
  },
  "language_info": {
   "codemirror_mode": {
    "name": "ipython",
    "version": 3
   },
   "file_extension": ".py",
   "mimetype": "text/x-python",
   "name": "python",
   "nbconvert_exporter": "python",
   "pygments_lexer": "ipython3",
   "version": "3.11.6"
  },
  "vscode": {
   "interpreter": {
    "hash": "aee8b7b246df8f9039afb4144a1f6fd8d2ca17a180786b69acc140d282b71a49"
   }
  }
 },
 "nbformat": 4,
 "nbformat_minor": 4
}
