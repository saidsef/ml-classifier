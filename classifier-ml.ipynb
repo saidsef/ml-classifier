{
 "cells": [
  {
   "cell_type": "code",
   "execution_count": 1,
   "metadata": {},
   "outputs": [],
   "source": [
    "import datetime\n",
    "import numpy as np\n",
    "import pandas as pd\n",
    "import matplotlib.pyplot as plt\n",
    "import seaborn as sns\n",
    "from json import dumps, loads\n",
    "from sklearn.feature_selection import chi2\n",
    "from requests import get\n",
    "from sklearn.model_selection import cross_val_score, train_test_split\n",
    "from sklearn.feature_extraction.text import CountVectorizer, TfidfTransformer, TfidfVectorizer\n",
    "from sklearn.naive_bayes import MultinomialNB\n",
    "from sklearn.linear_model import LinearRegression\n",
    "from sklearn.preprocessing import PolynomialFeatures, FunctionTransformer, StandardScaler\n",
    "from sklearn.linear_model import LogisticRegression, PassiveAggressiveClassifier, RidgeClassifier, RidgeClassifierCV, SGDClassifier\n",
    "from sklearn.ensemble import RandomForestClassifier, GradientBoostingClassifier, VotingClassifier, ExtraTreesClassifier\n",
    "from sklearn.svm import LinearSVC\n",
    "from sklearn.multiclass import OneVsRestClassifier\n",
    "from sklearn.neural_network import MLPClassifier\n",
    "from sklearn.pipeline import make_pipeline, Pipeline\n",
    "from sklearn.metrics import mean_squared_error, r2_score, accuracy_score, confusion_matrix, classification_report\n",
    "from sklearn.preprocessing import MinMaxScaler\n",
    "from sklearn.neighbors import KNeighborsClassifier, RadiusNeighborsClassifier\n",
    "from sklearn.semi_supervised import LabelPropagation\n",
    "from sklearn.tree import DecisionTreeClassifier, ExtraTreeClassifier\n",
    "from sklearn.externals import joblib"
   ]
  },
  {
   "cell_type": "code",
   "execution_count": 2,
   "metadata": {},
   "outputs": [],
   "source": [
    "df = pd.read_json('./data/news.json')"
   ]
  },
  {
   "cell_type": "code",
   "execution_count": 3,
   "metadata": {},
   "outputs": [
    {
     "data": {
      "text/html": [
       "<style  type=\"text/css\" >\n",
       "</style>  \n",
       "<table id=\"T_2690425c_ef76_11e8_97ea_0a580af40073\" > \n",
       "<thead>    <tr> \n",
       "        <th class=\"blank level0\" ></th> \n",
       "        <th class=\"col_heading level0 col0\" >0</th> \n",
       "    </tr></thead> \n",
       "<tbody>    <tr> \n",
       "        <th id=\"T_2690425c_ef76_11e8_97ea_0a580af40073level0_row0\" class=\"row_heading level0 row0\" >body</th> \n",
       "        <td id=\"T_2690425c_ef76_11e8_97ea_0a580af40073row0_col0\" class=\"data row0 col0\" >[COSATU] The Congress of South African Trade Unions denounces and rejects the specious and baseless attacks directed at the National Health Insurance by some funded lobbyists, who are hell-bent of maintaining the status quo. Since the gazetting of the NHI bill on the 21st of June 2018, some neoliberal economists and political parties, to name a few have launched a scathing attack on the bill as well as the NHI policy.</td> \n",
       "    </tr>    <tr> \n",
       "        <th id=\"T_2690425c_ef76_11e8_97ea_0a580af40073level0_row1\" class=\"row_heading level0 row1\" >categories</th> \n",
       "        <td id=\"T_2690425c_ef76_11e8_97ea_0a580af40073row1_col0\" class=\"data row1 col0\" >News</td> \n",
       "    </tr>    <tr> \n",
       "        <th id=\"T_2690425c_ef76_11e8_97ea_0a580af40073level0_row2\" class=\"row_heading level0 row2\" >date</th> \n",
       "        <td id=\"T_2690425c_ef76_11e8_97ea_0a580af40073row2_col0\" class=\"data row2 col0\" >2018-07-04 15:27:23</td> \n",
       "    </tr>    <tr> \n",
       "        <th id=\"T_2690425c_ef76_11e8_97ea_0a580af40073level0_row3\" class=\"row_heading level0 row3\" >language</th> \n",
       "        <td id=\"T_2690425c_ef76_11e8_97ea_0a580af40073row3_col0\" class=\"data row3 col0\" >English</td> \n",
       "    </tr>    <tr> \n",
       "        <th id=\"T_2690425c_ef76_11e8_97ea_0a580af40073level0_row4\" class=\"row_heading level0 row4\" >link</th> \n",
       "        <td id=\"T_2690425c_ef76_11e8_97ea_0a580af40073row4_col0\" class=\"data row4 col0\" >http://allafrica.com/stories/201807040743.html</td> \n",
       "    </tr>    <tr> \n",
       "        <th id=\"T_2690425c_ef76_11e8_97ea_0a580af40073level0_row5\" class=\"row_heading level0 row5\" >source</th> \n",
       "        <td id=\"T_2690425c_ef76_11e8_97ea_0a580af40073row5_col0\" class=\"data row5 col0\" >AllAfrica</td> \n",
       "    </tr>    <tr> \n",
       "        <th id=\"T_2690425c_ef76_11e8_97ea_0a580af40073level0_row6\" class=\"row_heading level0 row6\" >subject</th> \n",
       "        <td id=\"T_2690425c_ef76_11e8_97ea_0a580af40073row6_col0\" class=\"data row6 col0\" >South Africa:Cosatu Rejects and Denounces the Baseless Attacks On the National Health Insurance By Funded Lobbyists</td> \n",
       "    </tr></tbody> \n",
       "</table> "
      ],
      "text/plain": [
       "<pandas.io.formats.style.Styler at 0x7f1335595a10>"
      ]
     },
     "execution_count": 3,
     "metadata": {},
     "output_type": "execute_result"
    }
   ],
   "source": [
    "df.head(1).T.style"
   ]
  },
  {
   "cell_type": "markdown",
   "metadata": {},
   "source": [
    "## Common issues that we generally face during the data preparation phase:\n",
    " - Format and structure normalization\n",
    " - Detect and fix missing values\n",
    " - Duplicates removal\n",
    " - Units normalization\n",
    " - Constraints validations\n",
    " - Anomaly detection and removal\n",
    " - Study of features importance/relevance\n",
    " - Dimentional reduction, feature selection & extraction"
   ]
  },
  {
   "cell_type": "code",
   "execution_count": 4,
   "metadata": {},
   "outputs": [],
   "source": [
    "df = df[['body', 'subject', 'language', 'categories']]"
   ]
  },
  {
   "cell_type": "code",
   "execution_count": 5,
   "metadata": {},
   "outputs": [],
   "source": [
    "df.columns = ['body', 'subject', 'language', 'categories']\n",
    "df = df[pd.notnull(df['body'])]\n",
    "df = df.loc[(df['language'] == 'English')]\n",
    "df['categories']   = df['categories'].apply(lambda x: x.title())"
   ]
  },
  {
   "cell_type": "code",
   "execution_count": 6,
   "metadata": {},
   "outputs": [],
   "source": [
    "df['cat_id']       = df['categories'].factorize()[0]\n",
    "df['lang_id']      = df['language'].factorize()[0]\n",
    "df['char_count']   = df['body'].apply(len)\n",
    "df['word_count']   = df['body'].apply(lambda x: len(x.split()))\n",
    "df['word_density'] = df['char_count'] / (df['word_count']+1)"
   ]
  },
  {
   "cell_type": "code",
   "execution_count": 7,
   "metadata": {},
   "outputs": [
    {
     "data": {
      "text/html": [
       "<style  type=\"text/css\" >\n",
       "</style>  \n",
       "<table id=\"T_2b3f270a_ef76_11e8_97ea_0a580af40073\" > \n",
       "<thead>    <tr> \n",
       "        <th class=\"blank level0\" ></th> \n",
       "        <th class=\"col_heading level0 col0\" >0</th> \n",
       "    </tr></thead> \n",
       "<tbody>    <tr> \n",
       "        <th id=\"T_2b3f270a_ef76_11e8_97ea_0a580af40073level0_row0\" class=\"row_heading level0 row0\" >body</th> \n",
       "        <td id=\"T_2b3f270a_ef76_11e8_97ea_0a580af40073row0_col0\" class=\"data row0 col0\" >[COSATU] The Congress of South African Trade Unions denounces and rejects the specious and baseless attacks directed at the National Health Insurance by some funded lobbyists, who are hell-bent of maintaining the status quo. Since the gazetting of the NHI bill on the 21st of June 2018, some neoliberal economists and political parties, to name a few have launched a scathing attack on the bill as well as the NHI policy.</td> \n",
       "    </tr>    <tr> \n",
       "        <th id=\"T_2b3f270a_ef76_11e8_97ea_0a580af40073level0_row1\" class=\"row_heading level0 row1\" >subject</th> \n",
       "        <td id=\"T_2b3f270a_ef76_11e8_97ea_0a580af40073row1_col0\" class=\"data row1 col0\" >South Africa:Cosatu Rejects and Denounces the Baseless Attacks On the National Health Insurance By Funded Lobbyists</td> \n",
       "    </tr>    <tr> \n",
       "        <th id=\"T_2b3f270a_ef76_11e8_97ea_0a580af40073level0_row2\" class=\"row_heading level0 row2\" >language</th> \n",
       "        <td id=\"T_2b3f270a_ef76_11e8_97ea_0a580af40073row2_col0\" class=\"data row2 col0\" >English</td> \n",
       "    </tr>    <tr> \n",
       "        <th id=\"T_2b3f270a_ef76_11e8_97ea_0a580af40073level0_row3\" class=\"row_heading level0 row3\" >categories</th> \n",
       "        <td id=\"T_2b3f270a_ef76_11e8_97ea_0a580af40073row3_col0\" class=\"data row3 col0\" >News</td> \n",
       "    </tr>    <tr> \n",
       "        <th id=\"T_2b3f270a_ef76_11e8_97ea_0a580af40073level0_row4\" class=\"row_heading level0 row4\" >cat_id</th> \n",
       "        <td id=\"T_2b3f270a_ef76_11e8_97ea_0a580af40073row4_col0\" class=\"data row4 col0\" >0</td> \n",
       "    </tr>    <tr> \n",
       "        <th id=\"T_2b3f270a_ef76_11e8_97ea_0a580af40073level0_row5\" class=\"row_heading level0 row5\" >lang_id</th> \n",
       "        <td id=\"T_2b3f270a_ef76_11e8_97ea_0a580af40073row5_col0\" class=\"data row5 col0\" >0</td> \n",
       "    </tr>    <tr> \n",
       "        <th id=\"T_2b3f270a_ef76_11e8_97ea_0a580af40073level0_row6\" class=\"row_heading level0 row6\" >char_count</th> \n",
       "        <td id=\"T_2b3f270a_ef76_11e8_97ea_0a580af40073row6_col0\" class=\"data row6 col0\" >421</td> \n",
       "    </tr>    <tr> \n",
       "        <th id=\"T_2b3f270a_ef76_11e8_97ea_0a580af40073level0_row7\" class=\"row_heading level0 row7\" >word_count</th> \n",
       "        <td id=\"T_2b3f270a_ef76_11e8_97ea_0a580af40073row7_col0\" class=\"data row7 col0\" >71</td> \n",
       "    </tr>    <tr> \n",
       "        <th id=\"T_2b3f270a_ef76_11e8_97ea_0a580af40073level0_row8\" class=\"row_heading level0 row8\" >word_density</th> \n",
       "        <td id=\"T_2b3f270a_ef76_11e8_97ea_0a580af40073row8_col0\" class=\"data row8 col0\" >5.84722</td> \n",
       "    </tr></tbody> \n",
       "</table> "
      ],
      "text/plain": [
       "<pandas.io.formats.style.Styler at 0x7f1335e23910>"
      ]
     },
     "execution_count": 7,
     "metadata": {},
     "output_type": "execute_result"
    }
   ],
   "source": [
    "# df.drop_duplicates(inplace=True)\n",
    "df.head(1).T.style"
   ]
  },
  {
   "cell_type": "code",
   "execution_count": 8,
   "metadata": {},
   "outputs": [],
   "source": [
    "df = df[df.categories != 'Frontpage']\n",
    "df = df[df.categories != 'Uncategorized']"
   ]
  },
  {
   "cell_type": "code",
   "execution_count": 9,
   "metadata": {
    "scrolled": false
   },
   "outputs": [
    {
     "data": {
      "text/html": [
       "<div>\n",
       "<style scoped>\n",
       "    .dataframe tbody tr th:only-of-type {\n",
       "        vertical-align: middle;\n",
       "    }\n",
       "\n",
       "    .dataframe tbody tr th {\n",
       "        vertical-align: top;\n",
       "    }\n",
       "\n",
       "    .dataframe thead tr th {\n",
       "        text-align: left;\n",
       "    }\n",
       "\n",
       "    .dataframe thead tr:last-of-type th {\n",
       "        text-align: right;\n",
       "    }\n",
       "</style>\n",
       "<table border=\"1\" class=\"dataframe\">\n",
       "  <thead>\n",
       "    <tr>\n",
       "      <th></th>\n",
       "      <th>body</th>\n",
       "      <th>subject</th>\n",
       "      <th>language</th>\n",
       "      <th>cat_id</th>\n",
       "      <th>lang_id</th>\n",
       "      <th>char_count</th>\n",
       "      <th>word_count</th>\n",
       "      <th>word_density</th>\n",
       "    </tr>\n",
       "    <tr>\n",
       "      <th></th>\n",
       "      <th>count</th>\n",
       "      <th>count</th>\n",
       "      <th>count</th>\n",
       "      <th>count</th>\n",
       "      <th>count</th>\n",
       "      <th>count</th>\n",
       "      <th>count</th>\n",
       "      <th>count</th>\n",
       "    </tr>\n",
       "    <tr>\n",
       "      <th>categories</th>\n",
       "      <th></th>\n",
       "      <th></th>\n",
       "      <th></th>\n",
       "      <th></th>\n",
       "      <th></th>\n",
       "      <th></th>\n",
       "      <th></th>\n",
       "      <th></th>\n",
       "    </tr>\n",
       "  </thead>\n",
       "  <tbody>\n",
       "    <tr>\n",
       "      <th>Arts &amp; Life</th>\n",
       "      <td>56</td>\n",
       "      <td>56</td>\n",
       "      <td>56</td>\n",
       "      <td>56</td>\n",
       "      <td>56</td>\n",
       "      <td>56</td>\n",
       "      <td>56</td>\n",
       "      <td>56</td>\n",
       "    </tr>\n",
       "    <tr>\n",
       "      <th>Business</th>\n",
       "      <td>56</td>\n",
       "      <td>56</td>\n",
       "      <td>56</td>\n",
       "      <td>56</td>\n",
       "      <td>56</td>\n",
       "      <td>56</td>\n",
       "      <td>56</td>\n",
       "      <td>56</td>\n",
       "    </tr>\n",
       "    <tr>\n",
       "      <th>China Digest ,Business ,China</th>\n",
       "      <td>23</td>\n",
       "      <td>23</td>\n",
       "      <td>23</td>\n",
       "      <td>23</td>\n",
       "      <td>23</td>\n",
       "      <td>23</td>\n",
       "      <td>23</td>\n",
       "      <td>23</td>\n",
       "    </tr>\n",
       "    <tr>\n",
       "      <th>Economy</th>\n",
       "      <td>56</td>\n",
       "      <td>56</td>\n",
       "      <td>56</td>\n",
       "      <td>56</td>\n",
       "      <td>56</td>\n",
       "      <td>56</td>\n",
       "      <td>56</td>\n",
       "      <td>56</td>\n",
       "    </tr>\n",
       "    <tr>\n",
       "      <th>Investments ,News ,Startups</th>\n",
       "      <td>8</td>\n",
       "      <td>8</td>\n",
       "      <td>8</td>\n",
       "      <td>8</td>\n",
       "      <td>8</td>\n",
       "      <td>8</td>\n",
       "      <td>8</td>\n",
       "      <td>8</td>\n",
       "    </tr>\n",
       "    <tr>\n",
       "      <th>Long War Journal ,Afghanistan ,Taliban</th>\n",
       "      <td>2</td>\n",
       "      <td>2</td>\n",
       "      <td>2</td>\n",
       "      <td>2</td>\n",
       "      <td>2</td>\n",
       "      <td>2</td>\n",
       "      <td>2</td>\n",
       "      <td>2</td>\n",
       "    </tr>\n",
       "    <tr>\n",
       "      <th>Middle East</th>\n",
       "      <td>56</td>\n",
       "      <td>56</td>\n",
       "      <td>56</td>\n",
       "      <td>56</td>\n",
       "      <td>56</td>\n",
       "      <td>56</td>\n",
       "      <td>56</td>\n",
       "      <td>56</td>\n",
       "    </tr>\n",
       "    <tr>\n",
       "      <th>News</th>\n",
       "      <td>56</td>\n",
       "      <td>56</td>\n",
       "      <td>56</td>\n",
       "      <td>56</td>\n",
       "      <td>56</td>\n",
       "      <td>56</td>\n",
       "      <td>56</td>\n",
       "      <td>56</td>\n",
       "    </tr>\n",
       "    <tr>\n",
       "      <th>News Story</th>\n",
       "      <td>20</td>\n",
       "      <td>20</td>\n",
       "      <td>20</td>\n",
       "      <td>20</td>\n",
       "      <td>20</td>\n",
       "      <td>20</td>\n",
       "      <td>20</td>\n",
       "      <td>20</td>\n",
       "    </tr>\n",
       "    <tr>\n",
       "      <th>Opinion</th>\n",
       "      <td>8</td>\n",
       "      <td>8</td>\n",
       "      <td>8</td>\n",
       "      <td>8</td>\n",
       "      <td>8</td>\n",
       "      <td>8</td>\n",
       "      <td>8</td>\n",
       "      <td>8</td>\n",
       "    </tr>\n",
       "    <tr>\n",
       "      <th>Photo</th>\n",
       "      <td>38</td>\n",
       "      <td>38</td>\n",
       "      <td>38</td>\n",
       "      <td>38</td>\n",
       "      <td>38</td>\n",
       "      <td>38</td>\n",
       "      <td>38</td>\n",
       "      <td>38</td>\n",
       "    </tr>\n",
       "    <tr>\n",
       "      <th>Sports</th>\n",
       "      <td>56</td>\n",
       "      <td>56</td>\n",
       "      <td>56</td>\n",
       "      <td>56</td>\n",
       "      <td>56</td>\n",
       "      <td>56</td>\n",
       "      <td>56</td>\n",
       "      <td>56</td>\n",
       "    </tr>\n",
       "    <tr>\n",
       "      <th>Tech</th>\n",
       "      <td>56</td>\n",
       "      <td>56</td>\n",
       "      <td>56</td>\n",
       "      <td>56</td>\n",
       "      <td>56</td>\n",
       "      <td>56</td>\n",
       "      <td>56</td>\n",
       "      <td>56</td>\n",
       "    </tr>\n",
       "    <tr>\n",
       "      <th>Turkey</th>\n",
       "      <td>56</td>\n",
       "      <td>56</td>\n",
       "      <td>56</td>\n",
       "      <td>56</td>\n",
       "      <td>56</td>\n",
       "      <td>56</td>\n",
       "      <td>56</td>\n",
       "      <td>56</td>\n",
       "    </tr>\n",
       "    <tr>\n",
       "      <th>World</th>\n",
       "      <td>56</td>\n",
       "      <td>56</td>\n",
       "      <td>56</td>\n",
       "      <td>56</td>\n",
       "      <td>56</td>\n",
       "      <td>56</td>\n",
       "      <td>56</td>\n",
       "      <td>56</td>\n",
       "    </tr>\n",
       "  </tbody>\n",
       "</table>\n",
       "</div>"
      ],
      "text/plain": [
       "                                        body subject language cat_id lang_id  \\\n",
       "                                       count   count    count  count   count   \n",
       "categories                                                                     \n",
       "Arts & Life                               56      56       56     56      56   \n",
       "Business                                  56      56       56     56      56   \n",
       "China Digest ,Business ,China             23      23       23     23      23   \n",
       "Economy                                   56      56       56     56      56   \n",
       "Investments ,News ,Startups                8       8        8      8       8   \n",
       "Long War Journal ,Afghanistan ,Taliban     2       2        2      2       2   \n",
       "Middle East                               56      56       56     56      56   \n",
       "News                                      56      56       56     56      56   \n",
       "News Story                                20      20       20     20      20   \n",
       "Opinion                                    8       8        8      8       8   \n",
       "Photo                                     38      38       38     38      38   \n",
       "Sports                                    56      56       56     56      56   \n",
       "Tech                                      56      56       56     56      56   \n",
       "Turkey                                    56      56       56     56      56   \n",
       "World                                     56      56       56     56      56   \n",
       "\n",
       "                                       char_count word_count word_density  \n",
       "                                            count      count        count  \n",
       "categories                                                                 \n",
       "Arts & Life                                    56         56           56  \n",
       "Business                                       56         56           56  \n",
       "China Digest ,Business ,China                  23         23           23  \n",
       "Economy                                        56         56           56  \n",
       "Investments ,News ,Startups                     8          8            8  \n",
       "Long War Journal ,Afghanistan ,Taliban          2          2            2  \n",
       "Middle East                                    56         56           56  \n",
       "News                                           56         56           56  \n",
       "News Story                                     20         20           20  \n",
       "Opinion                                         8          8            8  \n",
       "Photo                                          38         38           38  \n",
       "Sports                                         56         56           56  \n",
       "Tech                                           56         56           56  \n",
       "Turkey                                         56         56           56  \n",
       "World                                          56         56           56  "
      ]
     },
     "execution_count": 9,
     "metadata": {},
     "output_type": "execute_result"
    }
   ],
   "source": [
    "# df.groupby('categories')['categories'].count().value_counts(ascending=False)\n",
    "df = df.loc[(df.groupby('categories').cumcount() > 8)]\n",
    "df.groupby(['categories']).agg({'count'})"
   ]
  },
  {
   "cell_type": "code",
   "execution_count": 10,
   "metadata": {},
   "outputs": [
    {
     "data": {
      "image/png": "[encoded data removed]",
      "text/plain": [
       "<Figure size 1152x720 with 6 Axes>"
      ]
     },
     "metadata": {
      "needs_background": "light"
     },
     "output_type": "display_data"
    }
   ],
   "source": [
    "df.hist(figsize=(16,10), grid=True, linewidth=.9, alpha=0.6)\n",
    "plt.legend(loc=1)\n",
    "plt.show()"
   ]
  },
  {
   "cell_type": "code",
   "execution_count": 11,
   "metadata": {
    "scrolled": false
   },
   "outputs": [
    {
     "name": "stderr",
     "output_type": "stream",
     "text": [
      "/opt/conda/envs/py2/lib/python2.7/site-packages/matplotlib/axes/_base.py:3152: UserWarning: Attempting to set identical left==right results\n",
      "in singular transformations; automatically expanding.\n",
      "left=0.0, right=0.0\n",
      "  'left=%s, right=%s') % (left, right))\n",
      "/opt/conda/envs/py2/lib/python2.7/site-packages/matplotlib/axes/_base.py:3471: UserWarning: Attempting to set identical bottom==top results\n",
      "in singular transformations; automatically expanding.\n",
      "bottom=0.0, top=0.0\n",
      "  'bottom=%s, top=%s') % (bottom, top))\n"
     ]
    },
    {
     "data": {
      "image/png": "[encoded data removed]",
      "text/plain": [
       "<Figure size 1296x720 with 25 Axes>"
      ]
     },
     "metadata": {
      "needs_background": "light"
     },
     "output_type": "display_data"
    }
   ],
   "source": [
    "# sns.set()\n",
    "# sns.pairplot(df, size=3.5)\n",
    "pd.plotting.scatter_matrix(df, figsize=(18,10), alpha=.8, grid=True, marker='o')\n",
    "plt.show()"
   ]
  },
  {
   "cell_type": "code",
   "execution_count": 12,
   "metadata": {},
   "outputs": [
    {
     "data": {
      "image/png": "[encoded data removed]",
      "text/plain": [
       "<Figure size 1152x720 with 1 Axes>"
      ]
     },
     "metadata": {
      "needs_background": "light"
     },
     "output_type": "display_data"
    }
   ],
   "source": [
    "df.groupby('categories').body.count().sort_values(ascending=False).head(65).plot.barh(ylim=0, figsize=(16,10), width=.8, grid=True)\n",
    "plt.show()"
   ]
  },
  {
   "cell_type": "code",
   "execution_count": 13,
   "metadata": {},
   "outputs": [
    {
     "data": {
      "text/html": [
       "<div>\n",
       "<style scoped>\n",
       "    .dataframe tbody tr th:only-of-type {\n",
       "        vertical-align: middle;\n",
       "    }\n",
       "\n",
       "    .dataframe tbody tr th {\n",
       "        vertical-align: top;\n",
       "    }\n",
       "\n",
       "    .dataframe thead th {\n",
       "        text-align: right;\n",
       "    }\n",
       "</style>\n",
       "<table border=\"1\" class=\"dataframe\">\n",
       "  <thead>\n",
       "    <tr style=\"text-align: right;\">\n",
       "      <th></th>\n",
       "      <th>body</th>\n",
       "      <th>subject</th>\n",
       "      <th>language</th>\n",
       "      <th>categories</th>\n",
       "      <th>cat_id</th>\n",
       "      <th>lang_id</th>\n",
       "      <th>char_count</th>\n",
       "      <th>word_count</th>\n",
       "      <th>word_density</th>\n",
       "    </tr>\n",
       "  </thead>\n",
       "  <tbody>\n",
       "    <tr>\n",
       "      <th>11</th>\n",
       "      <td>[Nairobi News] Kenya Power has procured and fi...</td>\n",
       "      <td>Kenya:Revealed - Why Your Kenya Power Bills Ar...</td>\n",
       "      <td>English</td>\n",
       "      <td>News</td>\n",
       "      <td>0</td>\n",
       "      <td>0</td>\n",
       "      <td>219</td>\n",
       "      <td>31</td>\n",
       "      <td>6.843750</td>\n",
       "    </tr>\n",
       "    <tr>\n",
       "      <th>12</th>\n",
       "      <td>[Govt of SA] The South African Reserve Bank (S...</td>\n",
       "      <td>South Africa:South African Reserve Bank Launch...</td>\n",
       "      <td>English</td>\n",
       "      <td>News</td>\n",
       "      <td>0</td>\n",
       "      <td>0</td>\n",
       "      <td>339</td>\n",
       "      <td>54</td>\n",
       "      <td>6.163636</td>\n",
       "    </tr>\n",
       "    <tr>\n",
       "      <th>13</th>\n",
       "      <td>The young footballers and coach of the Moo Pa ...</td>\n",
       "      <td>Thailand: New video shows trapped football tea...</td>\n",
       "      <td>English</td>\n",
       "      <td>News</td>\n",
       "      <td>0</td>\n",
       "      <td>0</td>\n",
       "      <td>162</td>\n",
       "      <td>29</td>\n",
       "      <td>5.400000</td>\n",
       "    </tr>\n",
       "    <tr>\n",
       "      <th>14</th>\n",
       "      <td>Julia Conley, staff writer      As Americans a...</td>\n",
       "      <td>'I Can't Afford That': Trapped and Injured in ...</td>\n",
       "      <td>English</td>\n",
       "      <td>News</td>\n",
       "      <td>0</td>\n",
       "      <td>0</td>\n",
       "      <td>376</td>\n",
       "      <td>58</td>\n",
       "      <td>6.372881</td>\n",
       "    </tr>\n",
       "    <tr>\n",
       "      <th>15</th>\n",
       "      <td>Julia Conley, staff writer      As Americans a...</td>\n",
       "      <td>'I Can't Afford That': Trapped and Injured by ...</td>\n",
       "      <td>English</td>\n",
       "      <td>News</td>\n",
       "      <td>0</td>\n",
       "      <td>0</td>\n",
       "      <td>376</td>\n",
       "      <td>58</td>\n",
       "      <td>6.372881</td>\n",
       "    </tr>\n",
       "  </tbody>\n",
       "</table>\n",
       "</div>"
      ],
      "text/plain": [
       "                                                 body  \\\n",
       "11  [Nairobi News] Kenya Power has procured and fi...   \n",
       "12  [Govt of SA] The South African Reserve Bank (S...   \n",
       "13  The young footballers and coach of the Moo Pa ...   \n",
       "14  Julia Conley, staff writer      As Americans a...   \n",
       "15  Julia Conley, staff writer      As Americans a...   \n",
       "\n",
       "                                              subject language categories  \\\n",
       "11  Kenya:Revealed - Why Your Kenya Power Bills Ar...  English       News   \n",
       "12  South Africa:South African Reserve Bank Launch...  English       News   \n",
       "13  Thailand: New video shows trapped football tea...  English       News   \n",
       "14  'I Can't Afford That': Trapped and Injured in ...  English       News   \n",
       "15  'I Can't Afford That': Trapped and Injured by ...  English       News   \n",
       "\n",
       "    cat_id  lang_id  char_count  word_count  word_density  \n",
       "11       0        0         219          31      6.843750  \n",
       "12       0        0         339          54      6.163636  \n",
       "13       0        0         162          29      5.400000  \n",
       "14       0        0         376          58      6.372881  \n",
       "15       0        0         376          58      6.372881  "
      ]
     },
     "execution_count": 13,
     "metadata": {},
     "output_type": "execute_result"
    }
   ],
   "source": [
    "df.head(5)"
   ]
  },
  {
   "cell_type": "code",
   "execution_count": 14,
   "metadata": {},
   "outputs": [],
   "source": [
    "# cat_id_df = df[['categories', 'cat_id']].drop_duplicates().sort_values('cat_id')\n",
    "# cat_to_id = dict(cat_id_df.values)\n",
    "# id_to_cat = dict(cat_id_df[['cat_id', 'categories']].values)"
   ]
  },
  {
   "cell_type": "code",
   "execution_count": 15,
   "metadata": {},
   "outputs": [
    {
     "name": "stdout",
     "output_type": "stream",
     "text": [
      "(603, 603, 603)\n"
     ]
    }
   ],
   "source": [
    "tfidf = TfidfVectorizer(sublinear_tf=True, min_df=5, norm='l2', analyzer='word', ngram_range=(1, 2), max_features=5000)\n",
    "features = tfidf.fit_transform(df.body).toarray()\n",
    "labels = df.cat_id\n",
    "print(len(features), len(labels), len(df.index))"
   ]
  },
  {
   "cell_type": "code",
   "execution_count": 16,
   "metadata": {},
   "outputs": [
    {
     "name": "stderr",
     "output_type": "stream",
     "text": [
      "/opt/conda/envs/py2/lib/python2.7/site-packages/sklearn/ensemble/forest.py:248: FutureWarning: The default value of n_estimators will change from 10 in version 0.20 to 100 in 0.22.\n",
      "  \"10 in version 0.20 to 100 in 0.22.\", FutureWarning)\n",
      "/opt/conda/envs/py2/lib/python2.7/site-packages/sklearn/linear_model/stochastic_gradient.py:144: FutureWarning: max_iter and tol parameters have been added in PassiveAggressiveClassifier in 0.19. If both are left unset, they default to max_iter=5 and tol=None. If tol is not None, max_iter defaults to max_iter=1000. From 0.21, default max_iter will be 1000, and default tol will be 1e-3.\n",
      "  FutureWarning)\n"
     ]
    }
   ],
   "source": [
    "# xtrain, xtest, ytrain, ytest, itrain, itest = train_test_split(features, labels, df.index, test_size=0.33, random_state=0)\n",
    "xtrain, xtest, ytrain, ytest = train_test_split(df['body'], df['categories'], test_size=0.33, random_state=42)\n",
    "\n",
    "engines = [\n",
    "    ('RFC', RandomForestClassifier()),\n",
    "    ('GBC', GradientBoostingClassifier()),\n",
    "    ('PAC', PassiveAggressiveClassifier()),\n",
    "    ('RC', RidgeClassifier()),\n",
    "    ('RCCV', RidgeClassifierCV()),\n",
    "    ('ETC', ExtraTreesClassifier()),\n",
    "    ('KNC', KNeighborsClassifier(n_neighbors=10)),\n",
    "    ('MNB', MultinomialNB())\n",
    "]\n",
    "engines_dt = []\n",
    "today = datetime.date.today()\n",
    "for name, engine in engines:\n",
    "    model = make_pipeline(tfidf, engine)\n",
    "    model.fit(xtrain, ytrain)\n",
    "    prediction  = model.predict(xtest)\n",
    "    score = model.score(xtest, prediction)\n",
    "    # print(\"{}: Score: {} Accuracy: {:.2f}\".format(name, score, accuracy_score(ytest, prediction)))\n",
    "    engines_dt.append([name, score, accuracy_score(ytest, prediction), today])\n",
    "    \n",
    "with open('./data/lsvc.pickle', 'wb') as f:\n",
    "    joblib.dump(model, f)"
   ]
  },
  {
   "cell_type": "code",
   "execution_count": 17,
   "metadata": {},
   "outputs": [
    {
     "data": {
      "text/html": [
       "<div>\n",
       "<style scoped>\n",
       "    .dataframe tbody tr th:only-of-type {\n",
       "        vertical-align: middle;\n",
       "    }\n",
       "\n",
       "    .dataframe tbody tr th {\n",
       "        vertical-align: top;\n",
       "    }\n",
       "\n",
       "    .dataframe thead th {\n",
       "        text-align: right;\n",
       "    }\n",
       "</style>\n",
       "<table border=\"1\" class=\"dataframe\">\n",
       "  <thead>\n",
       "    <tr style=\"text-align: right;\">\n",
       "      <th></th>\n",
       "      <th>engine</th>\n",
       "      <th>score</th>\n",
       "      <th>accuracy</th>\n",
       "      <th>date</th>\n",
       "    </tr>\n",
       "  </thead>\n",
       "  <tbody>\n",
       "    <tr>\n",
       "      <th>0</th>\n",
       "      <td>RFC</td>\n",
       "      <td>1.0</td>\n",
       "      <td>0.517588</td>\n",
       "      <td>2018-11-23</td>\n",
       "    </tr>\n",
       "    <tr>\n",
       "      <th>1</th>\n",
       "      <td>GBC</td>\n",
       "      <td>1.0</td>\n",
       "      <td>0.502513</td>\n",
       "      <td>2018-11-23</td>\n",
       "    </tr>\n",
       "    <tr>\n",
       "      <th>2</th>\n",
       "      <td>PAC</td>\n",
       "      <td>1.0</td>\n",
       "      <td>0.557789</td>\n",
       "      <td>2018-11-23</td>\n",
       "    </tr>\n",
       "    <tr>\n",
       "      <th>3</th>\n",
       "      <td>RC</td>\n",
       "      <td>1.0</td>\n",
       "      <td>0.623116</td>\n",
       "      <td>2018-11-23</td>\n",
       "    </tr>\n",
       "    <tr>\n",
       "      <th>4</th>\n",
       "      <td>RCCV</td>\n",
       "      <td>1.0</td>\n",
       "      <td>0.608040</td>\n",
       "      <td>2018-11-23</td>\n",
       "    </tr>\n",
       "    <tr>\n",
       "      <th>5</th>\n",
       "      <td>ETC</td>\n",
       "      <td>1.0</td>\n",
       "      <td>0.497487</td>\n",
       "      <td>2018-11-23</td>\n",
       "    </tr>\n",
       "    <tr>\n",
       "      <th>6</th>\n",
       "      <td>KNC</td>\n",
       "      <td>1.0</td>\n",
       "      <td>0.512563</td>\n",
       "      <td>2018-11-23</td>\n",
       "    </tr>\n",
       "    <tr>\n",
       "      <th>7</th>\n",
       "      <td>MNB</td>\n",
       "      <td>1.0</td>\n",
       "      <td>0.557789</td>\n",
       "      <td>2018-11-23</td>\n",
       "    </tr>\n",
       "  </tbody>\n",
       "</table>\n",
       "</div>"
      ],
      "text/plain": [
       "  engine  score  accuracy        date\n",
       "0    RFC    1.0  0.517588  2018-11-23\n",
       "1    GBC    1.0  0.502513  2018-11-23\n",
       "2    PAC    1.0  0.557789  2018-11-23\n",
       "3     RC    1.0  0.623116  2018-11-23\n",
       "4   RCCV    1.0  0.608040  2018-11-23\n",
       "5    ETC    1.0  0.497487  2018-11-23\n",
       "6    KNC    1.0  0.512563  2018-11-23\n",
       "7    MNB    1.0  0.557789  2018-11-23"
      ]
     },
     "execution_count": 17,
     "metadata": {},
     "output_type": "execute_result"
    }
   ],
   "source": [
    "df_dt = pd.DataFrame(engines_dt, columns=['engine', 'score', 'accuracy', 'date'])\n",
    "df_dt"
   ]
  },
  {
   "cell_type": "code",
   "execution_count": 18,
   "metadata": {},
   "outputs": [
    {
     "name": "stdout",
     "output_type": "stream",
     "text": [
      "                                        precision    recall  f1-score   support\n",
      "\n",
      "                           Arts & Life       0.36      0.71      0.48        17\n",
      "                              Business       0.75      0.55      0.63        22\n",
      "         China Digest ,Business ,China       1.00      1.00      1.00         8\n",
      "                               Economy       0.43      0.53      0.48        19\n",
      "           Investments ,News ,Startups       1.00      0.50      0.67         2\n",
      "Long War Journal ,Afghanistan ,Taliban       0.00      0.00      0.00         1\n",
      "                           Middle East       0.85      0.74      0.79        23\n",
      "                                  News       0.38      0.29      0.33        17\n",
      "                            News Story       0.00      0.00      0.00         6\n",
      "                               Opinion       0.00      0.00      0.00         3\n",
      "                                 Photo       0.90      0.90      0.90        10\n",
      "                                Sports       0.81      0.81      0.81        16\n",
      "                                  Tech       0.28      0.85      0.42        13\n",
      "                                Turkey       0.60      0.45      0.51        20\n",
      "                                 World       0.80      0.18      0.30        22\n",
      "\n",
      "                             micro avg       0.56      0.56      0.56       199\n",
      "                             macro avg       0.55      0.50      0.49       199\n",
      "                          weighted avg       0.61      0.56      0.55       199\n",
      "\n"
     ]
    },
    {
     "name": "stderr",
     "output_type": "stream",
     "text": [
      "/opt/conda/envs/py2/lib/python2.7/site-packages/sklearn/metrics/classification.py:1143: UndefinedMetricWarning: Precision and F-score are ill-defined and being set to 0.0 in labels with no predicted samples.\n",
      "  'precision', 'predicted', average, warn_for)\n"
     ]
    }
   ],
   "source": [
    "print(classification_report(ytest, prediction))"
   ]
  },
  {
   "cell_type": "code",
   "execution_count": 19,
   "metadata": {},
   "outputs": [],
   "source": [
    "s = '''\n",
    "\n",
    "Now 86, Foreman was acquitted of two 1960s murders, those of Tommy “Ginger” Marks and Frank “the Mad Axeman” Mitchell, both of which he later admitted in his autobiography, Respect, when it was published in 1997. In those days, the double jeopardy rule meant that you could not be tried twice for the same crime, but the law changed with the 2003 Criminal Justice Act so that “new and compelling” evidence can lead to a retrial.\n",
    "\n",
    "Marks had been involved in an attack on Foreman’s philandering brother, George, who was shot in the groin for having an affair with a local villain’s wife. Foreman is a little coy on the subject when pressed on film about all this by its director, Paul Van Carter. “I’m not happy about this, Paul,” he says at one stage as he revisits the scene in Bethnal Green where Marks was shot dead in 1965 and is asked to describe what happened. “I don’t know. I wasn’t there.”\n",
    "\n",
    "He is equally tightlipped about Mitchell, whom the Krays had helped escape from Dartmoor prison and hidden in London, but who had become a loose cannon; according to Foreman today, Mitchell had been armed and vowed to take six policemen with him rather than return to jail. The Krays he now describes as “bad news” – and the film makes it clear what a grim and brutal crew they were.\n",
    "\n",
    "He is also reticent about his undertaking skills in disposing of McVitie, for which he was jailed for 10 years in 1969. “There was a facility to go out to sea,” he says in the film. “Let’s just leave it at that.” That facility was for a body to be wrapped in chicken wire, attached to weights and dumped in “muddy waters”.\n",
    "\n",
    "Gang warfare in its current form has claimed many lives already this year, with dozens of fatal stabbings in London, many of them gang-related and involving much younger men than in the 1960s mayhem. How do the two worlds compare? “I think it’s terrible what’s going on,” he says. “ I have no respect for anyone just stabbing someone with a 12-inch blade – a child can stab another person. You don’t prove you’re a hard man by stabbing someone. Years ago, when you had an argument, it was a matter of a straightener – a street fight, bare-knuckle. This showed how tough you were.”\n",
    "\n",
    "Would any of today’s young post-code gang members, who also seek that word “respect” by stabbing each other, be writing their memoirs or appearing on film in half a century? “I don’t think anyone who has turned to crime these days is going to live long enough to build up a reputation, are they? It’s impossible to get away with it now, with all the CCTV and everything.”\n",
    "\n",
    "Advertisement\n",
    "\n",
    "Born in 1932, the son of a respectable taxi driver and the youngest of five brothers, the elder of whom served in the second world war, Foreman was initially evacuated but returned during the blitz and witnessed some of its effects, which, he says, still give him nightmares. His own teenage years involved different forms of violence to the knife-wielders and moped robbers of today.\n",
    "\n",
    "“I was at the Old Bailey at 16 years of age for affray. One of the weapons produced in evidence was a sand-weighted sock.” He laughs at the memory. “But I don’t want to glamourise what I did because it’s not fucking glamorous, is it? I’ve done 16 years inside, so when you weigh up the pros and cons of it I don’t see it balancing out in my favour. All the money I got out of crime, it doesn’t pay off in the long term. The lessons speak for themselves: missing all your birthdays and Christmases and new years, missing out on your children growing up.” He says he sees little of his own family now.\n",
    "\n",
    "So what about those old crimes he has written about in the past? “I don’t want to glorify anything,” he says of the murders. “They’ve got relatives and I don’t want to keep rubbing it in. I knew Jack the Hat’s boys when I was living in Spain and we were quite pals together; they used to have a drink with me in Eagles, the country club I had there.”\n",
    "\n",
    "But in the film he describes in some detail shooting, not fatally, two men who had assaulted a young woman in one of his clubs. (He had an extensive property portfolio before the law caught up with him, which included clubs, pubs, flats, a casino, a recording studio and a boxing gym.) “Blew his ear off,” he says of one of the miscreants. “That was the end of that little scenario.”\n",
    "\n",
    "The foreword to The Last Real Gangster, published in 2015, was written by the actor Tom Hardy, who consulted Foreman as he prepared to play both Kray twins in Legend, the Brian Helgeland film that broke box office records that year. What did he think of the film? “Not much – but Tom Hardy was amazing. There’s only been one film (of that genre) I really liked and that was The Long Good Friday. Everyone says it was based on me – there were so many similarities.”\n",
    "\n",
    "His other long jail sentence, of nine years, was for involvement in the £6m Security Express robbery in Shoreditch, east London, in 1983. Foreman was arrested years later for handling the proceeds of the robbery after he had moved to the Costa del Crime in Spain, bought property and opened his club. Much to his indignation, as there was then no extradition treaty between Spain and the UK, he was hoisted back to England still in his shorts and flip-flops. The robbery’s ringleader was Terry Perkins who died, aged 69, earlier this year in Belmarsh jail, having been convicted of the 2015 £14m Hatton Garden safe deposit burglary. Would he have gone with Perkins on that “one last job” if he had been asked? “I’m retired! Can’t do it any more.”\n",
    "\n",
    "How did the film, which has the song “Oh, sinner man, where you gonna run to?” over its end titles, come about? Was it his idea? “Nothing was my idea – I was manipulated right, left and centre,” he says cheerfully, adding that he is happy with the end result and then, diplomatically: “I just hope it encourages kids to get a good education.”\n",
    "'''"
   ]
  },
  {
   "cell_type": "code",
   "execution_count": 20,
   "metadata": {},
   "outputs": [
    {
     "name": "stdout",
     "output_type": "stream",
     "text": [
      "{\"category\": [\"1.0: Tech\"], \"score\": \"1.0\"}\n"
     ]
    }
   ],
   "source": [
    "prediction = model.predict([s])\n",
    "score = model.score([s], prediction)\n",
    "result = {\n",
    "    \"category\": [\"{s}: {v}\".format(v=x.strip(), s=accuracy_score([x.strip()], prediction)) for x in prediction[0].split(',')],\n",
    "    \"score\": str(score)\n",
    "}\n",
    "print(dumps(result))"
   ]
  },
  {
   "cell_type": "code",
   "execution_count": null,
   "metadata": {},
   "outputs": [],
   "source": []
  }
 ],
 "metadata": {
  "kernelspec": {
   "display_name": "Python 2",
   "language": "python",
   "name": "python2"
  },
  "language_info": {
   "codemirror_mode": {
    "name": "ipython",
    "version": 2
   },
   "file_extension": ".py",
   "mimetype": "text/x-python",
   "name": "python",
   "nbconvert_exporter": "python",
   "pygments_lexer": "ipython2",
   "version": "2.7.15"
  }
 },
 "nbformat": 4,
 "nbformat_minor": 2
}
