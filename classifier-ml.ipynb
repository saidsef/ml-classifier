{
 "cells": [
  {
   "cell_type": "code",
   "execution_count": 1,
   "metadata": {},
   "outputs": [],
   "source": [
    "import re\n",
    "import glob\n",
    "import pickle\n",
    "import pandas as pd\n",
    "import numpy as np\n",
    "import requests as r\n",
    "import matplotlib.pyplot as plt\n",
    "from json import dump, dumps\n",
    "from collections import Counter\n",
    "from sklearn.pipeline import make_pipeline\n",
    "from sklearn.neighbors import NearestCentroid\n",
    "from sklearn.model_selection import train_test_split\n",
    "from sklearn.naive_bayes import ComplementNB, BernoulliNB, MultinomialNB\n",
    "from sklearn.feature_extraction.text import TfidfVectorizer\n",
    "from sklearn.linear_model import LogisticRegression, RidgeClassifier, RidgeClassifierCV, PassiveAggressiveClassifier, SGDClassifier, Perceptron"
   ]
  },
  {
   "cell_type": "markdown",
   "metadata": {},
   "source": [
    "## Source Data\n",
    "\n",
    "IF source data is missing run Elasticsearch query to extract data and then save it in JSON format to `data` directory"
   ]
  },
  {
   "cell_type": "code",
   "execution_count": 2,
   "metadata": {},
   "outputs": [],
   "source": [
    "# news_json = r.get('http://localhost:9200/index/doc_search?sort=date:desc&size=4200').json()\n",
    "# with open('./data/news.json', 'w', encoding='utf8') as fh:\n",
    "#   dump(news_json['hits']['hits'], fh)"
   ]
  },
  {
   "cell_type": "code",
   "execution_count": 3,
   "metadata": {},
   "outputs": [],
   "source": [
    "# df = pd.io.json.json_normalize(news_json['hits']['hits'])\n",
    "# df.to_json('./data/news.json')"
   ]
  },
  {
   "cell_type": "code",
   "execution_count": 4,
   "metadata": {},
   "outputs": [],
   "source": [
    "df = pd.read_json('./data/news.json')"
   ]
  },
  {
   "cell_type": "markdown",
   "metadata": {},
   "source": [
    "## Common issues that we generally face during the data preparation phase:\n",
    " - Format and structure normalization\n",
    " - Detect and fix missing values\n",
    " - Duplicates removal\n",
    " - Units normalization\n",
    " - Constraints validations\n",
    " - Anomaly detection and removal\n",
    " - Study of features importance/relevance\n",
    " - Dimentional reduction, feature selection & extraction"
   ]
  },
  {
   "cell_type": "code",
   "execution_count": 5,
   "metadata": {},
   "outputs": [],
   "source": [
    "df = df[['_source.body', '_source.date', '_source.subject', '_source.language', '_source.categories']]\n",
    "df.columns = ['body', 'pubdate', 'subject', 'language', 'categories']"
   ]
  },
  {
   "cell_type": "code",
   "execution_count": 6,
   "metadata": {},
   "outputs": [
    {
     "data": {
      "text/html": [
       "<style  type=\"text/css\" >\n",
       "</style><table id=\"T_c703fd38_2a70_11ea_9b83_5fdf93654a92\" ><thead>    <tr>        <th class=\"blank level0\" ></th>        <th class=\"col_heading level0 col0\" >0</th>    </tr></thead><tbody>\n",
       "                <tr>\n",
       "                        <th id=\"T_c703fd38_2a70_11ea_9b83_5fdf93654a92level0_row0\" class=\"row_heading level0 row0\" >body</th>\n",
       "                        <td id=\"T_c703fd38_2a70_11ea_9b83_5fdf93654a92row0_col0\" class=\"data row0 col0\" >At least 12 Palestinians were detained last night by Israeli occupation forces, during a wide-scale detention campaign that targeted the occupied Jerusalem neighborhood of al-Issawiya, according to local sources.  \n",
       "  Large numbers of police forces broke into the flashpoint neighborhood, raided and searched several homes before detaining 12 civilians, including three brothers from the Ebeid family.  \n",
       " \n",
       "  #Israeli  Forces Arrest 7 Palestinians in Issawiya  https://t.co/HIHhMl2xul  via  @PalestineChron   pic.twitter.com/7S4yRmUAkU  \n",
       " &mdash; Palestine Chronicle (@PalestineChron)  October 27, 2019   \n",
       "   \n",
       "  It has been almost six months of unrest in Issawiya. Excessive police brutality and indiscriminate daily raids by Israeli forces with no justification have left residents of the Jerusalem district exhausted, with no end in sight.  \n",
       " \n",
       " &quot;Israeli&quot; occupation forces demolished an underconstruction Palestinian residential building in Issawiya village.   #Palestine    #IsraeliCrimes   pic.twitter.com/FcghCUB5Aj  \n",
       " &mdash; Ahmed Shaker (@AhmedSh72896437)  December 25, 2019   \n",
       "   \n",
       "  Since June, dozens of heavily armed Israeli forces from the Border Guards Police and Riot Police units have entered Issawiya almost every evening, staking out positions around the district under the pretext of security.  \n",
       "  (Wafa, PC, Social Media)  \n",
       " The post  Israeli Forces Detain 12 Palestinians in Issawiya, including 3 Brothers  appeared first on  Palestine Chronicle .</td>\n",
       "            </tr>\n",
       "            <tr>\n",
       "                        <th id=\"T_c703fd38_2a70_11ea_9b83_5fdf93654a92level0_row1\" class=\"row_heading level0 row1\" >pubdate</th>\n",
       "                        <td id=\"T_c703fd38_2a70_11ea_9b83_5fdf93654a92row1_col0\" class=\"data row1 col0\" >2019-12-29T15:54:32.000Z</td>\n",
       "            </tr>\n",
       "            <tr>\n",
       "                        <th id=\"T_c703fd38_2a70_11ea_9b83_5fdf93654a92level0_row2\" class=\"row_heading level0 row2\" >subject</th>\n",
       "                        <td id=\"T_c703fd38_2a70_11ea_9b83_5fdf93654a92row2_col0\" class=\"data row2 col0\" >Israeli Forces Detain 12 Palestinians in Issawiya, including 3 Brothers</td>\n",
       "            </tr>\n",
       "            <tr>\n",
       "                        <th id=\"T_c703fd38_2a70_11ea_9b83_5fdf93654a92level0_row3\" class=\"row_heading level0 row3\" >language</th>\n",
       "                        <td id=\"T_c703fd38_2a70_11ea_9b83_5fdf93654a92row3_col0\" class=\"data row3 col0\" >English</td>\n",
       "            </tr>\n",
       "            <tr>\n",
       "                        <th id=\"T_c703fd38_2a70_11ea_9b83_5fdf93654a92level0_row4\" class=\"row_heading level0 row4\" >categories</th>\n",
       "                        <td id=\"T_c703fd38_2a70_11ea_9b83_5fdf93654a92row4_col0\" class=\"data row4 col0\" >Blog, News, Slider</td>\n",
       "            </tr>\n",
       "    </tbody></table>"
      ],
      "text/plain": [
       "<pandas.io.formats.style.Styler at 0x7fa8d90d2940>"
      ]
     },
     "execution_count": 6,
     "metadata": {},
     "output_type": "execute_result"
    }
   ],
   "source": [
    "df.drop_duplicates(inplace=True)\n",
    "df.head(1).T.style"
   ]
  },
  {
   "cell_type": "code",
   "execution_count": 7,
   "metadata": {},
   "outputs": [],
   "source": [
    "df = df.loc[(df['categories'] != 'News') & (df['categories'] != 'articles 2015')]"
   ]
  },
  {
   "cell_type": "code",
   "execution_count": 8,
   "metadata": {},
   "outputs": [],
   "source": [
    "df['categories'] = df['categories'].str.replace(r'[^a-zA-Z_, ]+', '').replace(', ', '')\n",
    "df['categories'] = df['categories'].str.replace(r'^, ', '')"
   ]
  },
  {
   "cell_type": "code",
   "execution_count": 9,
   "metadata": {
    "scrolled": false
   },
   "outputs": [
    {
     "data": {
      "text/html": [
       "<div>\n",
       "<style scoped>\n",
       "    .dataframe tbody tr th:only-of-type {\n",
       "        vertical-align: middle;\n",
       "    }\n",
       "\n",
       "    .dataframe tbody tr th {\n",
       "        vertical-align: top;\n",
       "    }\n",
       "\n",
       "    .dataframe thead tr th {\n",
       "        text-align: left;\n",
       "    }\n",
       "\n",
       "    .dataframe thead tr:last-of-type th {\n",
       "        text-align: right;\n",
       "    }\n",
       "</style>\n",
       "<table border=\"1\" class=\"dataframe\">\n",
       "  <thead>\n",
       "    <tr>\n",
       "      <th></th>\n",
       "      <th>body</th>\n",
       "      <th>pubdate</th>\n",
       "      <th>subject</th>\n",
       "      <th>language</th>\n",
       "    </tr>\n",
       "    <tr>\n",
       "      <th></th>\n",
       "      <th>count</th>\n",
       "      <th>count</th>\n",
       "      <th>count</th>\n",
       "      <th>count</th>\n",
       "    </tr>\n",
       "    <tr>\n",
       "      <th>categories</th>\n",
       "      <th></th>\n",
       "      <th></th>\n",
       "      <th></th>\n",
       "      <th></th>\n",
       "    </tr>\n",
       "  </thead>\n",
       "  <tbody>\n",
       "    <tr>\n",
       "      <th>family and medical leave act, blue collar workers, go fund me</th>\n",
       "      <td>1</td>\n",
       "      <td>1</td>\n",
       "      <td>1</td>\n",
       "      <td>1</td>\n",
       "    </tr>\n",
       "    <tr>\n",
       "      <th>Activism</th>\n",
       "      <td>3</td>\n",
       "      <td>3</td>\n",
       "      <td>3</td>\n",
       "      <td>3</td>\n",
       "    </tr>\n",
       "    <tr>\n",
       "      <th>Advocacy, Disinformation, Feature</th>\n",
       "      <td>2</td>\n",
       "      <td>2</td>\n",
       "      <td>2</td>\n",
       "      <td>2</td>\n",
       "    </tr>\n",
       "    <tr>\n",
       "      <th>Africa</th>\n",
       "      <td>4</td>\n",
       "      <td>4</td>\n",
       "      <td>4</td>\n",
       "      <td>4</td>\n",
       "    </tr>\n",
       "    <tr>\n",
       "      <th>Africa, Algeria, News</th>\n",
       "      <td>14</td>\n",
       "      <td>14</td>\n",
       "      <td>14</td>\n",
       "      <td>14</td>\n",
       "    </tr>\n",
       "    <tr>\n",
       "      <th>Africa, Egypt, Europe  Russia</th>\n",
       "      <td>7</td>\n",
       "      <td>7</td>\n",
       "      <td>7</td>\n",
       "      <td>7</td>\n",
       "    </tr>\n",
       "    <tr>\n",
       "      <th>Africa, Egypt, Israel</th>\n",
       "      <td>5</td>\n",
       "      <td>5</td>\n",
       "      <td>5</td>\n",
       "      <td>5</td>\n",
       "    </tr>\n",
       "    <tr>\n",
       "      <th>Africa, Egypt, News</th>\n",
       "      <td>16</td>\n",
       "      <td>16</td>\n",
       "      <td>16</td>\n",
       "      <td>16</td>\n",
       "    </tr>\n",
       "    <tr>\n",
       "      <th>Africa, Libya, News</th>\n",
       "      <td>8</td>\n",
       "      <td>8</td>\n",
       "      <td>8</td>\n",
       "      <td>8</td>\n",
       "    </tr>\n",
       "    <tr>\n",
       "      <th>Africa, News, Sudan</th>\n",
       "      <td>11</td>\n",
       "      <td>11</td>\n",
       "      <td>11</td>\n",
       "      <td>11</td>\n",
       "    </tr>\n",
       "    <tr>\n",
       "      <th>Analysis, Business</th>\n",
       "      <td>9</td>\n",
       "      <td>9</td>\n",
       "      <td>9</td>\n",
       "      <td>9</td>\n",
       "    </tr>\n",
       "    <tr>\n",
       "      <th>Analysis, Social Issues</th>\n",
       "      <td>10</td>\n",
       "      <td>10</td>\n",
       "      <td>10</td>\n",
       "      <td>10</td>\n",
       "    </tr>\n",
       "    <tr>\n",
       "      <th>Analysis, comment, News</th>\n",
       "      <td>18</td>\n",
       "      <td>18</td>\n",
       "      <td>18</td>\n",
       "      <td>18</td>\n",
       "    </tr>\n",
       "    <tr>\n",
       "      <th>Articles, Commentary, Editorials</th>\n",
       "      <td>6</td>\n",
       "      <td>6</td>\n",
       "      <td>6</td>\n",
       "      <td>6</td>\n",
       "    </tr>\n",
       "    <tr>\n",
       "      <th>Business</th>\n",
       "      <td>13</td>\n",
       "      <td>13</td>\n",
       "      <td>13</td>\n",
       "      <td>13</td>\n",
       "    </tr>\n",
       "    <tr>\n",
       "      <th>Business, Opinion</th>\n",
       "      <td>12</td>\n",
       "      <td>12</td>\n",
       "      <td>12</td>\n",
       "      <td>12</td>\n",
       "    </tr>\n",
       "    <tr>\n",
       "      <th>Europe  Russia, Middle East, News</th>\n",
       "      <td>20</td>\n",
       "      <td>20</td>\n",
       "      <td>20</td>\n",
       "      <td>20</td>\n",
       "    </tr>\n",
       "    <tr>\n",
       "      <th>Hong Kong, Law  Crime, Politics  Protest</th>\n",
       "      <td>46</td>\n",
       "      <td>46</td>\n",
       "      <td>46</td>\n",
       "      <td>46</td>\n",
       "    </tr>\n",
       "    <tr>\n",
       "      <th>Iraq, Middle East, News</th>\n",
       "      <td>33</td>\n",
       "      <td>33</td>\n",
       "      <td>33</td>\n",
       "      <td>33</td>\n",
       "    </tr>\n",
       "    <tr>\n",
       "      <th>Israel, Middle East, News</th>\n",
       "      <td>74</td>\n",
       "      <td>74</td>\n",
       "      <td>74</td>\n",
       "      <td>74</td>\n",
       "    </tr>\n",
       "    <tr>\n",
       "      <th>Lebanon, Middle East, News</th>\n",
       "      <td>15</td>\n",
       "      <td>15</td>\n",
       "      <td>15</td>\n",
       "      <td>15</td>\n",
       "    </tr>\n",
       "    <tr>\n",
       "      <th>Middle East, News, Saudi Arabia</th>\n",
       "      <td>21</td>\n",
       "      <td>21</td>\n",
       "      <td>21</td>\n",
       "      <td>21</td>\n",
       "    </tr>\n",
       "    <tr>\n",
       "      <th>Opinion</th>\n",
       "      <td>57</td>\n",
       "      <td>57</td>\n",
       "      <td>57</td>\n",
       "      <td>57</td>\n",
       "    </tr>\n",
       "    <tr>\n",
       "      <th>Opinion, Social Issues</th>\n",
       "      <td>19</td>\n",
       "      <td>19</td>\n",
       "      <td>19</td>\n",
       "      <td>19</td>\n",
       "    </tr>\n",
       "    <tr>\n",
       "      <th>Uncategorized</th>\n",
       "      <td>60</td>\n",
       "      <td>60</td>\n",
       "      <td>60</td>\n",
       "      <td>60</td>\n",
       "    </tr>\n",
       "    <tr>\n",
       "      <th>articles , Leading Article</th>\n",
       "      <td>48</td>\n",
       "      <td>48</td>\n",
       "      <td>48</td>\n",
       "      <td>48</td>\n",
       "    </tr>\n",
       "    <tr>\n",
       "      <th>frontpage</th>\n",
       "      <td>32</td>\n",
       "      <td>32</td>\n",
       "      <td>32</td>\n",
       "      <td>32</td>\n",
       "    </tr>\n",
       "  </tbody>\n",
       "</table>\n",
       "</div>"
      ],
      "text/plain": [
       "                                                    body pubdate subject  \\\n",
       "                                                   count   count   count   \n",
       "categories                                                                 \n",
       " family and medical leave act, blue collar work...     1       1       1   \n",
       "Activism                                               3       3       3   \n",
       "Advocacy, Disinformation, Feature                      2       2       2   \n",
       "Africa                                                 4       4       4   \n",
       "Africa, Algeria, News                                 14      14      14   \n",
       "Africa, Egypt, Europe  Russia                          7       7       7   \n",
       "Africa, Egypt, Israel                                  5       5       5   \n",
       "Africa, Egypt, News                                   16      16      16   \n",
       "Africa, Libya, News                                    8       8       8   \n",
       "Africa, News, Sudan                                   11      11      11   \n",
       "Analysis, Business                                     9       9       9   \n",
       "Analysis, Social Issues                               10      10      10   \n",
       "Analysis, comment, News                               18      18      18   \n",
       "Articles, Commentary, Editorials                       6       6       6   \n",
       "Business                                              13      13      13   \n",
       "Business, Opinion                                     12      12      12   \n",
       "Europe  Russia, Middle East, News                     20      20      20   \n",
       "Hong Kong, Law  Crime, Politics  Protest              46      46      46   \n",
       "Iraq, Middle East, News                               33      33      33   \n",
       "Israel, Middle East, News                             74      74      74   \n",
       "Lebanon, Middle East, News                            15      15      15   \n",
       "Middle East, News, Saudi Arabia                       21      21      21   \n",
       "Opinion                                               57      57      57   \n",
       "Opinion, Social Issues                                19      19      19   \n",
       "Uncategorized                                         60      60      60   \n",
       "articles , Leading Article                            48      48      48   \n",
       "frontpage                                             32      32      32   \n",
       "\n",
       "                                                   language  \n",
       "                                                      count  \n",
       "categories                                                   \n",
       " family and medical leave act, blue collar work...        1  \n",
       "Activism                                                  3  \n",
       "Advocacy, Disinformation, Feature                         2  \n",
       "Africa                                                    4  \n",
       "Africa, Algeria, News                                    14  \n",
       "Africa, Egypt, Europe  Russia                             7  \n",
       "Africa, Egypt, Israel                                     5  \n",
       "Africa, Egypt, News                                      16  \n",
       "Africa, Libya, News                                       8  \n",
       "Africa, News, Sudan                                      11  \n",
       "Analysis, Business                                        9  \n",
       "Analysis, Social Issues                                  10  \n",
       "Analysis, comment, News                                  18  \n",
       "Articles, Commentary, Editorials                          6  \n",
       "Business                                                 13  \n",
       "Business, Opinion                                        12  \n",
       "Europe  Russia, Middle East, News                        20  \n",
       "Hong Kong, Law  Crime, Politics  Protest                 46  \n",
       "Iraq, Middle East, News                                  33  \n",
       "Israel, Middle East, News                                74  \n",
       "Lebanon, Middle East, News                               15  \n",
       "Middle East, News, Saudi Arabia                          21  \n",
       "Opinion                                                  57  \n",
       "Opinion, Social Issues                                   19  \n",
       "Uncategorized                                            60  \n",
       "articles , Leading Article                               48  \n",
       "frontpage                                                32  "
      ]
     },
     "execution_count": 9,
     "metadata": {},
     "output_type": "execute_result"
    }
   ],
   "source": [
    "df.groupby(['categories']).agg({'count'}).drop_duplicates()"
   ]
  },
  {
   "cell_type": "code",
   "execution_count": 10,
   "metadata": {},
   "outputs": [],
   "source": [
    "df['cat_id'] = df['categories'].factorize()[0]"
   ]
  },
  {
   "cell_type": "code",
   "execution_count": 11,
   "metadata": {},
   "outputs": [
    {
     "data": {
      "text/plain": [
       "(2570, 6)"
      ]
     },
     "execution_count": 11,
     "metadata": {},
     "output_type": "execute_result"
    }
   ],
   "source": [
    "df.shape"
   ]
  },
  {
   "cell_type": "code",
   "execution_count": 12,
   "metadata": {},
   "outputs": [],
   "source": [
    "cat_id_df = df[['categories', 'cat_id']].drop_duplicates().sort_values('cat_id')\n",
    "cat_to_id = dict(cat_id_df.values)\n",
    "id_to_cat = dict(cat_id_df[['cat_id', 'categories']].values)"
   ]
  },
  {
   "cell_type": "code",
   "execution_count": 13,
   "metadata": {},
   "outputs": [],
   "source": [
    "xtrain, xtest, ytrain, ytest = train_test_split(df['body'], df['categories'], test_size=0.33, random_state=199)"
   ]
  },
  {
   "cell_type": "code",
   "execution_count": 14,
   "metadata": {},
   "outputs": [],
   "source": [
    "tfidf = TfidfVectorizer(use_idf=False, sublinear_tf=True, min_df=5, norm='l2', encoding='latin-1', ngram_range=(1, 2), stop_words='english')"
   ]
  },
  {
   "cell_type": "code",
   "execution_count": 15,
   "metadata": {},
   "outputs": [
    {
     "name": "stdout",
     "output_type": "stream",
     "text": [
      "2570 2570 2570\n"
     ]
    }
   ],
   "source": [
    "features = tfidf.fit_transform(df.body).toarray()\n",
    "labels = df.cat_id\n",
    "print(len(features), len(labels), len(df.index))"
   ]
  },
  {
   "cell_type": "code",
   "execution_count": 16,
   "metadata": {},
   "outputs": [
    {
     "data": {
      "image/png": "[encoded data removed]",
      "text/plain": [
       "<Figure size 1200x1200 with 1 Axes>"
      ]
     },
     "metadata": {
      "needs_background": "light"
     },
     "output_type": "display_data"
    }
   ],
   "source": [
    "plt.figure(figsize=(15, 15), dpi=80)\n",
    "plt.scatter(features[:,0], features[:,1])\n",
    "plt.show()"
   ]
  },
  {
   "cell_type": "code",
   "execution_count": 17,
   "metadata": {},
   "outputs": [],
   "source": [
    "engines = [('PAC', PassiveAggressiveClassifier()),\n",
    "           ('RC', RidgeClassifier()),\n",
    "           ('RCCV', RidgeClassifierCV()),\n",
    "           ('SGDC', SGDClassifier()),\n",
    "           ('LR', LogisticRegression(solver='lbfgs', multi_class='multinomial')),\n",
    "           ('Perp', Perceptron()), \n",
    "           ('CompNB', ComplementNB()), \n",
    "           ('NC', NearestCentroid()), \n",
    "           ('MNB', MultinomialNB())]"
   ]
  },
  {
   "cell_type": "code",
   "execution_count": 18,
   "metadata": {},
   "outputs": [
    {
     "name": "stdout",
     "output_type": "stream",
     "text": [
      "PAC 1.0\n",
      "RC 1.0\n",
      "RCCV 1.0\n",
      "SGDC 1.0\n",
      "LR 1.0\n",
      "Perp 1.0\n",
      "CompNB 1.0\n",
      "NC 1.0\n",
      "MNB 1.0\n"
     ]
    }
   ],
   "source": [
    "for name, engine in engines:\n",
    "  clf = make_pipeline(tfidf, engine)\n",
    "  clf.fit(xtrain, ytrain)\n",
    "  prediction = clf.predict(xtest)\n",
    "  score = clf.score(xtest, prediction)\n",
    "  print(name, score)\n",
    "  with open('./data/{}.pickle'.format(name.lower()), 'wb') as f:\n",
    "    pickle.dump(clf, f)"
   ]
  },
  {
   "cell_type": "code",
   "execution_count": 19,
   "metadata": {},
   "outputs": [],
   "source": [
    "s = '''\n",
    "\n",
    "‘Guys, you’ve got to hear this,” I said. I was sitting in front of my computer one day in July 2012, with one eye on a screen of share prices and the other on a live stream of the House of Commons Treasury select committee hearings. As the Barclays share price took a graceful swan dive, I pulled my headphones out of the socket and turned up the volume so everyone could hear. My colleagues left their terminals and came around to watch BBC Parliament with me.\n",
    "\n",
    "It didn’t take long to realise what was happening. “Bob’s getting murdered,” someone said.\n",
    "\n",
    "Bob Diamond, the swashbuckling chief executive of Barclays, had been called before the committee to explain exactly what his bank had been playing at in regards to the Libor rate-fixing scandal. The day before his appearance, he had made things very much worse by seeming to accuse the deputy governor of the Bank of England of ordering him to fiddle an important benchmark, then walking back the accusation as soon as it was challenged. He was trying to turn on his legendary charm in front of a committee of angry MPs, and it wasn’t working. On our trading floor, in Mayfair, calls were coming in from all over the City. Investors needed to know what was happening and whether the damage was reparable.\n",
    "\n",
    "A couple of weeks later, the damage was done. The money was gone, Diamond was out of a job and the market, as it always does, had moved on. We were left asking ourselves: How did we get it so wrong?\n",
    "\n",
    "'''"
   ]
  },
  {
   "cell_type": "code",
   "execution_count": 20,
   "metadata": {},
   "outputs": [
    {
     "name": "stdout",
     "output_type": "stream",
     "text": [
      "./data/sgdc.pickle From The Archives, Neighborhoods, New York 1.0\n",
      "./data/nc.pickle Opinion 1.0\n",
      "./data/mnb.pickle Opinion 1.0\n",
      "./data/compnb.pickle Opinion 1.0\n",
      "./data/pac.pickle Opinion 1.0\n",
      "./data/perp.pickle Article, Big Slide, Europe  Russia 1.0\n",
      "./data/lr.pickle Opinion 1.0\n",
      "./data/rc.pickle Opinion 1.0\n",
      "./data/rccv.pickle Opinion 1.0\n",
      "{\n",
      "    \"From The Archives, Neighborhoods, New York\": 1,\n",
      "    \"Opinion\": 7,\n",
      "    \"Article, Big Slide, Europe  Russia\": 1\n",
      "}\n"
     ]
    }
   ],
   "source": [
    "result = []\n",
    "for file in glob.glob('./data/*.pickle'):\n",
    "  clf = pickle.load(open('{}'.format(file), 'rb'))\n",
    "  say = clf.predict([s])\n",
    "  score = clf.score([s], say)\n",
    "  print(file, say[0], score)\n",
    "  result.append(say[0])\n",
    "\n",
    "print(dumps(Counter(result), indent=4))"
   ]
  },
  {
   "cell_type": "code",
   "execution_count": null,
   "metadata": {},
   "outputs": [],
   "source": []
  }
 ],
 "metadata": {
  "kernelspec": {
   "display_name": "Python 3",
   "language": "python",
   "name": "python3"
  },
  "language_info": {
   "codemirror_mode": {
    "name": "ipython",
    "version": 3
   },
   "file_extension": ".py",
   "mimetype": "text/x-python",
   "name": "python",
   "nbconvert_exporter": "python",
   "pygments_lexer": "ipython3",
   "version": "3.7.3"
  }
 },
 "nbformat": 4,
 "nbformat_minor": 2
}
