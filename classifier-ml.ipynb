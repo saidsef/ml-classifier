{
 "cells": [
  {
   "cell_type": "code",
   "execution_count": 1,
   "metadata": {
    "execution": {
     "iopub.execute_input": "2024-04-17T20:45:01.456862Z",
     "iopub.status.busy": "2024-04-17T20:45:01.456419Z",
     "iopub.status.idle": "2024-04-17T20:45:02.224219Z",
     "shell.execute_reply": "2024-04-17T20:45:02.223823Z"
    },
    "metadata": {}
   },
   "outputs": [],
   "source": [
    "%load_ext autoreload\n",
    "%autoreload 2\n",
    "\n",
    "import lzma\n",
    "import pickle\n",
    "import hashlib\n",
    "import pandas as pd\n",
    "import numpy as np\n",
    "import requests as r\n",
    "import seaborn as sns\n",
    "import warnings\n",
    "import matplotlib as mpl\n",
    "import matplotlib.pyplot as plt\n",
    "from json import load, dump, loads, dumps\n",
    "from joblib import hash\n",
    "from sklearn.ensemble import AdaBoostClassifier, RandomForestClassifier, GradientBoostingClassifier, VotingClassifier\n",
    "from sklearn.feature_extraction.text import TfidfVectorizer, TfidfTransformer\n",
    "from sklearn.feature_selection import SelectKBest, f_classif\n",
    "from sklearn.linear_model import SGDClassifier, LogisticRegression\n",
    "from sklearn.metrics import accuracy_score, classification_report\n",
    "from sklearn.model_selection import train_test_split\n",
    "from sklearn.neural_network import MLPClassifier\n",
    "from sklearn.pipeline import Pipeline\n",
    "from sklearn.preprocessing import MaxAbsScaler\n",
    "from sklearn.semi_supervised import SelfTrainingClassifier\n",
    "from sklearn.tree import DecisionTreeClassifier, plot_tree\n",
    "\n",
    "warnings.simplefilter('ignore')\n",
    "mpl.style.use('ggplot')"
   ]
  },
  {
   "cell_type": "markdown",
   "metadata": {},
   "source": [
    "## Source Data\n",
    "\n",
    "IF source data is missing run Elasticsearch query to extract data and then save it in JSON format to `data` directory"
   ]
  },
  {
   "cell_type": "code",
   "execution_count": 2,
   "metadata": {
    "execution": {
     "iopub.execute_input": "2024-04-17T20:45:02.226047Z",
     "iopub.status.busy": "2024-04-17T20:45:02.225831Z",
     "iopub.status.idle": "2024-04-17T20:45:18.524432Z",
     "shell.execute_reply": "2024-04-17T20:45:18.523973Z"
    },
    "metadata": {}
   },
   "outputs": [],
   "source": [
    "# news_json = r.get('http://elasticsearch.storage:9200/news/scraped/_search?sort=date:desc&size=6000').json()\n",
    "# with lzma.open('./data/news.json.xz', 'wt', encoding='utf-8') as fh:\n",
    "#   fh.write(dumps(news_json['hits']['hits']))"
   ]
  },
  {
   "cell_type": "code",
   "execution_count": 3,
   "metadata": {
    "execution": {
     "iopub.execute_input": "2024-04-17T20:45:18.525902Z",
     "iopub.status.busy": "2024-04-17T20:45:18.525801Z",
     "iopub.status.idle": "2024-04-17T20:45:18.686235Z",
     "shell.execute_reply": "2024-04-17T20:45:18.685869Z"
    },
    "metadata": {}
   },
   "outputs": [],
   "source": [
    "b = loads(lzma.open('./data/news.json.xz', 'rt', encoding='utf-8').read())\n",
    "df = pd.json_normalize(b)"
   ]
  },
  {
   "cell_type": "markdown",
   "metadata": {},
   "source": [
    "## Common issues that we generally face during the data preparation phase:\n",
    " - Format and structure normalization\n",
    " - Detect and fix missing values\n",
    " - Duplicates removal\n",
    " - Units normalization\n",
    " - Constraints validations\n",
    " - Anomaly detection and removal\n",
    " - Study of features importance/relevance\n",
    " - Dimentional reduction, feature selection & extraction"
   ]
  },
  {
   "cell_type": "code",
   "execution_count": 4,
   "metadata": {
    "execution": {
     "iopub.execute_input": "2024-04-17T20:45:18.687749Z",
     "iopub.status.busy": "2024-04-17T20:45:18.687647Z",
     "iopub.status.idle": "2024-04-17T20:45:18.700340Z",
     "shell.execute_reply": "2024-04-17T20:45:18.699978Z"
    },
    "metadata": {}
   },
   "outputs": [],
   "source": [
    "df = df[['_source.body', '_source.date', '_source.subject', '_source.language', '_source.categories']]\n",
    "df.columns = ['body', 'pubdate', 'subject', 'language', 'categories']"
   ]
  },
  {
   "cell_type": "code",
   "execution_count": 5,
   "metadata": {
    "execution": {
     "iopub.execute_input": "2024-04-17T20:45:18.701712Z",
     "iopub.status.busy": "2024-04-17T20:45:18.701621Z",
     "iopub.status.idle": "2024-04-17T20:45:18.760891Z",
     "shell.execute_reply": "2024-04-17T20:45:18.760592Z"
    },
    "metadata": {}
   },
   "outputs": [
    {
     "data": {
      "text/html": [
       "<style type=\"text/css\">\n",
       "</style>\n",
       "<table id=\"T_7ca90\">\n",
       "  <thead>\n",
       "    <tr>\n",
       "      <th class=\"blank level0\" >&nbsp;</th>\n",
       "      <th id=\"T_7ca90_level0_col0\" class=\"col_heading level0 col0\" >0</th>\n",
       "    </tr>\n",
       "  </thead>\n",
       "  <tbody>\n",
       "    <tr>\n",
       "      <th id=\"T_7ca90_level0_row0\" class=\"row_heading level0 row0\" >body</th>\n",
       "      <td id=\"T_7ca90_row0_col0\" class=\"data row0 col0\" >Norway has urged the United Nations Security Council to grant Palestine full membership status, saying the Nordic country will vote in favor when the General Assembly votes on the issue, Anadolu Agency reports. “Norway has made it very clear that it supports Palestine’s application for full membership status in the UN, and that Norway will vote in favor the day the General Assembly holds a vote on the application,” Foreign Minister Espen Barth Eide said in a statement issued late Friday. The announcement comes after the UN General Assembly overwhelmingly approved a resolution on Friday calling for the reevaluation of Palestine&#8217;s UN membership bid and the grant of additional rights. The US, Israel, Hungary, Argentina, Micronesia, Nauru, Palau, and Papua [&#8230;]</td>\n",
       "    </tr>\n",
       "    <tr>\n",
       "      <th id=\"T_7ca90_level0_row1\" class=\"row_heading level0 row1\" >pubdate</th>\n",
       "      <td id=\"T_7ca90_row1_col0\" class=\"data row1 col0\" >2024-05-11T17:02:19.000Z</td>\n",
       "    </tr>\n",
       "    <tr>\n",
       "      <th id=\"T_7ca90_level0_row2\" class=\"row_heading level0 row2\" >subject</th>\n",
       "      <td id=\"T_7ca90_row2_col0\" class=\"data row2 col0\" >UN Security Council must approve Palestine's membership: Norway</td>\n",
       "    </tr>\n",
       "    <tr>\n",
       "      <th id=\"T_7ca90_level0_row3\" class=\"row_heading level0 row3\" >language</th>\n",
       "      <td id=\"T_7ca90_row3_col0\" class=\"data row3 col0\" >English</td>\n",
       "    </tr>\n",
       "    <tr>\n",
       "      <th id=\"T_7ca90_level0_row4\" class=\"row_heading level0 row4\" >categories</th>\n",
       "      <td id=\"T_7ca90_row4_col0\" class=\"data row4 col0\" >Asia & Americas, Europe & Russia, International Organisations</td>\n",
       "    </tr>\n",
       "  </tbody>\n",
       "</table>\n"
      ],
      "text/plain": [
       "<pandas.io.formats.style.Styler at 0xffff1ff3cd90>"
      ]
     },
     "execution_count": 5,
     "metadata": {},
     "output_type": "execute_result"
    }
   ],
   "source": [
    "df.drop_duplicates(inplace=True)\n",
    "df.head(1).T.style"
   ]
  },
  {
   "cell_type": "code",
   "execution_count": 6,
   "metadata": {
    "execution": {
     "iopub.execute_input": "2024-04-17T20:45:18.779827Z",
     "iopub.status.busy": "2024-04-17T20:45:18.779658Z",
     "iopub.status.idle": "2024-04-17T20:45:18.795164Z",
     "shell.execute_reply": "2024-04-17T20:45:18.794824Z"
    },
    "metadata": {}
   },
   "outputs": [],
   "source": [
    "df = df.loc[(df['categories'] != 'News') & \n",
    "            (df['categories'] != 'Uncategorized') &\n",
    "            (df['language'] == 'English')]"
   ]
  },
  {
   "cell_type": "code",
   "execution_count": 7,
   "metadata": {
    "execution": {
     "iopub.execute_input": "2024-04-17T20:45:18.796477Z",
     "iopub.status.busy": "2024-04-17T20:45:18.796389Z",
     "iopub.status.idle": "2024-04-17T20:45:18.814222Z",
     "shell.execute_reply": "2024-04-17T20:45:18.813853Z"
    },
    "metadata": {}
   },
   "outputs": [],
   "source": [
    "df['categories'] = df['categories'].str.replace(r'[^a-zA-Z_, ]+', '').replace(', ', '')\n",
    "df['categories'] = df['categories'].str.replace(r'^, ', '')\n",
    "df = df[~df.eq('').all(1)]"
   ]
  },
  {
   "cell_type": "code",
   "execution_count": 8,
   "metadata": {
    "execution": {
     "iopub.execute_input": "2024-04-17T20:45:18.815574Z",
     "iopub.status.busy": "2024-04-17T20:45:18.815462Z",
     "iopub.status.idle": "2024-04-17T20:45:18.839160Z",
     "shell.execute_reply": "2024-04-17T20:45:18.838830Z"
    },
    "metadata": {}
   },
   "outputs": [
    {
     "data": {
      "text/html": [
       "<div>\n",
       "<style scoped>\n",
       "    .dataframe tbody tr th:only-of-type {\n",
       "        vertical-align: middle;\n",
       "    }\n",
       "\n",
       "    .dataframe tbody tr th {\n",
       "        vertical-align: top;\n",
       "    }\n",
       "\n",
       "    .dataframe thead tr th {\n",
       "        text-align: left;\n",
       "    }\n",
       "\n",
       "    .dataframe thead tr:last-of-type th {\n",
       "        text-align: right;\n",
       "    }\n",
       "</style>\n",
       "<table border=\"1\" class=\"dataframe\">\n",
       "  <thead>\n",
       "    <tr>\n",
       "      <th></th>\n",
       "      <th>body</th>\n",
       "      <th>pubdate</th>\n",
       "      <th>subject</th>\n",
       "      <th>language</th>\n",
       "    </tr>\n",
       "    <tr>\n",
       "      <th></th>\n",
       "      <th>count</th>\n",
       "      <th>count</th>\n",
       "      <th>count</th>\n",
       "      <th>count</th>\n",
       "    </tr>\n",
       "    <tr>\n",
       "      <th>categories</th>\n",
       "      <th></th>\n",
       "      <th></th>\n",
       "      <th></th>\n",
       "      <th></th>\n",
       "    </tr>\n",
       "  </thead>\n",
       "  <tbody>\n",
       "    <tr>\n",
       "      <th>#Culture, #Life, Books</th>\n",
       "      <td>1</td>\n",
       "      <td>1</td>\n",
       "      <td>1</td>\n",
       "      <td>1</td>\n",
       "    </tr>\n",
       "    <tr>\n",
       "      <th>#Culture, featured, Featured Culture</th>\n",
       "      <td>3</td>\n",
       "      <td>3</td>\n",
       "      <td>3</td>\n",
       "      <td>3</td>\n",
       "    </tr>\n",
       "    <tr>\n",
       "      <th>#Current Affairs, featured, Featured Current Affairs</th>\n",
       "      <td>2</td>\n",
       "      <td>2</td>\n",
       "      <td>2</td>\n",
       "      <td>2</td>\n",
       "    </tr>\n",
       "    <tr>\n",
       "      <th>#Islam, featured, Featured Islam</th>\n",
       "      <td>4</td>\n",
       "      <td>4</td>\n",
       "      <td>4</td>\n",
       "      <td>4</td>\n",
       "    </tr>\n",
       "    <tr>\n",
       "      <th>Afghanistan, Africa, Asia &amp; Americas</th>\n",
       "      <td>6</td>\n",
       "      <td>6</td>\n",
       "      <td>6</td>\n",
       "      <td>6</td>\n",
       "    </tr>\n",
       "    <tr>\n",
       "      <th>Afghanistan, Asia &amp; Americas, Europe &amp; Russia</th>\n",
       "      <td>13</td>\n",
       "      <td>13</td>\n",
       "      <td>13</td>\n",
       "      <td>13</td>\n",
       "    </tr>\n",
       "    <tr>\n",
       "      <th>Africa, Algeria, Article</th>\n",
       "      <td>8</td>\n",
       "      <td>8</td>\n",
       "      <td>8</td>\n",
       "      <td>8</td>\n",
       "    </tr>\n",
       "    <tr>\n",
       "      <th>Africa, Algeria, Asia &amp; Americas</th>\n",
       "      <td>9</td>\n",
       "      <td>9</td>\n",
       "      <td>9</td>\n",
       "      <td>9</td>\n",
       "    </tr>\n",
       "    <tr>\n",
       "      <th>Africa, Algeria, Europe &amp; Russia</th>\n",
       "      <td>30</td>\n",
       "      <td>30</td>\n",
       "      <td>30</td>\n",
       "      <td>30</td>\n",
       "    </tr>\n",
       "    <tr>\n",
       "      <th>Africa, Algeria, News</th>\n",
       "      <td>12</td>\n",
       "      <td>12</td>\n",
       "      <td>12</td>\n",
       "      <td>12</td>\n",
       "    </tr>\n",
       "    <tr>\n",
       "      <th>Africa, Article, Asia &amp; Americas</th>\n",
       "      <td>28</td>\n",
       "      <td>28</td>\n",
       "      <td>28</td>\n",
       "      <td>28</td>\n",
       "    </tr>\n",
       "    <tr>\n",
       "      <th>Africa, Article, Opinion</th>\n",
       "      <td>7</td>\n",
       "      <td>7</td>\n",
       "      <td>7</td>\n",
       "      <td>7</td>\n",
       "    </tr>\n",
       "    <tr>\n",
       "      <th>Africa, Asia &amp; Americas, Egypt</th>\n",
       "      <td>39</td>\n",
       "      <td>39</td>\n",
       "      <td>39</td>\n",
       "      <td>39</td>\n",
       "    </tr>\n",
       "    <tr>\n",
       "      <th>Africa, Egypt, Europe &amp; Russia</th>\n",
       "      <td>46</td>\n",
       "      <td>46</td>\n",
       "      <td>46</td>\n",
       "      <td>46</td>\n",
       "    </tr>\n",
       "    <tr>\n",
       "      <th>Africa, Egypt, IMF</th>\n",
       "      <td>5</td>\n",
       "      <td>5</td>\n",
       "      <td>5</td>\n",
       "      <td>5</td>\n",
       "    </tr>\n",
       "    <tr>\n",
       "      <th>Africa, Egypt, International Organisations</th>\n",
       "      <td>10</td>\n",
       "      <td>10</td>\n",
       "      <td>10</td>\n",
       "      <td>10</td>\n",
       "    </tr>\n",
       "    <tr>\n",
       "      <th>Africa, Egypt, Israel</th>\n",
       "      <td>43</td>\n",
       "      <td>43</td>\n",
       "      <td>43</td>\n",
       "      <td>43</td>\n",
       "    </tr>\n",
       "    <tr>\n",
       "      <th>Africa, Egypt, Middle East</th>\n",
       "      <td>19</td>\n",
       "      <td>19</td>\n",
       "      <td>19</td>\n",
       "      <td>19</td>\n",
       "    </tr>\n",
       "    <tr>\n",
       "      <th>Africa, Egypt, News</th>\n",
       "      <td>70</td>\n",
       "      <td>70</td>\n",
       "      <td>70</td>\n",
       "      <td>70</td>\n",
       "    </tr>\n",
       "    <tr>\n",
       "      <th>Africa, Europe &amp; Russia, News</th>\n",
       "      <td>23</td>\n",
       "      <td>23</td>\n",
       "      <td>23</td>\n",
       "      <td>23</td>\n",
       "    </tr>\n",
       "    <tr>\n",
       "      <th>Africa, Israel, Middle East</th>\n",
       "      <td>22</td>\n",
       "      <td>22</td>\n",
       "      <td>22</td>\n",
       "      <td>22</td>\n",
       "    </tr>\n",
       "    <tr>\n",
       "      <th>Africa, Middle East, News</th>\n",
       "      <td>11</td>\n",
       "      <td>11</td>\n",
       "      <td>11</td>\n",
       "      <td>11</td>\n",
       "    </tr>\n",
       "    <tr>\n",
       "      <th>Africa, News, Sudan</th>\n",
       "      <td>27</td>\n",
       "      <td>27</td>\n",
       "      <td>27</td>\n",
       "      <td>27</td>\n",
       "    </tr>\n",
       "    <tr>\n",
       "      <th>Africa, News, Tunisia</th>\n",
       "      <td>62</td>\n",
       "      <td>62</td>\n",
       "      <td>62</td>\n",
       "      <td>62</td>\n",
       "    </tr>\n",
       "    <tr>\n",
       "      <th>Analysis, Breaking, Exclusive</th>\n",
       "      <td>18</td>\n",
       "      <td>18</td>\n",
       "      <td>18</td>\n",
       "      <td>18</td>\n",
       "    </tr>\n",
       "    <tr>\n",
       "      <th>Analysis, Breaking, comment</th>\n",
       "      <td>15</td>\n",
       "      <td>15</td>\n",
       "      <td>15</td>\n",
       "      <td>15</td>\n",
       "    </tr>\n",
       "    <tr>\n",
       "      <th>Article, Israel, Middle East</th>\n",
       "      <td>59</td>\n",
       "      <td>59</td>\n",
       "      <td>59</td>\n",
       "      <td>59</td>\n",
       "    </tr>\n",
       "    <tr>\n",
       "      <th>Asia &amp; Americas, China, Europe &amp; Russia</th>\n",
       "      <td>14</td>\n",
       "      <td>14</td>\n",
       "      <td>14</td>\n",
       "      <td>14</td>\n",
       "    </tr>\n",
       "    <tr>\n",
       "      <th>Asia &amp; Americas, International Organisations, Israel</th>\n",
       "      <td>25</td>\n",
       "      <td>25</td>\n",
       "      <td>25</td>\n",
       "      <td>25</td>\n",
       "    </tr>\n",
       "    <tr>\n",
       "      <th>Asia &amp; Americas, Iran, Middle East</th>\n",
       "      <td>20</td>\n",
       "      <td>20</td>\n",
       "      <td>20</td>\n",
       "      <td>20</td>\n",
       "    </tr>\n",
       "    <tr>\n",
       "      <th>Asia &amp; Americas, Israel, Middle East</th>\n",
       "      <td>156</td>\n",
       "      <td>156</td>\n",
       "      <td>156</td>\n",
       "      <td>156</td>\n",
       "    </tr>\n",
       "    <tr>\n",
       "      <th>Asia &amp; Americas, Middle East, News</th>\n",
       "      <td>35</td>\n",
       "      <td>35</td>\n",
       "      <td>35</td>\n",
       "      <td>35</td>\n",
       "    </tr>\n",
       "    <tr>\n",
       "      <th>Blog, News, gaza</th>\n",
       "      <td>24</td>\n",
       "      <td>24</td>\n",
       "      <td>24</td>\n",
       "      <td>24</td>\n",
       "    </tr>\n",
       "    <tr>\n",
       "      <th>EU, Europe &amp; Russia, International Organisations</th>\n",
       "      <td>16</td>\n",
       "      <td>16</td>\n",
       "      <td>16</td>\n",
       "      <td>16</td>\n",
       "    </tr>\n",
       "    <tr>\n",
       "      <th>Europe &amp; Russia, Iran, Middle East</th>\n",
       "      <td>17</td>\n",
       "      <td>17</td>\n",
       "      <td>17</td>\n",
       "      <td>17</td>\n",
       "    </tr>\n",
       "    <tr>\n",
       "      <th>Europe &amp; Russia, Israel, Middle East</th>\n",
       "      <td>98</td>\n",
       "      <td>98</td>\n",
       "      <td>98</td>\n",
       "      <td>98</td>\n",
       "    </tr>\n",
       "    <tr>\n",
       "      <th>Europe &amp; Russia, News, Turkey</th>\n",
       "      <td>76</td>\n",
       "      <td>76</td>\n",
       "      <td>76</td>\n",
       "      <td>76</td>\n",
       "    </tr>\n",
       "    <tr>\n",
       "      <th>Hong Kong, Law &amp; Crime, Politics &amp; Protest</th>\n",
       "      <td>63</td>\n",
       "      <td>63</td>\n",
       "      <td>63</td>\n",
       "      <td>63</td>\n",
       "    </tr>\n",
       "    <tr>\n",
       "      <th>International Organisations, Israel, Middle East</th>\n",
       "      <td>103</td>\n",
       "      <td>103</td>\n",
       "      <td>103</td>\n",
       "      <td>103</td>\n",
       "    </tr>\n",
       "    <tr>\n",
       "      <th>International Organisations, Middle East, News</th>\n",
       "      <td>21</td>\n",
       "      <td>21</td>\n",
       "      <td>21</td>\n",
       "      <td>21</td>\n",
       "    </tr>\n",
       "    <tr>\n",
       "      <th>Iran, Middle East, News</th>\n",
       "      <td>51</td>\n",
       "      <td>51</td>\n",
       "      <td>51</td>\n",
       "      <td>51</td>\n",
       "    </tr>\n",
       "    <tr>\n",
       "      <th>Israel, Lebanon, Middle East</th>\n",
       "      <td>41</td>\n",
       "      <td>41</td>\n",
       "      <td>41</td>\n",
       "      <td>41</td>\n",
       "    </tr>\n",
       "    <tr>\n",
       "      <th>Israel, Middle East, News</th>\n",
       "      <td>583</td>\n",
       "      <td>583</td>\n",
       "      <td>583</td>\n",
       "      <td>583</td>\n",
       "    </tr>\n",
       "    <tr>\n",
       "      <th>Israel, Middle East, Palestine</th>\n",
       "      <td>55</td>\n",
       "      <td>55</td>\n",
       "      <td>55</td>\n",
       "      <td>55</td>\n",
       "    </tr>\n",
       "    <tr>\n",
       "      <th>Lebanon, Middle East, News</th>\n",
       "      <td>38</td>\n",
       "      <td>38</td>\n",
       "      <td>38</td>\n",
       "      <td>38</td>\n",
       "    </tr>\n",
       "    <tr>\n",
       "      <th>Local</th>\n",
       "      <td>81</td>\n",
       "      <td>81</td>\n",
       "      <td>81</td>\n",
       "      <td>81</td>\n",
       "    </tr>\n",
       "    <tr>\n",
       "      <th>Local, News</th>\n",
       "      <td>42</td>\n",
       "      <td>42</td>\n",
       "      <td>42</td>\n",
       "      <td>42</td>\n",
       "    </tr>\n",
       "    <tr>\n",
       "      <th>Palestine</th>\n",
       "      <td>34</td>\n",
       "      <td>34</td>\n",
       "      <td>34</td>\n",
       "      <td>34</td>\n",
       "    </tr>\n",
       "    <tr>\n",
       "      <th>World</th>\n",
       "      <td>87</td>\n",
       "      <td>87</td>\n",
       "      <td>87</td>\n",
       "      <td>87</td>\n",
       "    </tr>\n",
       "  </tbody>\n",
       "</table>\n",
       "</div>"
      ],
      "text/plain": [
       "                                                    body pubdate subject  \\\n",
       "                                                   count   count   count   \n",
       "categories                                                                 \n",
       "#Culture, #Life, Books                                 1       1       1   \n",
       "#Culture, featured, Featured Culture                   3       3       3   \n",
       "#Current Affairs, featured, Featured Current Af...     2       2       2   \n",
       "#Islam, featured, Featured Islam                       4       4       4   \n",
       "Afghanistan, Africa, Asia & Americas                   6       6       6   \n",
       "Afghanistan, Asia & Americas, Europe & Russia         13      13      13   \n",
       "Africa, Algeria, Article                               8       8       8   \n",
       "Africa, Algeria, Asia & Americas                       9       9       9   \n",
       "Africa, Algeria, Europe & Russia                      30      30      30   \n",
       "Africa, Algeria, News                                 12      12      12   \n",
       "Africa, Article, Asia & Americas                      28      28      28   \n",
       "Africa, Article, Opinion                               7       7       7   \n",
       "Africa, Asia & Americas, Egypt                        39      39      39   \n",
       "Africa, Egypt, Europe & Russia                        46      46      46   \n",
       "Africa, Egypt, IMF                                     5       5       5   \n",
       "Africa, Egypt, International Organisations            10      10      10   \n",
       "Africa, Egypt, Israel                                 43      43      43   \n",
       "Africa, Egypt, Middle East                            19      19      19   \n",
       "Africa, Egypt, News                                   70      70      70   \n",
       "Africa, Europe & Russia, News                         23      23      23   \n",
       "Africa, Israel, Middle East                           22      22      22   \n",
       "Africa, Middle East, News                             11      11      11   \n",
       "Africa, News, Sudan                                   27      27      27   \n",
       "Africa, News, Tunisia                                 62      62      62   \n",
       "Analysis, Breaking, Exclusive                         18      18      18   \n",
       "Analysis, Breaking, comment                           15      15      15   \n",
       "Article, Israel, Middle East                          59      59      59   \n",
       "Asia & Americas, China, Europe & Russia               14      14      14   \n",
       "Asia & Americas, International Organisations, I...    25      25      25   \n",
       "Asia & Americas, Iran, Middle East                    20      20      20   \n",
       "Asia & Americas, Israel, Middle East                 156     156     156   \n",
       "Asia & Americas, Middle East, News                    35      35      35   \n",
       "Blog, News, gaza                                      24      24      24   \n",
       "EU, Europe & Russia, International Organisations      16      16      16   \n",
       "Europe & Russia, Iran, Middle East                    17      17      17   \n",
       "Europe & Russia, Israel, Middle East                  98      98      98   \n",
       "Europe & Russia, News, Turkey                         76      76      76   \n",
       "Hong Kong, Law & Crime, Politics & Protest            63      63      63   \n",
       "International Organisations, Israel, Middle East     103     103     103   \n",
       "International Organisations, Middle East, News        21      21      21   \n",
       "Iran, Middle East, News                               51      51      51   \n",
       "Israel, Lebanon, Middle East                          41      41      41   \n",
       "Israel, Middle East, News                            583     583     583   \n",
       "Israel, Middle East, Palestine                        55      55      55   \n",
       "Lebanon, Middle East, News                            38      38      38   \n",
       "Local                                                 81      81      81   \n",
       "Local, News                                           42      42      42   \n",
       "Palestine                                             34      34      34   \n",
       "World                                                 87      87      87   \n",
       "\n",
       "                                                   language  \n",
       "                                                      count  \n",
       "categories                                                   \n",
       "#Culture, #Life, Books                                    1  \n",
       "#Culture, featured, Featured Culture                      3  \n",
       "#Current Affairs, featured, Featured Current Af...        2  \n",
       "#Islam, featured, Featured Islam                          4  \n",
       "Afghanistan, Africa, Asia & Americas                      6  \n",
       "Afghanistan, Asia & Americas, Europe & Russia            13  \n",
       "Africa, Algeria, Article                                  8  \n",
       "Africa, Algeria, Asia & Americas                          9  \n",
       "Africa, Algeria, Europe & Russia                         30  \n",
       "Africa, Algeria, News                                    12  \n",
       "Africa, Article, Asia & Americas                         28  \n",
       "Africa, Article, Opinion                                  7  \n",
       "Africa, Asia & Americas, Egypt                           39  \n",
       "Africa, Egypt, Europe & Russia                           46  \n",
       "Africa, Egypt, IMF                                        5  \n",
       "Africa, Egypt, International Organisations               10  \n",
       "Africa, Egypt, Israel                                    43  \n",
       "Africa, Egypt, Middle East                               19  \n",
       "Africa, Egypt, News                                      70  \n",
       "Africa, Europe & Russia, News                            23  \n",
       "Africa, Israel, Middle East                              22  \n",
       "Africa, Middle East, News                                11  \n",
       "Africa, News, Sudan                                      27  \n",
       "Africa, News, Tunisia                                    62  \n",
       "Analysis, Breaking, Exclusive                            18  \n",
       "Analysis, Breaking, comment                              15  \n",
       "Article, Israel, Middle East                             59  \n",
       "Asia & Americas, China, Europe & Russia                  14  \n",
       "Asia & Americas, International Organisations, I...       25  \n",
       "Asia & Americas, Iran, Middle East                       20  \n",
       "Asia & Americas, Israel, Middle East                    156  \n",
       "Asia & Americas, Middle East, News                       35  \n",
       "Blog, News, gaza                                         24  \n",
       "EU, Europe & Russia, International Organisations         16  \n",
       "Europe & Russia, Iran, Middle East                       17  \n",
       "Europe & Russia, Israel, Middle East                     98  \n",
       "Europe & Russia, News, Turkey                            76  \n",
       "Hong Kong, Law & Crime, Politics & Protest               63  \n",
       "International Organisations, Israel, Middle East        103  \n",
       "International Organisations, Middle East, News           21  \n",
       "Iran, Middle East, News                                  51  \n",
       "Israel, Lebanon, Middle East                             41  \n",
       "Israel, Middle East, News                               583  \n",
       "Israel, Middle East, Palestine                           55  \n",
       "Lebanon, Middle East, News                               38  \n",
       "Local                                                    81  \n",
       "Local, News                                              42  \n",
       "Palestine                                                34  \n",
       "World                                                    87  "
      ]
     },
     "execution_count": 8,
     "metadata": {},
     "output_type": "execute_result"
    }
   ],
   "source": [
    "df.groupby(['categories']).agg({'count'}).drop_duplicates()"
   ]
  },
  {
   "cell_type": "code",
   "execution_count": 9,
   "metadata": {
    "execution": {
     "iopub.execute_input": "2024-04-17T20:45:18.840641Z",
     "iopub.status.busy": "2024-04-17T20:45:18.840339Z",
     "iopub.status.idle": "2024-04-17T20:45:18.883206Z",
     "shell.execute_reply": "2024-04-17T20:45:18.882857Z"
    },
    "metadata": {}
   },
   "outputs": [],
   "source": [
    "df['cat_id']       = df['categories'].factorize()[0]\n",
    "df['lang_id']      = df['language'].factorize()[0]\n",
    "df['char_count']   = df['body'].apply(len)\n",
    "df['word_count']   = df['body'].apply(lambda x: len(x.split()))\n",
    "df['word_density'] = df['char_count'] / (df['word_count']+1)\n"
   ]
  },
  {
   "cell_type": "code",
   "execution_count": 10,
   "metadata": {
    "execution": {
     "iopub.execute_input": "2024-04-17T20:45:18.884543Z",
     "iopub.status.busy": "2024-04-17T20:45:18.884450Z",
     "iopub.status.idle": "2024-04-17T20:45:18.897076Z",
     "shell.execute_reply": "2024-04-17T20:45:18.896737Z"
    },
    "metadata": {}
   },
   "outputs": [],
   "source": [
    "df = df.dropna()"
   ]
  },
  {
   "cell_type": "code",
   "execution_count": 11,
   "metadata": {
    "execution": {
     "iopub.execute_input": "2024-04-17T20:45:18.898359Z",
     "iopub.status.busy": "2024-04-17T20:45:18.898270Z",
     "iopub.status.idle": "2024-04-17T20:45:18.909134Z",
     "shell.execute_reply": "2024-04-17T20:45:18.908828Z"
    },
    "metadata": {}
   },
   "outputs": [
    {
     "data": {
      "text/plain": [
       "(5672, 10)"
      ]
     },
     "execution_count": 11,
     "metadata": {},
     "output_type": "execute_result"
    }
   ],
   "source": [
    "df.shape"
   ]
  },
  {
   "cell_type": "code",
   "execution_count": 12,
   "metadata": {
    "execution": {
     "iopub.execute_input": "2024-04-17T20:45:18.910232Z",
     "iopub.status.busy": "2024-04-17T20:45:18.910143Z",
     "iopub.status.idle": "2024-04-17T20:45:18.919194Z",
     "shell.execute_reply": "2024-04-17T20:45:18.918883Z"
    },
    "metadata": {}
   },
   "outputs": [],
   "source": [
    "# sns.set()\n",
    "# sns.pairplot(df, height=3.5, kind=\"reg\", palette=\"husl\", diag_kind=\"auto\")"
   ]
  },
  {
   "cell_type": "code",
   "execution_count": 13,
   "metadata": {
    "execution": {
     "iopub.execute_input": "2024-04-17T20:45:18.920309Z",
     "iopub.status.busy": "2024-04-17T20:45:18.920222Z",
     "iopub.status.idle": "2024-04-17T20:45:18.930062Z",
     "shell.execute_reply": "2024-04-17T20:45:18.929751Z"
    },
    "metadata": {}
   },
   "outputs": [],
   "source": [
    "xtrain, xtest, ytrain, ytest = train_test_split(df['body'], df['categories'], test_size=0.2, random_state=42, shuffle=True)"
   ]
  },
  {
   "cell_type": "code",
   "execution_count": 14,
   "metadata": {
    "execution": {
     "iopub.execute_input": "2024-04-17T20:45:20.439579Z",
     "iopub.status.busy": "2024-04-17T20:45:20.439475Z",
     "iopub.status.idle": "2024-04-17T20:45:20.450028Z",
     "shell.execute_reply": "2024-04-17T20:45:20.449701Z"
    },
    "metadata": {}
   },
   "outputs": [],
   "source": [
    "engines = [\n",
    "      # ('AdaBoostClassifier', AdaBoostClassifier(n_estimators=100)), # 0.02\n",
    "      ('LogisticRegression', SelfTrainingClassifier(LogisticRegression(fit_intercept=False, max_iter=1000))), # 20%\n",
    "      # ('SGDClassifier', SelfTrainingClassifier(SGDClassifier(fit_intercept=False, loss='modified_huber', max_iter=2000))), # 10%\n",
    "      ('RandomForestClassifier', SelfTrainingClassifier(RandomForestClassifier(min_samples_leaf=0.01))), # 16%\n",
    "      ('MLPClassifier', SelfTrainingClassifier(MLPClassifier(max_iter=300))), # 21%\n",
    "      # ('DecisionTreeClassifier', SelfTrainingClassifier(DecisionTreeClassifier(min_samples_leaf=0.01))), # 15%\n",
    "      # ('GradientBoostingClassifier', GradientBoostingClassifier(min_samples_leaf=0.01)), # takes too long > 20 min\n",
    "    ]"
   ]
  },
  {
   "cell_type": "code",
   "execution_count": 15,
   "metadata": {
    "metadata": {}
   },
   "outputs": [
    {
     "name": "stdout",
     "output_type": "stream",
     "text": [
      "[Voting] ....... (1 of 3) Processing LogisticRegression, total= 5.9min\n",
      "[Voting] ... (2 of 3) Processing RandomForestClassifier, total=  21.4s\n",
      "[Voting] ............ (3 of 3) Processing MLPClassifier, total= 3.0min\n"
     ]
    }
   ],
   "source": [
    "vote = Pipeline([\n",
    "      ('vect', TfidfVectorizer(sublinear_tf=True, encoding='latin-1', analyzer='char', lowercase=False, ngram_range=(1, 2), stop_words='english')),\n",
    "      ('tfidf', TfidfTransformer(sublinear_tf=True, use_idf=True, smooth_idf=True)),\n",
    "      ('scaler', MaxAbsScaler(copy=False)),\n",
    "      # ('feature_selection', SelectKBest(score_func=f_classif, k=300)),\n",
    "      ('clf', VotingClassifier(estimators=engines, voting='soft', verbose=True))])\n",
    "vote.fit(xtrain, ytrain)\n",
    "prediction = vote.predict(xtest)\n",
    "score      = vote.score(xtest, prediction)"
   ]
  },
  {
   "cell_type": "code",
   "execution_count": 16,
   "metadata": {},
   "outputs": [
    {
     "name": "stdout",
     "output_type": "stream",
     "text": [
      "0.3030837004405286\n"
     ]
    }
   ],
   "source": [
    "print(accuracy_score(ytest, prediction))"
   ]
  },
  {
   "cell_type": "code",
   "execution_count": 23,
   "metadata": {},
   "outputs": [],
   "source": [
    "# print(classification_report(ytest, prediction))"
   ]
  },
  {
   "cell_type": "code",
   "execution_count": 17,
   "metadata": {
    "execution": {
     "iopub.execute_input": "2024-04-17T20:48:03.569671Z",
     "iopub.status.busy": "2024-04-17T20:48:03.569389Z",
     "iopub.status.idle": "2024-04-17T20:48:03.581000Z",
     "shell.execute_reply": "2024-04-17T20:48:03.580622Z"
    },
    "metadata": {}
   },
   "outputs": [],
   "source": [
    "s = '''\n",
    "\n",
    "‘Guys, you’ve got to hear this,” I said. I was sitting in front of my computer one day in July 2012, with one eye on a screen of share prices and the other on a live stream of the House of Commons Treasury select committee hearings. As the Barclays share price took a graceful swan dive, I pulled my headphones out of the socket and turned up the volume so everyone could hear. My colleagues left their terminals and came around to watch BBC Parliament with me.\n",
    "\n",
    "It didn’t take long to realise what was happening. “Bob’s getting murdered,” someone said.\n",
    "\n",
    "Bob Diamond, the swashbuckling chief executive of Barclays, had been called before the committee to explain exactly what his bank had been playing at in regards to the Libor rate-fixing scandal. The day before his appearance, he had made things very much worse by seeming to accuse the deputy governor of the Bank of England of ordering him to fiddle an important benchmark, then walking back the accusation as soon as it was challenged. He was trying to turn on his legendary charm in front of a committee of angry MPs, and it wasn’t working. On our trading floor, in Mayfair, calls were coming in from all over the City. Investors needed to know what was happening and whether the damage was reparable.\n",
    "\n",
    "A couple of weeks later, the damage was done. The money was gone, Diamond was out of a job and the market, as it always does, had moved on. We were left asking ourselves: How did we get it so wrong?\n",
    "\n",
    "'''"
   ]
  },
  {
   "cell_type": "code",
   "execution_count": 18,
   "metadata": {},
   "outputs": [
    {
     "data": {
      "text/plain": [
       "['Activism', ' Environment', ' Health & Wellness']"
      ]
     },
     "execution_count": 18,
     "metadata": {},
     "output_type": "execute_result"
    }
   ],
   "source": [
    "vote.predict([s])[0].split(',')"
   ]
  },
  {
   "cell_type": "code",
   "execution_count": 19,
   "metadata": {},
   "outputs": [],
   "source": [
    "with lzma.open('./data/voting_classifier.pickle.xz', 'wb') as f:\n",
    "  pickle.dump(vote, f, protocol=5)"
   ]
  },
  {
   "cell_type": "code",
   "execution_count": 234,
   "metadata": {},
   "outputs": [],
   "source": [
    "# dt = DecisionTreeClassifier(min_samples_leaf=1)\n",
    "# dt.fit(vote.named_steps['vect'].transform(xtrain), vote.predict(xtrain))"
   ]
  },
  {
   "cell_type": "code",
   "execution_count": null,
   "metadata": {},
   "outputs": [],
   "source": [
    "def serialize_and_hash(data):\n",
    "    serialized_data = pickle.dumps(data)\n",
    "    data_hash = hashlib.sha256(serialized_data).hexdigest()\n",
    "    return serialized_data, data_hash\n",
    "\n",
    "def verify_integrity(serialized_data, stored_hash):\n",
    "    calculated_hash = hashlib.sha256(serialized_data).hexdigest()\n",
    "    return calculated_hash == stored_hash\n",
    "\n",
    "# Example usage\n",
    "data = b\n",
    "serialized_data, data_hash = serialize_and_hash(data)\n",
    "\n",
    "# When loading\n",
    "# Load serialized_data and stored_hash\n",
    "with lzma.open('./data/voting_classifier.pickle.xz', 'rb') as f:\n",
    "    loaded_serialized_data = f.read()\n",
    "\n",
    "# Load the stored hash\n",
    "with lzma.open('./data/news.json.xz', 'rt') as f:\n",
    "    stored_hash = f.read()\n",
    "\n",
    "if verify_integrity(loaded_serialized_data, stored_hash):\n",
    "    loaded_data = pickle.loads(loaded_serialized_data)\n",
    "    print(\"Data integrity verified!\")\n",
    "else:\n",
    "    print(\"Data integrity verification failed!\")"
   ]
  }
 ],
 "metadata": {
  "kernelspec": {
   "display_name": "Python 3.9.13 64-bit",
   "language": "python",
   "name": "python3"
  },
  "language_info": {
   "codemirror_mode": {
    "name": "ipython",
    "version": 3
   },
   "file_extension": ".py",
   "mimetype": "text/x-python",
   "name": "python",
   "nbconvert_exporter": "python",
   "pygments_lexer": "ipython3",
   "version": "3.11.6"
  },
  "vscode": {
   "interpreter": {
    "hash": "aee8b7b246df8f9039afb4144a1f6fd8d2ca17a180786b69acc140d282b71a49"
   }
  }
 },
 "nbformat": 4,
 "nbformat_minor": 4
}
